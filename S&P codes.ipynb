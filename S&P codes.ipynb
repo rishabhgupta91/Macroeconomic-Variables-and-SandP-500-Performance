{
 "cells": [
  {
   "cell_type": "code",
   "execution_count": 566,
   "id": "1414684c",
   "metadata": {},
   "outputs": [],
   "source": [
    "import pandas as pd\n",
    "import numpy as np\n",
    "from matplotlib import pyplot as plt\n",
    "from sklearn.preprocessing import MinMaxScaler\n",
    "%matplotlib inline\n",
    "import string\n",
    "from statsmodels.formula.api import ols# for running regression\n",
    "from statsmodels.tools.tools import add_constant#for VIF test\n",
    "from statsmodels.stats.outliers_influence import variance_inflation_factor\n",
    "from scipy.stats import chi2#for chi sq test\n",
    "import statsmodels.api as sm\n",
    "from statsmodels.tsa.stattools import adfuller\n",
    "import seaborn as sns\n",
    "import statsmodels.api as sm\n",
    "import warnings\n",
    "from mpl_toolkits import mplot3d\n",
    "from pylab import rcParams\n",
    "from scipy import stats\n",
    "from sklearn.base import TransformerMixin\n",
    "from sklearn.decomposition import PCA\n",
    "from sklearn.preprocessing import StandardScaler\n",
    "import statsmodels.stats.diagnostic as dg\n",
    "from statsmodels.stats.stattools import durbin_watson\n",
    "from statsmodels.compat import lzip\n",
    "import statsmodels.stats.api as sms"
   ]
  },
  {
   "cell_type": "code",
   "execution_count": 389,
   "id": "83915677",
   "metadata": {},
   "outputs": [
    {
     "data": {
      "text/html": [
       "<div>\n",
       "<style scoped>\n",
       "    .dataframe tbody tr th:only-of-type {\n",
       "        vertical-align: middle;\n",
       "    }\n",
       "\n",
       "    .dataframe tbody tr th {\n",
       "        vertical-align: top;\n",
       "    }\n",
       "\n",
       "    .dataframe thead th {\n",
       "        text-align: right;\n",
       "    }\n",
       "</style>\n",
       "<table border=\"1\" class=\"dataframe\">\n",
       "  <thead>\n",
       "    <tr style=\"text-align: right;\">\n",
       "      <th></th>\n",
       "      <th>Dates</th>\n",
       "      <th>SandP</th>\n",
       "      <th>Industrial_Production_Index</th>\n",
       "      <th>M1_money_supply</th>\n",
       "      <th>three_Month_Tbill</th>\n",
       "      <th>Moodys_AAA_rating</th>\n",
       "      <th>CPI</th>\n",
       "      <th>PPI</th>\n",
       "      <th>three_month_CD_rate</th>\n",
       "      <th>Consumer_credit_Owned_and_securitized</th>\n",
       "      <th>Unemployment_rate</th>\n",
       "    </tr>\n",
       "  </thead>\n",
       "  <tbody>\n",
       "    <tr>\n",
       "      <th>0</th>\n",
       "      <td>1/1/1965</td>\n",
       "      <td>86.12</td>\n",
       "      <td>30.422</td>\n",
       "      <td>160.7</td>\n",
       "      <td>3.81</td>\n",
       "      <td>4.43</td>\n",
       "      <td>31.28</td>\n",
       "      <td>31.8</td>\n",
       "      <td>4.13</td>\n",
       "      <td>87.183</td>\n",
       "      <td>4.9</td>\n",
       "    </tr>\n",
       "    <tr>\n",
       "      <th>1</th>\n",
       "      <td>2/1/1965</td>\n",
       "      <td>86.75</td>\n",
       "      <td>30.611</td>\n",
       "      <td>160.9</td>\n",
       "      <td>3.93</td>\n",
       "      <td>4.41</td>\n",
       "      <td>31.28</td>\n",
       "      <td>31.9</td>\n",
       "      <td>4.19</td>\n",
       "      <td>88.152</td>\n",
       "      <td>5.1</td>\n",
       "    </tr>\n",
       "    <tr>\n",
       "      <th>2</th>\n",
       "      <td>3/1/1965</td>\n",
       "      <td>86.83</td>\n",
       "      <td>31.016</td>\n",
       "      <td>161.5</td>\n",
       "      <td>3.93</td>\n",
       "      <td>4.42</td>\n",
       "      <td>31.31</td>\n",
       "      <td>31.9</td>\n",
       "      <td>4.27</td>\n",
       "      <td>88.916</td>\n",
       "      <td>4.7</td>\n",
       "    </tr>\n",
       "    <tr>\n",
       "      <th>3</th>\n",
       "      <td>4/1/1965</td>\n",
       "      <td>87.97</td>\n",
       "      <td>31.151</td>\n",
       "      <td>162.0</td>\n",
       "      <td>3.93</td>\n",
       "      <td>4.43</td>\n",
       "      <td>31.38</td>\n",
       "      <td>32.0</td>\n",
       "      <td>4.28</td>\n",
       "      <td>90.047</td>\n",
       "      <td>4.8</td>\n",
       "    </tr>\n",
       "    <tr>\n",
       "      <th>4</th>\n",
       "      <td>5/1/1965</td>\n",
       "      <td>89.28</td>\n",
       "      <td>31.394</td>\n",
       "      <td>161.7</td>\n",
       "      <td>3.89</td>\n",
       "      <td>4.44</td>\n",
       "      <td>31.48</td>\n",
       "      <td>32.1</td>\n",
       "      <td>4.32</td>\n",
       "      <td>90.886</td>\n",
       "      <td>4.6</td>\n",
       "    </tr>\n",
       "  </tbody>\n",
       "</table>\n",
       "</div>"
      ],
      "text/plain": [
       "      Dates  SandP  Industrial_Production_Index  M1_money_supply  \\\n",
       "0  1/1/1965  86.12                       30.422            160.7   \n",
       "1  2/1/1965  86.75                       30.611            160.9   \n",
       "2  3/1/1965  86.83                       31.016            161.5   \n",
       "3  4/1/1965  87.97                       31.151            162.0   \n",
       "4  5/1/1965  89.28                       31.394            161.7   \n",
       "\n",
       "   three_Month_Tbill  Moodys_AAA_rating    CPI   PPI  three_month_CD_rate  \\\n",
       "0               3.81               4.43  31.28  31.8                 4.13   \n",
       "1               3.93               4.41  31.28  31.9                 4.19   \n",
       "2               3.93               4.42  31.31  31.9                 4.27   \n",
       "3               3.93               4.43  31.38  32.0                 4.28   \n",
       "4               3.89               4.44  31.48  32.1                 4.32   \n",
       "\n",
       "   Consumer_credit_Owned_and_securitized  Unemployment_rate  \n",
       "0                                 87.183                4.9  \n",
       "1                                 88.152                5.1  \n",
       "2                                 88.916                4.7  \n",
       "3                                 90.047                4.8  \n",
       "4                                 90.886                4.6  "
      ]
     },
     "execution_count": 389,
     "metadata": {},
     "output_type": "execute_result"
    }
   ],
   "source": [
    "df = pd.read_csv(\"D:\\\\Admission\\\\Strathclyde\\\\Syllabus\\\\CS982\\\\project\\\\stock exchange data\\\\Python file.csv\")\n",
    "df.head()\n",
    "#this is raw data"
   ]
  },
  {
   "cell_type": "code",
   "execution_count": 390,
   "id": "ba47aa5d",
   "metadata": {},
   "outputs": [
    {
     "data": {
      "text/plain": [
       "<AxesSubplot:>"
      ]
     },
     "execution_count": 390,
     "metadata": {},
     "output_type": "execute_result"
    },
    {
     "data": {
      "image/png": "[encoded data removed]",
      "text/plain": [
       "<Figure size 432x288 with 2 Axes>"
      ]
     },
     "metadata": {
      "needs_background": "light"
     },
     "output_type": "display_data"
    }
   ],
   "source": [
    "df_corr = df.corr()\n",
    "sns.heatmap(df_corr)"
   ]
  },
  {
   "cell_type": "code",
   "execution_count": 4,
   "id": "99a78afe",
   "metadata": {},
   "outputs": [
    {
     "data": {
      "text/html": [
       "<div>\n",
       "<style scoped>\n",
       "    .dataframe tbody tr th:only-of-type {\n",
       "        vertical-align: middle;\n",
       "    }\n",
       "\n",
       "    .dataframe tbody tr th {\n",
       "        vertical-align: top;\n",
       "    }\n",
       "\n",
       "    .dataframe thead th {\n",
       "        text-align: right;\n",
       "    }\n",
       "</style>\n",
       "<table border=\"1\" class=\"dataframe\">\n",
       "  <thead>\n",
       "    <tr style=\"text-align: right;\">\n",
       "      <th></th>\n",
       "      <th>SandP</th>\n",
       "      <th>Industrial_Production_Index</th>\n",
       "      <th>M1_money_supply</th>\n",
       "      <th>three_Month_Tbill</th>\n",
       "      <th>Moodys_AAA_rating</th>\n",
       "      <th>CPI</th>\n",
       "      <th>PPI</th>\n",
       "      <th>three_month_CD_rate</th>\n",
       "      <th>Consumer_credit_Owned_and_securitized</th>\n",
       "      <th>Unemployment_rate</th>\n",
       "    </tr>\n",
       "  </thead>\n",
       "  <tbody>\n",
       "    <tr>\n",
       "      <th>SandP</th>\n",
       "      <td>1.000000</td>\n",
       "      <td>0.840426</td>\n",
       "      <td>0.768968</td>\n",
       "      <td>-0.658160</td>\n",
       "      <td>-0.702455</td>\n",
       "      <td>0.873418</td>\n",
       "      <td>0.838758</td>\n",
       "      <td>-0.653700</td>\n",
       "      <td>0.951414</td>\n",
       "      <td>-0.151703</td>\n",
       "    </tr>\n",
       "    <tr>\n",
       "      <th>Industrial_Production_Index</th>\n",
       "      <td>0.840426</td>\n",
       "      <td>1.000000</td>\n",
       "      <td>0.455151</td>\n",
       "      <td>-0.658125</td>\n",
       "      <td>-0.593308</td>\n",
       "      <td>0.971002</td>\n",
       "      <td>0.945858</td>\n",
       "      <td>-0.651450</td>\n",
       "      <td>0.919742</td>\n",
       "      <td>-0.065521</td>\n",
       "    </tr>\n",
       "    <tr>\n",
       "      <th>M1_money_supply</th>\n",
       "      <td>0.768968</td>\n",
       "      <td>0.455151</td>\n",
       "      <td>1.000000</td>\n",
       "      <td>-0.427800</td>\n",
       "      <td>-0.469998</td>\n",
       "      <td>0.550741</td>\n",
       "      <td>0.533774</td>\n",
       "      <td>-0.427154</td>\n",
       "      <td>0.639203</td>\n",
       "      <td>0.071993</td>\n",
       "    </tr>\n",
       "    <tr>\n",
       "      <th>three_Month_Tbill</th>\n",
       "      <td>-0.658160</td>\n",
       "      <td>-0.658125</td>\n",
       "      <td>-0.427800</td>\n",
       "      <td>1.000000</td>\n",
       "      <td>0.885171</td>\n",
       "      <td>-0.673230</td>\n",
       "      <td>-0.619055</td>\n",
       "      <td>0.992340</td>\n",
       "      <td>-0.732942</td>\n",
       "      <td>0.027790</td>\n",
       "    </tr>\n",
       "    <tr>\n",
       "      <th>Moodys_AAA_rating</th>\n",
       "      <td>-0.702455</td>\n",
       "      <td>-0.593308</td>\n",
       "      <td>-0.469998</td>\n",
       "      <td>0.885171</td>\n",
       "      <td>1.000000</td>\n",
       "      <td>-0.580509</td>\n",
       "      <td>-0.513843</td>\n",
       "      <td>0.873857</td>\n",
       "      <td>-0.716429</td>\n",
       "      <td>0.319427</td>\n",
       "    </tr>\n",
       "    <tr>\n",
       "      <th>CPI</th>\n",
       "      <td>0.873418</td>\n",
       "      <td>0.971002</td>\n",
       "      <td>0.550741</td>\n",
       "      <td>-0.673230</td>\n",
       "      <td>-0.580509</td>\n",
       "      <td>1.000000</td>\n",
       "      <td>0.986326</td>\n",
       "      <td>-0.669821</td>\n",
       "      <td>0.952290</td>\n",
       "      <td>0.058685</td>\n",
       "    </tr>\n",
       "    <tr>\n",
       "      <th>PPI</th>\n",
       "      <td>0.838758</td>\n",
       "      <td>0.945858</td>\n",
       "      <td>0.533774</td>\n",
       "      <td>-0.619055</td>\n",
       "      <td>-0.513843</td>\n",
       "      <td>0.986326</td>\n",
       "      <td>1.000000</td>\n",
       "      <td>-0.613962</td>\n",
       "      <td>0.931611</td>\n",
       "      <td>0.143217</td>\n",
       "    </tr>\n",
       "    <tr>\n",
       "      <th>three_month_CD_rate</th>\n",
       "      <td>-0.653700</td>\n",
       "      <td>-0.651450</td>\n",
       "      <td>-0.427154</td>\n",
       "      <td>0.992340</td>\n",
       "      <td>0.873857</td>\n",
       "      <td>-0.669821</td>\n",
       "      <td>-0.613962</td>\n",
       "      <td>1.000000</td>\n",
       "      <td>-0.722101</td>\n",
       "      <td>0.021415</td>\n",
       "    </tr>\n",
       "    <tr>\n",
       "      <th>Consumer_credit_Owned_and_securitized</th>\n",
       "      <td>0.951414</td>\n",
       "      <td>0.919742</td>\n",
       "      <td>0.639203</td>\n",
       "      <td>-0.732942</td>\n",
       "      <td>-0.716429</td>\n",
       "      <td>0.952290</td>\n",
       "      <td>0.931611</td>\n",
       "      <td>-0.722101</td>\n",
       "      <td>1.000000</td>\n",
       "      <td>-0.038154</td>\n",
       "    </tr>\n",
       "    <tr>\n",
       "      <th>Unemployment_rate</th>\n",
       "      <td>-0.151703</td>\n",
       "      <td>-0.065521</td>\n",
       "      <td>0.071993</td>\n",
       "      <td>0.027790</td>\n",
       "      <td>0.319427</td>\n",
       "      <td>0.058685</td>\n",
       "      <td>0.143217</td>\n",
       "      <td>0.021415</td>\n",
       "      <td>-0.038154</td>\n",
       "      <td>1.000000</td>\n",
       "    </tr>\n",
       "  </tbody>\n",
       "</table>\n",
       "</div>"
      ],
      "text/plain": [
       "                                          SandP  Industrial_Production_Index  \\\n",
       "SandP                                  1.000000                     0.840426   \n",
       "Industrial_Production_Index            0.840426                     1.000000   \n",
       "M1_money_supply                        0.768968                     0.455151   \n",
       "three_Month_Tbill                     -0.658160                    -0.658125   \n",
       "Moodys_AAA_rating                     -0.702455                    -0.593308   \n",
       "CPI                                    0.873418                     0.971002   \n",
       "PPI                                    0.838758                     0.945858   \n",
       "three_month_CD_rate                   -0.653700                    -0.651450   \n",
       "Consumer_credit_Owned_and_securitized  0.951414                     0.919742   \n",
       "Unemployment_rate                     -0.151703                    -0.065521   \n",
       "\n",
       "                                       M1_money_supply  three_Month_Tbill  \\\n",
       "SandP                                         0.768968          -0.658160   \n",
       "Industrial_Production_Index                   0.455151          -0.658125   \n",
       "M1_money_supply                               1.000000          -0.427800   \n",
       "three_Month_Tbill                            -0.427800           1.000000   \n",
       "Moodys_AAA_rating                            -0.469998           0.885171   \n",
       "CPI                                           0.550741          -0.673230   \n",
       "PPI                                           0.533774          -0.619055   \n",
       "three_month_CD_rate                          -0.427154           0.992340   \n",
       "Consumer_credit_Owned_and_securitized         0.639203          -0.732942   \n",
       "Unemployment_rate                             0.071993           0.027790   \n",
       "\n",
       "                                       Moodys_AAA_rating       CPI       PPI  \\\n",
       "SandP                                          -0.702455  0.873418  0.838758   \n",
       "Industrial_Production_Index                    -0.593308  0.971002  0.945858   \n",
       "M1_money_supply                                -0.469998  0.550741  0.533774   \n",
       "three_Month_Tbill                               0.885171 -0.673230 -0.619055   \n",
       "Moodys_AAA_rating                               1.000000 -0.580509 -0.513843   \n",
       "CPI                                            -0.580509  1.000000  0.986326   \n",
       "PPI                                            -0.513843  0.986326  1.000000   \n",
       "three_month_CD_rate                             0.873857 -0.669821 -0.613962   \n",
       "Consumer_credit_Owned_and_securitized          -0.716429  0.952290  0.931611   \n",
       "Unemployment_rate                               0.319427  0.058685  0.143217   \n",
       "\n",
       "                                       three_month_CD_rate  \\\n",
       "SandP                                            -0.653700   \n",
       "Industrial_Production_Index                      -0.651450   \n",
       "M1_money_supply                                  -0.427154   \n",
       "three_Month_Tbill                                 0.992340   \n",
       "Moodys_AAA_rating                                 0.873857   \n",
       "CPI                                              -0.669821   \n",
       "PPI                                              -0.613962   \n",
       "three_month_CD_rate                               1.000000   \n",
       "Consumer_credit_Owned_and_securitized            -0.722101   \n",
       "Unemployment_rate                                 0.021415   \n",
       "\n",
       "                                       Consumer_credit_Owned_and_securitized  \\\n",
       "SandP                                                               0.951414   \n",
       "Industrial_Production_Index                                         0.919742   \n",
       "M1_money_supply                                                     0.639203   \n",
       "three_Month_Tbill                                                  -0.732942   \n",
       "Moodys_AAA_rating                                                  -0.716429   \n",
       "CPI                                                                 0.952290   \n",
       "PPI                                                                 0.931611   \n",
       "three_month_CD_rate                                                -0.722101   \n",
       "Consumer_credit_Owned_and_securitized                               1.000000   \n",
       "Unemployment_rate                                                  -0.038154   \n",
       "\n",
       "                                       Unemployment_rate  \n",
       "SandP                                          -0.151703  \n",
       "Industrial_Production_Index                    -0.065521  \n",
       "M1_money_supply                                 0.071993  \n",
       "three_Month_Tbill                               0.027790  \n",
       "Moodys_AAA_rating                               0.319427  \n",
       "CPI                                             0.058685  \n",
       "PPI                                             0.143217  \n",
       "three_month_CD_rate                             0.021415  \n",
       "Consumer_credit_Owned_and_securitized          -0.038154  \n",
       "Unemployment_rate                               1.000000  "
      ]
     },
     "execution_count": 4,
     "metadata": {},
     "output_type": "execute_result"
    }
   ],
   "source": [
    "df.corr()"
   ]
  },
  {
   "cell_type": "code",
   "execution_count": 391,
   "id": "74cf0df1",
   "metadata": {},
   "outputs": [
    {
     "data": {
      "text/html": [
       "<div>\n",
       "<style scoped>\n",
       "    .dataframe tbody tr th:only-of-type {\n",
       "        vertical-align: middle;\n",
       "    }\n",
       "\n",
       "    .dataframe tbody tr th {\n",
       "        vertical-align: top;\n",
       "    }\n",
       "\n",
       "    .dataframe thead th {\n",
       "        text-align: right;\n",
       "    }\n",
       "</style>\n",
       "<table border=\"1\" class=\"dataframe\">\n",
       "  <thead>\n",
       "    <tr style=\"text-align: right;\">\n",
       "      <th></th>\n",
       "      <th>SandP</th>\n",
       "      <th>Industrial_Production_Index</th>\n",
       "      <th>M1_money_supply</th>\n",
       "      <th>three_Month_Tbill</th>\n",
       "      <th>Moodys_AAA_rating</th>\n",
       "      <th>CPI</th>\n",
       "      <th>PPI</th>\n",
       "      <th>three_month_CD_rate</th>\n",
       "      <th>Consumer_credit_Owned_and_securitized</th>\n",
       "      <th>Unemployment_rate</th>\n",
       "    </tr>\n",
       "  </thead>\n",
       "  <tbody>\n",
       "    <tr>\n",
       "      <th>0</th>\n",
       "      <td>86.12</td>\n",
       "      <td>30.422</td>\n",
       "      <td>160.7</td>\n",
       "      <td>3.81</td>\n",
       "      <td>4.43</td>\n",
       "      <td>31.280</td>\n",
       "      <td>31.8</td>\n",
       "      <td>4.13</td>\n",
       "      <td>87.183</td>\n",
       "      <td>4.9</td>\n",
       "    </tr>\n",
       "    <tr>\n",
       "      <th>1</th>\n",
       "      <td>86.75</td>\n",
       "      <td>30.611</td>\n",
       "      <td>160.9</td>\n",
       "      <td>3.93</td>\n",
       "      <td>4.41</td>\n",
       "      <td>31.280</td>\n",
       "      <td>31.9</td>\n",
       "      <td>4.19</td>\n",
       "      <td>88.152</td>\n",
       "      <td>5.1</td>\n",
       "    </tr>\n",
       "    <tr>\n",
       "      <th>2</th>\n",
       "      <td>86.83</td>\n",
       "      <td>31.016</td>\n",
       "      <td>161.5</td>\n",
       "      <td>3.93</td>\n",
       "      <td>4.42</td>\n",
       "      <td>31.310</td>\n",
       "      <td>31.9</td>\n",
       "      <td>4.27</td>\n",
       "      <td>88.916</td>\n",
       "      <td>4.7</td>\n",
       "    </tr>\n",
       "    <tr>\n",
       "      <th>3</th>\n",
       "      <td>87.97</td>\n",
       "      <td>31.151</td>\n",
       "      <td>162.0</td>\n",
       "      <td>3.93</td>\n",
       "      <td>4.43</td>\n",
       "      <td>31.380</td>\n",
       "      <td>32.0</td>\n",
       "      <td>4.28</td>\n",
       "      <td>90.047</td>\n",
       "      <td>4.8</td>\n",
       "    </tr>\n",
       "    <tr>\n",
       "      <th>4</th>\n",
       "      <td>89.28</td>\n",
       "      <td>31.394</td>\n",
       "      <td>161.7</td>\n",
       "      <td>3.89</td>\n",
       "      <td>4.44</td>\n",
       "      <td>31.480</td>\n",
       "      <td>32.1</td>\n",
       "      <td>4.32</td>\n",
       "      <td>90.886</td>\n",
       "      <td>4.6</td>\n",
       "    </tr>\n",
       "    <tr>\n",
       "      <th>...</th>\n",
       "      <td>...</td>\n",
       "      <td>...</td>\n",
       "      <td>...</td>\n",
       "      <td>...</td>\n",
       "      <td>...</td>\n",
       "      <td>...</td>\n",
       "      <td>...</td>\n",
       "      <td>...</td>\n",
       "      <td>...</td>\n",
       "      <td>...</td>\n",
       "    </tr>\n",
       "    <tr>\n",
       "      <th>675</th>\n",
       "      <td>4141.18</td>\n",
       "      <td>99.230</td>\n",
       "      <td>18915.7</td>\n",
       "      <td>0.02</td>\n",
       "      <td>2.90</td>\n",
       "      <td>266.832</td>\n",
       "      <td>217.9</td>\n",
       "      <td>0.11</td>\n",
       "      <td>4241.604</td>\n",
       "      <td>6.1</td>\n",
       "    </tr>\n",
       "    <tr>\n",
       "      <th>676</th>\n",
       "      <td>4167.85</td>\n",
       "      <td>99.850</td>\n",
       "      <td>19192.9</td>\n",
       "      <td>0.02</td>\n",
       "      <td>2.96</td>\n",
       "      <td>268.551</td>\n",
       "      <td>224.9</td>\n",
       "      <td>0.10</td>\n",
       "      <td>4276.989</td>\n",
       "      <td>5.8</td>\n",
       "    </tr>\n",
       "    <tr>\n",
       "      <th>677</th>\n",
       "      <td>4238.49</td>\n",
       "      <td>100.340</td>\n",
       "      <td>19238.2</td>\n",
       "      <td>0.04</td>\n",
       "      <td>2.79</td>\n",
       "      <td>270.981</td>\n",
       "      <td>228.5</td>\n",
       "      <td>0.09</td>\n",
       "      <td>4315.176</td>\n",
       "      <td>5.9</td>\n",
       "    </tr>\n",
       "    <tr>\n",
       "      <th>678</th>\n",
       "      <td>4363.71</td>\n",
       "      <td>101.187</td>\n",
       "      <td>19401.7</td>\n",
       "      <td>0.05</td>\n",
       "      <td>2.57</td>\n",
       "      <td>272.265</td>\n",
       "      <td>231.2</td>\n",
       "      <td>0.10</td>\n",
       "      <td>4332.450</td>\n",
       "      <td>5.4</td>\n",
       "    </tr>\n",
       "    <tr>\n",
       "      <th>679</th>\n",
       "      <td>4454.21</td>\n",
       "      <td>101.595</td>\n",
       "      <td>19677.7</td>\n",
       "      <td>0.05</td>\n",
       "      <td>2.55</td>\n",
       "      <td>273.012</td>\n",
       "      <td>232.9</td>\n",
       "      <td>0.10</td>\n",
       "      <td>4346.829</td>\n",
       "      <td>5.2</td>\n",
       "    </tr>\n",
       "  </tbody>\n",
       "</table>\n",
       "<p>680 rows × 10 columns</p>\n",
       "</div>"
      ],
      "text/plain": [
       "       SandP  Industrial_Production_Index  M1_money_supply  three_Month_Tbill  \\\n",
       "0      86.12                       30.422            160.7               3.81   \n",
       "1      86.75                       30.611            160.9               3.93   \n",
       "2      86.83                       31.016            161.5               3.93   \n",
       "3      87.97                       31.151            162.0               3.93   \n",
       "4      89.28                       31.394            161.7               3.89   \n",
       "..       ...                          ...              ...                ...   \n",
       "675  4141.18                       99.230          18915.7               0.02   \n",
       "676  4167.85                       99.850          19192.9               0.02   \n",
       "677  4238.49                      100.340          19238.2               0.04   \n",
       "678  4363.71                      101.187          19401.7               0.05   \n",
       "679  4454.21                      101.595          19677.7               0.05   \n",
       "\n",
       "     Moodys_AAA_rating      CPI    PPI  three_month_CD_rate  \\\n",
       "0                 4.43   31.280   31.8                 4.13   \n",
       "1                 4.41   31.280   31.9                 4.19   \n",
       "2                 4.42   31.310   31.9                 4.27   \n",
       "3                 4.43   31.380   32.0                 4.28   \n",
       "4                 4.44   31.480   32.1                 4.32   \n",
       "..                 ...      ...    ...                  ...   \n",
       "675               2.90  266.832  217.9                 0.11   \n",
       "676               2.96  268.551  224.9                 0.10   \n",
       "677               2.79  270.981  228.5                 0.09   \n",
       "678               2.57  272.265  231.2                 0.10   \n",
       "679               2.55  273.012  232.9                 0.10   \n",
       "\n",
       "     Consumer_credit_Owned_and_securitized  Unemployment_rate  \n",
       "0                                   87.183                4.9  \n",
       "1                                   88.152                5.1  \n",
       "2                                   88.916                4.7  \n",
       "3                                   90.047                4.8  \n",
       "4                                   90.886                4.6  \n",
       "..                                     ...                ...  \n",
       "675                               4241.604                6.1  \n",
       "676                               4276.989                5.8  \n",
       "677                               4315.176                5.9  \n",
       "678                               4332.450                5.4  \n",
       "679                               4346.829                5.2  \n",
       "\n",
       "[680 rows x 10 columns]"
      ]
     },
     "execution_count": 391,
     "metadata": {},
     "output_type": "execute_result"
    }
   ],
   "source": [
    "df1 = df.drop(columns=['Dates'])\n",
    "df1"
   ]
  },
  {
   "cell_type": "code",
   "execution_count": 124,
   "id": "7d73e689",
   "metadata": {},
   "outputs": [],
   "source": [
    "Dates = df.Dates\n",
    "SandP = df.SandP\n",
    "IPI = df.Industrial_Production_Index\n",
    "M1 = df.M1_money_supply\n",
    "Tbill = df.three_Month_Tbill\n",
    "AAA = df.Moodys_AAA_rating\n",
    "CPI = df.CPI\n",
    "PPI = df.PPI\n",
    "CDrate = df.three_month_CD_rate\n",
    "Credit = df.Consumer_credit_Owned_and_securitized\n",
    "Unemp = df.Unemployment_rate"
   ]
  },
  {
   "cell_type": "code",
   "execution_count": 7,
   "id": "d1c82103",
   "metadata": {
    "scrolled": true
   },
   "outputs": [],
   "source": [
    "#plt.scatter(y=SandP,x=IPI)\n",
    "#plt.show()"
   ]
  },
  {
   "cell_type": "code",
   "execution_count": 392,
   "id": "2e60c3a5",
   "metadata": {},
   "outputs": [
    {
     "data": {
      "text/plain": [
       "<AxesSubplot:>"
      ]
     },
     "execution_count": 392,
     "metadata": {},
     "output_type": "execute_result"
    },
    {
     "data": {
      "image/png": "[encoded data removed]",
      "text/plain": [
       "<Figure size 432x288 with 1 Axes>"
      ]
     },
     "metadata": {
      "needs_background": "light"
     },
     "output_type": "display_data"
    }
   ],
   "source": [
    "df.boxplot(column=['three_Month_Tbill','three_month_CD_rate','Moodys_AAA_rating'])"
   ]
  },
  {
   "cell_type": "code",
   "execution_count": 9,
   "id": "519f6ad5",
   "metadata": {},
   "outputs": [
    {
     "data": {
      "text/plain": [
       "Text(0.5, 1.0, 'S&P 500')"
      ]
     },
     "execution_count": 9,
     "metadata": {},
     "output_type": "execute_result"
    },
    {
     "data": {
      "image/png": "[encoded data removed]",
      "text/plain": [
       "<Figure size 432x288 with 1 Axes>"
      ]
     },
     "metadata": {
      "needs_background": "light"
     },
     "output_type": "display_data"
    }
   ],
   "source": [
    "plt.plot(SandP)\n",
    "plt.xlabel(\"01/1965 to 08/2021 - 680 observations\")\n",
    "plt.ylabel(\"index value\")\n",
    "plt.title(\"S&P 500\", weight = \"bold\")"
   ]
  },
  {
   "cell_type": "code",
   "execution_count": 10,
   "id": "cdc2dd83",
   "metadata": {},
   "outputs": [
    {
     "data": {
      "text/plain": [
       "Text(0.5, 1.0, 'Consumer price index')"
      ]
     },
     "execution_count": 10,
     "metadata": {},
     "output_type": "execute_result"
    },
    {
     "data": {
      "image/png": "[encoded data removed]",
      "text/plain": [
       "<Figure size 432x288 with 1 Axes>"
      ]
     },
     "metadata": {
      "needs_background": "light"
     },
     "output_type": "display_data"
    }
   ],
   "source": [
    "plt.plot(CPI)\n",
    "plt.xlabel(\"01/1965 to 08/2021 - 680 observations\")\n",
    "plt.ylabel(\"index value\")\n",
    "plt.title(\"Consumer price index\", weight = \"bold\")"
   ]
  },
  {
   "cell_type": "code",
   "execution_count": 11,
   "id": "38492e94",
   "metadata": {},
   "outputs": [
    {
     "data": {
      "text/plain": [
       "Text(0.5, 1.0, 'Credit owned & securitized')"
      ]
     },
     "execution_count": 11,
     "metadata": {},
     "output_type": "execute_result"
    },
    {
     "data": {
      "image/png": "[encoded data removed]",
      "text/plain": [
       "<Figure size 432x288 with 1 Axes>"
      ]
     },
     "metadata": {
      "needs_background": "light"
     },
     "output_type": "display_data"
    }
   ],
   "source": [
    "plt.plot(Credit)\n",
    "plt.xlabel(\"01/1965 to 08/2021 - 680 observations\")\n",
    "plt.ylabel(\"$ Billion\")\n",
    "plt.title(\"Credit owned & securitized\", weight = \"bold\")"
   ]
  },
  {
   "cell_type": "code",
   "execution_count": 12,
   "id": "93dfc77a",
   "metadata": {},
   "outputs": [],
   "source": [
    "#we'll pplot two or three variables and show that it is clearly visible that they all are non stationary time series\n",
    "#so we'll directly compute first order differencing and then apply ADF test"
   ]
  },
  {
   "cell_type": "markdown",
   "id": "2921d19d",
   "metadata": {},
   "source": [
    "### First order differencing"
   ]
  },
  {
   "cell_type": "code",
   "execution_count": 393,
   "id": "c93b8e5b",
   "metadata": {},
   "outputs": [
    {
     "data": {
      "text/html": [
       "<div>\n",
       "<style scoped>\n",
       "    .dataframe tbody tr th:only-of-type {\n",
       "        vertical-align: middle;\n",
       "    }\n",
       "\n",
       "    .dataframe tbody tr th {\n",
       "        vertical-align: top;\n",
       "    }\n",
       "\n",
       "    .dataframe thead th {\n",
       "        text-align: right;\n",
       "    }\n",
       "</style>\n",
       "<table border=\"1\" class=\"dataframe\">\n",
       "  <thead>\n",
       "    <tr style=\"text-align: right;\">\n",
       "      <th></th>\n",
       "      <th>SandP</th>\n",
       "      <th>Industrial_Production_Index</th>\n",
       "      <th>M1_money_supply</th>\n",
       "      <th>three_Month_Tbill</th>\n",
       "      <th>Moodys_AAA_rating</th>\n",
       "      <th>CPI</th>\n",
       "      <th>PPI</th>\n",
       "      <th>three_month_CD_rate</th>\n",
       "      <th>Consumer_credit_Owned_and_securitized</th>\n",
       "      <th>Unemployment_rate</th>\n",
       "    </tr>\n",
       "  </thead>\n",
       "  <tbody>\n",
       "    <tr>\n",
       "      <th>0</th>\n",
       "      <td>NaN</td>\n",
       "      <td>NaN</td>\n",
       "      <td>NaN</td>\n",
       "      <td>NaN</td>\n",
       "      <td>NaN</td>\n",
       "      <td>NaN</td>\n",
       "      <td>NaN</td>\n",
       "      <td>NaN</td>\n",
       "      <td>NaN</td>\n",
       "      <td>NaN</td>\n",
       "    </tr>\n",
       "    <tr>\n",
       "      <th>1</th>\n",
       "      <td>0.63</td>\n",
       "      <td>0.189</td>\n",
       "      <td>0.2</td>\n",
       "      <td>0.12</td>\n",
       "      <td>-0.02</td>\n",
       "      <td>0.000</td>\n",
       "      <td>0.1</td>\n",
       "      <td>0.06</td>\n",
       "      <td>0.969</td>\n",
       "      <td>0.2</td>\n",
       "    </tr>\n",
       "    <tr>\n",
       "      <th>2</th>\n",
       "      <td>0.08</td>\n",
       "      <td>0.405</td>\n",
       "      <td>0.6</td>\n",
       "      <td>0.00</td>\n",
       "      <td>0.01</td>\n",
       "      <td>0.030</td>\n",
       "      <td>0.0</td>\n",
       "      <td>0.08</td>\n",
       "      <td>0.764</td>\n",
       "      <td>-0.4</td>\n",
       "    </tr>\n",
       "    <tr>\n",
       "      <th>3</th>\n",
       "      <td>1.14</td>\n",
       "      <td>0.135</td>\n",
       "      <td>0.5</td>\n",
       "      <td>0.00</td>\n",
       "      <td>0.01</td>\n",
       "      <td>0.070</td>\n",
       "      <td>0.1</td>\n",
       "      <td>0.01</td>\n",
       "      <td>1.131</td>\n",
       "      <td>0.1</td>\n",
       "    </tr>\n",
       "    <tr>\n",
       "      <th>4</th>\n",
       "      <td>1.31</td>\n",
       "      <td>0.243</td>\n",
       "      <td>-0.3</td>\n",
       "      <td>-0.04</td>\n",
       "      <td>0.01</td>\n",
       "      <td>0.100</td>\n",
       "      <td>0.1</td>\n",
       "      <td>0.04</td>\n",
       "      <td>0.839</td>\n",
       "      <td>-0.2</td>\n",
       "    </tr>\n",
       "    <tr>\n",
       "      <th>...</th>\n",
       "      <td>...</td>\n",
       "      <td>...</td>\n",
       "      <td>...</td>\n",
       "      <td>...</td>\n",
       "      <td>...</td>\n",
       "      <td>...</td>\n",
       "      <td>...</td>\n",
       "      <td>...</td>\n",
       "      <td>...</td>\n",
       "      <td>...</td>\n",
       "    </tr>\n",
       "    <tr>\n",
       "      <th>675</th>\n",
       "      <td>230.67</td>\n",
       "      <td>0.068</td>\n",
       "      <td>246.3</td>\n",
       "      <td>-0.01</td>\n",
       "      <td>-0.14</td>\n",
       "      <td>2.039</td>\n",
       "      <td>2.9</td>\n",
       "      <td>0.01</td>\n",
       "      <td>18.714</td>\n",
       "      <td>0.1</td>\n",
       "    </tr>\n",
       "    <tr>\n",
       "      <th>676</th>\n",
       "      <td>26.67</td>\n",
       "      <td>0.620</td>\n",
       "      <td>277.2</td>\n",
       "      <td>0.00</td>\n",
       "      <td>0.06</td>\n",
       "      <td>1.719</td>\n",
       "      <td>7.0</td>\n",
       "      <td>-0.01</td>\n",
       "      <td>35.385</td>\n",
       "      <td>-0.3</td>\n",
       "    </tr>\n",
       "    <tr>\n",
       "      <th>677</th>\n",
       "      <td>70.64</td>\n",
       "      <td>0.490</td>\n",
       "      <td>45.3</td>\n",
       "      <td>0.02</td>\n",
       "      <td>-0.17</td>\n",
       "      <td>2.430</td>\n",
       "      <td>3.6</td>\n",
       "      <td>-0.01</td>\n",
       "      <td>38.187</td>\n",
       "      <td>0.1</td>\n",
       "    </tr>\n",
       "    <tr>\n",
       "      <th>678</th>\n",
       "      <td>125.22</td>\n",
       "      <td>0.847</td>\n",
       "      <td>163.5</td>\n",
       "      <td>0.01</td>\n",
       "      <td>-0.22</td>\n",
       "      <td>1.284</td>\n",
       "      <td>2.7</td>\n",
       "      <td>0.01</td>\n",
       "      <td>17.274</td>\n",
       "      <td>-0.5</td>\n",
       "    </tr>\n",
       "    <tr>\n",
       "      <th>679</th>\n",
       "      <td>90.50</td>\n",
       "      <td>0.408</td>\n",
       "      <td>276.0</td>\n",
       "      <td>0.00</td>\n",
       "      <td>-0.02</td>\n",
       "      <td>0.747</td>\n",
       "      <td>1.7</td>\n",
       "      <td>0.00</td>\n",
       "      <td>14.379</td>\n",
       "      <td>-0.2</td>\n",
       "    </tr>\n",
       "  </tbody>\n",
       "</table>\n",
       "<p>680 rows × 10 columns</p>\n",
       "</div>"
      ],
      "text/plain": [
       "      SandP  Industrial_Production_Index  M1_money_supply  three_Month_Tbill  \\\n",
       "0       NaN                          NaN              NaN                NaN   \n",
       "1      0.63                        0.189              0.2               0.12   \n",
       "2      0.08                        0.405              0.6               0.00   \n",
       "3      1.14                        0.135              0.5               0.00   \n",
       "4      1.31                        0.243             -0.3              -0.04   \n",
       "..      ...                          ...              ...                ...   \n",
       "675  230.67                        0.068            246.3              -0.01   \n",
       "676   26.67                        0.620            277.2               0.00   \n",
       "677   70.64                        0.490             45.3               0.02   \n",
       "678  125.22                        0.847            163.5               0.01   \n",
       "679   90.50                        0.408            276.0               0.00   \n",
       "\n",
       "     Moodys_AAA_rating    CPI  PPI  three_month_CD_rate  \\\n",
       "0                  NaN    NaN  NaN                  NaN   \n",
       "1                -0.02  0.000  0.1                 0.06   \n",
       "2                 0.01  0.030  0.0                 0.08   \n",
       "3                 0.01  0.070  0.1                 0.01   \n",
       "4                 0.01  0.100  0.1                 0.04   \n",
       "..                 ...    ...  ...                  ...   \n",
       "675              -0.14  2.039  2.9                 0.01   \n",
       "676               0.06  1.719  7.0                -0.01   \n",
       "677              -0.17  2.430  3.6                -0.01   \n",
       "678              -0.22  1.284  2.7                 0.01   \n",
       "679              -0.02  0.747  1.7                 0.00   \n",
       "\n",
       "     Consumer_credit_Owned_and_securitized  Unemployment_rate  \n",
       "0                                      NaN                NaN  \n",
       "1                                    0.969                0.2  \n",
       "2                                    0.764               -0.4  \n",
       "3                                    1.131                0.1  \n",
       "4                                    0.839               -0.2  \n",
       "..                                     ...                ...  \n",
       "675                                 18.714                0.1  \n",
       "676                                 35.385               -0.3  \n",
       "677                                 38.187                0.1  \n",
       "678                                 17.274               -0.5  \n",
       "679                                 14.379               -0.2  \n",
       "\n",
       "[680 rows x 10 columns]"
      ]
     },
     "execution_count": 393,
     "metadata": {},
     "output_type": "execute_result"
    }
   ],
   "source": [
    "df2 = df1.diff()\n",
    "df2"
   ]
  },
  {
   "cell_type": "code",
   "execution_count": 394,
   "id": "b8282371",
   "metadata": {},
   "outputs": [
    {
     "data": {
      "text/html": [
       "<div>\n",
       "<style scoped>\n",
       "    .dataframe tbody tr th:only-of-type {\n",
       "        vertical-align: middle;\n",
       "    }\n",
       "\n",
       "    .dataframe tbody tr th {\n",
       "        vertical-align: top;\n",
       "    }\n",
       "\n",
       "    .dataframe thead th {\n",
       "        text-align: right;\n",
       "    }\n",
       "</style>\n",
       "<table border=\"1\" class=\"dataframe\">\n",
       "  <thead>\n",
       "    <tr style=\"text-align: right;\">\n",
       "      <th></th>\n",
       "      <th>SandP</th>\n",
       "      <th>Industrial_Production_Index</th>\n",
       "      <th>M1_money_supply</th>\n",
       "      <th>three_Month_Tbill</th>\n",
       "      <th>Moodys_AAA_rating</th>\n",
       "      <th>CPI</th>\n",
       "      <th>PPI</th>\n",
       "      <th>three_month_CD_rate</th>\n",
       "      <th>Consumer_credit_Owned_and_securitized</th>\n",
       "      <th>Unemployment_rate</th>\n",
       "    </tr>\n",
       "  </thead>\n",
       "  <tbody>\n",
       "    <tr>\n",
       "      <th>1</th>\n",
       "      <td>0.63</td>\n",
       "      <td>0.189</td>\n",
       "      <td>0.2</td>\n",
       "      <td>0.12</td>\n",
       "      <td>-0.02</td>\n",
       "      <td>0.00</td>\n",
       "      <td>0.1</td>\n",
       "      <td>0.06</td>\n",
       "      <td>0.969</td>\n",
       "      <td>0.2</td>\n",
       "    </tr>\n",
       "    <tr>\n",
       "      <th>2</th>\n",
       "      <td>0.08</td>\n",
       "      <td>0.405</td>\n",
       "      <td>0.6</td>\n",
       "      <td>0.00</td>\n",
       "      <td>0.01</td>\n",
       "      <td>0.03</td>\n",
       "      <td>0.0</td>\n",
       "      <td>0.08</td>\n",
       "      <td>0.764</td>\n",
       "      <td>-0.4</td>\n",
       "    </tr>\n",
       "    <tr>\n",
       "      <th>3</th>\n",
       "      <td>1.14</td>\n",
       "      <td>0.135</td>\n",
       "      <td>0.5</td>\n",
       "      <td>0.00</td>\n",
       "      <td>0.01</td>\n",
       "      <td>0.07</td>\n",
       "      <td>0.1</td>\n",
       "      <td>0.01</td>\n",
       "      <td>1.131</td>\n",
       "      <td>0.1</td>\n",
       "    </tr>\n",
       "    <tr>\n",
       "      <th>4</th>\n",
       "      <td>1.31</td>\n",
       "      <td>0.243</td>\n",
       "      <td>-0.3</td>\n",
       "      <td>-0.04</td>\n",
       "      <td>0.01</td>\n",
       "      <td>0.10</td>\n",
       "      <td>0.1</td>\n",
       "      <td>0.04</td>\n",
       "      <td>0.839</td>\n",
       "      <td>-0.2</td>\n",
       "    </tr>\n",
       "    <tr>\n",
       "      <th>5</th>\n",
       "      <td>-4.24</td>\n",
       "      <td>0.244</td>\n",
       "      <td>0.5</td>\n",
       "      <td>-0.09</td>\n",
       "      <td>0.02</td>\n",
       "      <td>0.13</td>\n",
       "      <td>0.3</td>\n",
       "      <td>-0.01</td>\n",
       "      <td>0.944</td>\n",
       "      <td>0.0</td>\n",
       "    </tr>\n",
       "  </tbody>\n",
       "</table>\n",
       "</div>"
      ],
      "text/plain": [
       "   SandP  Industrial_Production_Index  M1_money_supply  three_Month_Tbill  \\\n",
       "1   0.63                        0.189              0.2               0.12   \n",
       "2   0.08                        0.405              0.6               0.00   \n",
       "3   1.14                        0.135              0.5               0.00   \n",
       "4   1.31                        0.243             -0.3              -0.04   \n",
       "5  -4.24                        0.244              0.5              -0.09   \n",
       "\n",
       "   Moodys_AAA_rating   CPI  PPI  three_month_CD_rate  \\\n",
       "1              -0.02  0.00  0.1                 0.06   \n",
       "2               0.01  0.03  0.0                 0.08   \n",
       "3               0.01  0.07  0.1                 0.01   \n",
       "4               0.01  0.10  0.1                 0.04   \n",
       "5               0.02  0.13  0.3                -0.01   \n",
       "\n",
       "   Consumer_credit_Owned_and_securitized  Unemployment_rate  \n",
       "1                                  0.969                0.2  \n",
       "2                                  0.764               -0.4  \n",
       "3                                  1.131                0.1  \n",
       "4                                  0.839               -0.2  \n",
       "5                                  0.944                0.0  "
      ]
     },
     "execution_count": 394,
     "metadata": {},
     "output_type": "execute_result"
    }
   ],
   "source": [
    "df3 = df2.iloc[1: , :]\n",
    "df3.head()"
   ]
  },
  {
   "cell_type": "code",
   "execution_count": 127,
   "id": "f48743cc",
   "metadata": {},
   "outputs": [
    {
     "data": {
      "text/plain": [
       "Text(0.5, 1.0, 'CPI after differencing')"
      ]
     },
     "execution_count": 127,
     "metadata": {},
     "output_type": "execute_result"
    },
    {
     "data": {
      "image/png": "[encoded data removed]",
      "text/plain": [
       "<Figure size 432x288 with 1 Axes>"
      ]
     },
     "metadata": {
      "needs_background": "light"
     },
     "output_type": "display_data"
    }
   ],
   "source": [
    "plt.plot(df2.CPI,color=\"green\")\n",
    "plt.xlabel(\"02/1965 to 08/2021 - 679 observations\")\n",
    "plt.ylabel(\"index value\")\n",
    "plt.title(\"CPI after differencing\", weight = \"bold\")"
   ]
  },
  {
   "cell_type": "code",
   "execution_count": 16,
   "id": "8cca323e",
   "metadata": {},
   "outputs": [
    {
     "data": {
      "text/plain": [
       "Text(0.5, 1.0, 'Credit after differencing')"
      ]
     },
     "execution_count": 16,
     "metadata": {},
     "output_type": "execute_result"
    },
    {
     "data": {
      "image/png": "[encoded data removed]",
      "text/plain": [
       "<Figure size 432x288 with 1 Axes>"
      ]
     },
     "metadata": {
      "needs_background": "light"
     },
     "output_type": "display_data"
    }
   ],
   "source": [
    "plt.plot(df2.Consumer_credit_Owned_and_securitized,color=\"green\")\n",
    "plt.xlabel(\"02/1965 to 08/2021 - 679 observations\")\n",
    "plt.ylabel(\"$ Billion\")\n",
    "plt.title(\"Credit after differencing\", weight = \"bold\")"
   ]
  },
  {
   "cell_type": "code",
   "execution_count": 17,
   "id": "8432202d",
   "metadata": {},
   "outputs": [
    {
     "data": {
      "text/plain": [
       "Text(0.5, 1.0, 'S&P 500 after differencing')"
      ]
     },
     "execution_count": 17,
     "metadata": {},
     "output_type": "execute_result"
    },
    {
     "data": {
      "image/png": "[encoded data removed]",
      "text/plain": [
       "<Figure size 432x288 with 1 Axes>"
      ]
     },
     "metadata": {
      "needs_background": "light"
     },
     "output_type": "display_data"
    }
   ],
   "source": [
    "plt.plot(df2.SandP, color=\"green\")\n",
    "plt.xlabel(\"02/1965 to 08/2021 - 679 observations\")\n",
    "plt.ylabel(\"index value\")\n",
    "plt.title(\"S&P 500 after differencing\", weight = \"bold\")"
   ]
  },
  {
   "cell_type": "markdown",
   "id": "42200dcc",
   "metadata": {},
   "source": [
    "### Dickey Fuller test"
   ]
  },
  {
   "cell_type": "code",
   "execution_count": 18,
   "id": "8ef77f72",
   "metadata": {},
   "outputs": [],
   "source": [
    "#now we'll apply ADF test on this data"
   ]
  },
  {
   "cell_type": "code",
   "execution_count": 395,
   "id": "edce6e56",
   "metadata": {},
   "outputs": [
    {
     "name": "stdout",
     "output_type": "stream",
     "text": [
      "p-value: 0.130492\n",
      "\n",
      "p-value: 0.000000\n",
      "\n",
      "p-value: 0.000000\n",
      "\n",
      "p-value: 0.000000\n",
      "\n",
      "p-value: 0.000000\n",
      "\n",
      "p-value: 0.000457\n",
      "\n",
      "p-value: 0.000000\n",
      "\n",
      "p-value: 0.000001\n",
      "\n",
      "p-value: 0.000033\n",
      "\n",
      "p-value: 0.000000\n"
     ]
    }
   ],
   "source": [
    "Z = df3[\"SandP\"]\n",
    "result = adfuller(Z)\n",
    "Z1 = df3[\"Industrial_Production_Index\"]\n",
    "result1 = adfuller(Z1)\n",
    "Z2 = df3[\"M1_money_supply\"]\n",
    "result2 = adfuller(Z2)\n",
    "Z3 = df3[\"three_Month_Tbill\"]\n",
    "result3 = adfuller(Z3)\n",
    "Z4 = df3[\"Moodys_AAA_rating\"]\n",
    "result4 = adfuller(Z4)\n",
    "Z5 = df3[\"CPI\"]\n",
    "result5 = adfuller(Z5)\n",
    "Z6 = df3[\"PPI\"]\n",
    "result6 = adfuller(Z6)\n",
    "Z7 = df3[\"three_month_CD_rate\"]\n",
    "result7 = adfuller(Z7)\n",
    "Z8 = df3[\"Consumer_credit_Owned_and_securitized\"]\n",
    "result8 = adfuller(Z8)\n",
    "Z9 = df3[\"Unemployment_rate\"]\n",
    "result9 = adfuller(Z9)\n",
    "print('p-value: %f' % result[1])\n",
    "print()\n",
    "print('p-value: %f' % result1[1])\n",
    "print()\n",
    "print('p-value: %f' % result2[1])\n",
    "print()\n",
    "print('p-value: %f' % result3[1])\n",
    "print()\n",
    "print('p-value: %f' % result4[1])\n",
    "print()\n",
    "print('p-value: %f' % result5[1])\n",
    "print()\n",
    "print('p-value: %f' % result6[1])\n",
    "print()\n",
    "print('p-value: %f' % result7[1])\n",
    "print()\n",
    "print('p-value: %f' % result8[1])\n",
    "print()\n",
    "print('p-value: %f' % result9[1])"
   ]
  },
  {
   "cell_type": "code",
   "execution_count": 20,
   "id": "ae4cd9e5",
   "metadata": {},
   "outputs": [],
   "source": [
    "#since p value of SandP is more than 5 percent, we fail to reject the null and the data is non stationary for SandP\n",
    "#For independent variables, p value of all of them is coming out to be less than 5 percent, means they all are stationary \n",
    "#now compute second order differencing series for all dependent as well as independent variables"
   ]
  },
  {
   "cell_type": "markdown",
   "id": "3368fc56",
   "metadata": {},
   "source": [
    "### Second order differencing"
   ]
  },
  {
   "cell_type": "code",
   "execution_count": 396,
   "id": "5afdc5bf",
   "metadata": {},
   "outputs": [
    {
     "data": {
      "text/html": [
       "<div>\n",
       "<style scoped>\n",
       "    .dataframe tbody tr th:only-of-type {\n",
       "        vertical-align: middle;\n",
       "    }\n",
       "\n",
       "    .dataframe tbody tr th {\n",
       "        vertical-align: top;\n",
       "    }\n",
       "\n",
       "    .dataframe thead th {\n",
       "        text-align: right;\n",
       "    }\n",
       "</style>\n",
       "<table border=\"1\" class=\"dataframe\">\n",
       "  <thead>\n",
       "    <tr style=\"text-align: right;\">\n",
       "      <th></th>\n",
       "      <th>SandP</th>\n",
       "      <th>Industrial_Production_Index</th>\n",
       "      <th>M1_money_supply</th>\n",
       "      <th>three_Month_Tbill</th>\n",
       "      <th>Moodys_AAA_rating</th>\n",
       "      <th>CPI</th>\n",
       "      <th>PPI</th>\n",
       "      <th>three_month_CD_rate</th>\n",
       "      <th>Consumer_credit_Owned_and_securitized</th>\n",
       "      <th>Unemployment_rate</th>\n",
       "    </tr>\n",
       "  </thead>\n",
       "  <tbody>\n",
       "    <tr>\n",
       "      <th>1</th>\n",
       "      <td>NaN</td>\n",
       "      <td>NaN</td>\n",
       "      <td>NaN</td>\n",
       "      <td>NaN</td>\n",
       "      <td>NaN</td>\n",
       "      <td>NaN</td>\n",
       "      <td>NaN</td>\n",
       "      <td>NaN</td>\n",
       "      <td>NaN</td>\n",
       "      <td>NaN</td>\n",
       "    </tr>\n",
       "    <tr>\n",
       "      <th>2</th>\n",
       "      <td>-0.55</td>\n",
       "      <td>0.216</td>\n",
       "      <td>0.4</td>\n",
       "      <td>-0.12</td>\n",
       "      <td>3.000000e-02</td>\n",
       "      <td>0.03</td>\n",
       "      <td>-0.1</td>\n",
       "      <td>0.02</td>\n",
       "      <td>-0.205</td>\n",
       "      <td>-0.6</td>\n",
       "    </tr>\n",
       "    <tr>\n",
       "      <th>3</th>\n",
       "      <td>1.06</td>\n",
       "      <td>-0.270</td>\n",
       "      <td>-0.1</td>\n",
       "      <td>0.00</td>\n",
       "      <td>0.000000e+00</td>\n",
       "      <td>0.04</td>\n",
       "      <td>0.1</td>\n",
       "      <td>-0.07</td>\n",
       "      <td>0.367</td>\n",
       "      <td>0.5</td>\n",
       "    </tr>\n",
       "    <tr>\n",
       "      <th>4</th>\n",
       "      <td>0.17</td>\n",
       "      <td>0.108</td>\n",
       "      <td>-0.8</td>\n",
       "      <td>-0.04</td>\n",
       "      <td>8.881784e-16</td>\n",
       "      <td>0.03</td>\n",
       "      <td>0.0</td>\n",
       "      <td>0.03</td>\n",
       "      <td>-0.292</td>\n",
       "      <td>-0.3</td>\n",
       "    </tr>\n",
       "    <tr>\n",
       "      <th>5</th>\n",
       "      <td>-5.55</td>\n",
       "      <td>0.001</td>\n",
       "      <td>0.8</td>\n",
       "      <td>-0.05</td>\n",
       "      <td>1.000000e-02</td>\n",
       "      <td>0.03</td>\n",
       "      <td>0.2</td>\n",
       "      <td>-0.05</td>\n",
       "      <td>0.105</td>\n",
       "      <td>0.2</td>\n",
       "    </tr>\n",
       "  </tbody>\n",
       "</table>\n",
       "</div>"
      ],
      "text/plain": [
       "   SandP  Industrial_Production_Index  M1_money_supply  three_Month_Tbill  \\\n",
       "1    NaN                          NaN              NaN                NaN   \n",
       "2  -0.55                        0.216              0.4              -0.12   \n",
       "3   1.06                       -0.270             -0.1               0.00   \n",
       "4   0.17                        0.108             -0.8              -0.04   \n",
       "5  -5.55                        0.001              0.8              -0.05   \n",
       "\n",
       "   Moodys_AAA_rating   CPI  PPI  three_month_CD_rate  \\\n",
       "1                NaN   NaN  NaN                  NaN   \n",
       "2       3.000000e-02  0.03 -0.1                 0.02   \n",
       "3       0.000000e+00  0.04  0.1                -0.07   \n",
       "4       8.881784e-16  0.03  0.0                 0.03   \n",
       "5       1.000000e-02  0.03  0.2                -0.05   \n",
       "\n",
       "   Consumer_credit_Owned_and_securitized  Unemployment_rate  \n",
       "1                                    NaN                NaN  \n",
       "2                                 -0.205               -0.6  \n",
       "3                                  0.367                0.5  \n",
       "4                                 -0.292               -0.3  \n",
       "5                                  0.105                0.2  "
      ]
     },
     "execution_count": 396,
     "metadata": {},
     "output_type": "execute_result"
    }
   ],
   "source": [
    "df4 = df3.diff()\n",
    "df4.head()"
   ]
  },
  {
   "cell_type": "code",
   "execution_count": 397,
   "id": "10c5e571",
   "metadata": {},
   "outputs": [
    {
     "data": {
      "text/html": [
       "<div>\n",
       "<style scoped>\n",
       "    .dataframe tbody tr th:only-of-type {\n",
       "        vertical-align: middle;\n",
       "    }\n",
       "\n",
       "    .dataframe tbody tr th {\n",
       "        vertical-align: top;\n",
       "    }\n",
       "\n",
       "    .dataframe thead th {\n",
       "        text-align: right;\n",
       "    }\n",
       "</style>\n",
       "<table border=\"1\" class=\"dataframe\">\n",
       "  <thead>\n",
       "    <tr style=\"text-align: right;\">\n",
       "      <th></th>\n",
       "      <th>SandP</th>\n",
       "      <th>Industrial_Production_Index</th>\n",
       "      <th>M1_money_supply</th>\n",
       "      <th>three_Month_Tbill</th>\n",
       "      <th>Moodys_AAA_rating</th>\n",
       "      <th>CPI</th>\n",
       "      <th>PPI</th>\n",
       "      <th>three_month_CD_rate</th>\n",
       "      <th>Consumer_credit_Owned_and_securitized</th>\n",
       "      <th>Unemployment_rate</th>\n",
       "    </tr>\n",
       "  </thead>\n",
       "  <tbody>\n",
       "    <tr>\n",
       "      <th>2</th>\n",
       "      <td>-0.55</td>\n",
       "      <td>0.216</td>\n",
       "      <td>0.4</td>\n",
       "      <td>-0.12</td>\n",
       "      <td>3.000000e-02</td>\n",
       "      <td>0.03</td>\n",
       "      <td>-0.1</td>\n",
       "      <td>0.02</td>\n",
       "      <td>-0.205</td>\n",
       "      <td>-0.6</td>\n",
       "    </tr>\n",
       "    <tr>\n",
       "      <th>3</th>\n",
       "      <td>1.06</td>\n",
       "      <td>-0.270</td>\n",
       "      <td>-0.1</td>\n",
       "      <td>0.00</td>\n",
       "      <td>0.000000e+00</td>\n",
       "      <td>0.04</td>\n",
       "      <td>0.1</td>\n",
       "      <td>-0.07</td>\n",
       "      <td>0.367</td>\n",
       "      <td>0.5</td>\n",
       "    </tr>\n",
       "    <tr>\n",
       "      <th>4</th>\n",
       "      <td>0.17</td>\n",
       "      <td>0.108</td>\n",
       "      <td>-0.8</td>\n",
       "      <td>-0.04</td>\n",
       "      <td>8.881784e-16</td>\n",
       "      <td>0.03</td>\n",
       "      <td>0.0</td>\n",
       "      <td>0.03</td>\n",
       "      <td>-0.292</td>\n",
       "      <td>-0.3</td>\n",
       "    </tr>\n",
       "    <tr>\n",
       "      <th>5</th>\n",
       "      <td>-5.55</td>\n",
       "      <td>0.001</td>\n",
       "      <td>0.8</td>\n",
       "      <td>-0.05</td>\n",
       "      <td>1.000000e-02</td>\n",
       "      <td>0.03</td>\n",
       "      <td>0.2</td>\n",
       "      <td>-0.05</td>\n",
       "      <td>0.105</td>\n",
       "      <td>0.2</td>\n",
       "    </tr>\n",
       "    <tr>\n",
       "      <th>6</th>\n",
       "      <td>4.11</td>\n",
       "      <td>0.053</td>\n",
       "      <td>0.3</td>\n",
       "      <td>0.13</td>\n",
       "      <td>8.881784e-16</td>\n",
       "      <td>-0.16</td>\n",
       "      <td>-0.3</td>\n",
       "      <td>-0.01</td>\n",
       "      <td>-0.079</td>\n",
       "      <td>-0.2</td>\n",
       "    </tr>\n",
       "  </tbody>\n",
       "</table>\n",
       "</div>"
      ],
      "text/plain": [
       "   SandP  Industrial_Production_Index  M1_money_supply  three_Month_Tbill  \\\n",
       "2  -0.55                        0.216              0.4              -0.12   \n",
       "3   1.06                       -0.270             -0.1               0.00   \n",
       "4   0.17                        0.108             -0.8              -0.04   \n",
       "5  -5.55                        0.001              0.8              -0.05   \n",
       "6   4.11                        0.053              0.3               0.13   \n",
       "\n",
       "   Moodys_AAA_rating   CPI  PPI  three_month_CD_rate  \\\n",
       "2       3.000000e-02  0.03 -0.1                 0.02   \n",
       "3       0.000000e+00  0.04  0.1                -0.07   \n",
       "4       8.881784e-16  0.03  0.0                 0.03   \n",
       "5       1.000000e-02  0.03  0.2                -0.05   \n",
       "6       8.881784e-16 -0.16 -0.3                -0.01   \n",
       "\n",
       "   Consumer_credit_Owned_and_securitized  Unemployment_rate  \n",
       "2                                 -0.205               -0.6  \n",
       "3                                  0.367                0.5  \n",
       "4                                 -0.292               -0.3  \n",
       "5                                  0.105                0.2  \n",
       "6                                 -0.079               -0.2  "
      ]
     },
     "execution_count": 397,
     "metadata": {},
     "output_type": "execute_result"
    }
   ],
   "source": [
    "df5 = df4.iloc[1: , :]\n",
    "df5.head()"
   ]
  },
  {
   "cell_type": "code",
   "execution_count": 398,
   "id": "b662f493",
   "metadata": {},
   "outputs": [
    {
     "data": {
      "text/html": [
       "<div>\n",
       "<style scoped>\n",
       "    .dataframe tbody tr th:only-of-type {\n",
       "        vertical-align: middle;\n",
       "    }\n",
       "\n",
       "    .dataframe tbody tr th {\n",
       "        vertical-align: top;\n",
       "    }\n",
       "\n",
       "    .dataframe thead th {\n",
       "        text-align: right;\n",
       "    }\n",
       "</style>\n",
       "<table border=\"1\" class=\"dataframe\">\n",
       "  <thead>\n",
       "    <tr style=\"text-align: right;\">\n",
       "      <th></th>\n",
       "      <th>SandP</th>\n",
       "      <th>Industrial_Production_Index</th>\n",
       "      <th>M1_money_supply</th>\n",
       "      <th>three_Month_Tbill</th>\n",
       "      <th>Moodys_AAA_rating</th>\n",
       "      <th>CPI</th>\n",
       "      <th>PPI</th>\n",
       "      <th>three_month_CD_rate</th>\n",
       "      <th>Consumer_credit_Owned_and_securitized</th>\n",
       "      <th>Unemployment_rate</th>\n",
       "    </tr>\n",
       "  </thead>\n",
       "  <tbody>\n",
       "    <tr>\n",
       "      <th>0</th>\n",
       "      <td>-0.55</td>\n",
       "      <td>0.216</td>\n",
       "      <td>0.4</td>\n",
       "      <td>-1.200000e-01</td>\n",
       "      <td>3.000000e-02</td>\n",
       "      <td>0.030</td>\n",
       "      <td>-0.1</td>\n",
       "      <td>2.000000e-02</td>\n",
       "      <td>-0.205</td>\n",
       "      <td>-0.6</td>\n",
       "    </tr>\n",
       "    <tr>\n",
       "      <th>1</th>\n",
       "      <td>1.06</td>\n",
       "      <td>-0.270</td>\n",
       "      <td>-0.1</td>\n",
       "      <td>0.000000e+00</td>\n",
       "      <td>0.000000e+00</td>\n",
       "      <td>0.040</td>\n",
       "      <td>0.1</td>\n",
       "      <td>-7.000000e-02</td>\n",
       "      <td>0.367</td>\n",
       "      <td>0.5</td>\n",
       "    </tr>\n",
       "    <tr>\n",
       "      <th>2</th>\n",
       "      <td>0.17</td>\n",
       "      <td>0.108</td>\n",
       "      <td>-0.8</td>\n",
       "      <td>-4.000000e-02</td>\n",
       "      <td>8.881784e-16</td>\n",
       "      <td>0.030</td>\n",
       "      <td>0.0</td>\n",
       "      <td>3.000000e-02</td>\n",
       "      <td>-0.292</td>\n",
       "      <td>-0.3</td>\n",
       "    </tr>\n",
       "    <tr>\n",
       "      <th>3</th>\n",
       "      <td>-5.55</td>\n",
       "      <td>0.001</td>\n",
       "      <td>0.8</td>\n",
       "      <td>-5.000000e-02</td>\n",
       "      <td>1.000000e-02</td>\n",
       "      <td>0.030</td>\n",
       "      <td>0.2</td>\n",
       "      <td>-5.000000e-02</td>\n",
       "      <td>0.105</td>\n",
       "      <td>0.2</td>\n",
       "    </tr>\n",
       "    <tr>\n",
       "      <th>4</th>\n",
       "      <td>4.11</td>\n",
       "      <td>0.053</td>\n",
       "      <td>0.3</td>\n",
       "      <td>1.300000e-01</td>\n",
       "      <td>8.881784e-16</td>\n",
       "      <td>-0.160</td>\n",
       "      <td>-0.3</td>\n",
       "      <td>-1.000000e-02</td>\n",
       "      <td>-0.079</td>\n",
       "      <td>-0.2</td>\n",
       "    </tr>\n",
       "    <tr>\n",
       "      <th>...</th>\n",
       "      <td>...</td>\n",
       "      <td>...</td>\n",
       "      <td>...</td>\n",
       "      <td>...</td>\n",
       "      <td>...</td>\n",
       "      <td>...</td>\n",
       "      <td>...</td>\n",
       "      <td>...</td>\n",
       "      <td>...</td>\n",
       "      <td>...</td>\n",
       "    </tr>\n",
       "    <tr>\n",
       "      <th>673</th>\n",
       "      <td>203.59</td>\n",
       "      <td>-2.697</td>\n",
       "      <td>-33.7</td>\n",
       "      <td>3.469447e-18</td>\n",
       "      <td>-4.800000e-01</td>\n",
       "      <td>0.407</td>\n",
       "      <td>-1.5</td>\n",
       "      <td>2.000000e-02</td>\n",
       "      <td>-0.672</td>\n",
       "      <td>0.3</td>\n",
       "    </tr>\n",
       "    <tr>\n",
       "      <th>674</th>\n",
       "      <td>-204.00</td>\n",
       "      <td>0.552</td>\n",
       "      <td>30.9</td>\n",
       "      <td>1.000000e-02</td>\n",
       "      <td>2.000000e-01</td>\n",
       "      <td>-0.320</td>\n",
       "      <td>4.1</td>\n",
       "      <td>-2.000000e-02</td>\n",
       "      <td>16.671</td>\n",
       "      <td>-0.4</td>\n",
       "    </tr>\n",
       "    <tr>\n",
       "      <th>675</th>\n",
       "      <td>43.97</td>\n",
       "      <td>-0.130</td>\n",
       "      <td>-231.9</td>\n",
       "      <td>2.000000e-02</td>\n",
       "      <td>-2.300000e-01</td>\n",
       "      <td>0.711</td>\n",
       "      <td>-3.4</td>\n",
       "      <td>-1.387779e-17</td>\n",
       "      <td>2.802</td>\n",
       "      <td>0.4</td>\n",
       "    </tr>\n",
       "    <tr>\n",
       "      <th>676</th>\n",
       "      <td>54.58</td>\n",
       "      <td>0.357</td>\n",
       "      <td>118.2</td>\n",
       "      <td>-1.000000e-02</td>\n",
       "      <td>-5.000000e-02</td>\n",
       "      <td>-1.146</td>\n",
       "      <td>-0.9</td>\n",
       "      <td>2.000000e-02</td>\n",
       "      <td>-20.913</td>\n",
       "      <td>-0.6</td>\n",
       "    </tr>\n",
       "    <tr>\n",
       "      <th>677</th>\n",
       "      <td>-34.72</td>\n",
       "      <td>-0.439</td>\n",
       "      <td>112.5</td>\n",
       "      <td>-1.000000e-02</td>\n",
       "      <td>2.000000e-01</td>\n",
       "      <td>-0.537</td>\n",
       "      <td>-1.0</td>\n",
       "      <td>-1.000000e-02</td>\n",
       "      <td>-2.895</td>\n",
       "      <td>0.3</td>\n",
       "    </tr>\n",
       "  </tbody>\n",
       "</table>\n",
       "<p>678 rows × 10 columns</p>\n",
       "</div>"
      ],
      "text/plain": [
       "      SandP  Industrial_Production_Index  M1_money_supply  three_Month_Tbill  \\\n",
       "0     -0.55                        0.216              0.4      -1.200000e-01   \n",
       "1      1.06                       -0.270             -0.1       0.000000e+00   \n",
       "2      0.17                        0.108             -0.8      -4.000000e-02   \n",
       "3     -5.55                        0.001              0.8      -5.000000e-02   \n",
       "4      4.11                        0.053              0.3       1.300000e-01   \n",
       "..      ...                          ...              ...                ...   \n",
       "673  203.59                       -2.697            -33.7       3.469447e-18   \n",
       "674 -204.00                        0.552             30.9       1.000000e-02   \n",
       "675   43.97                       -0.130           -231.9       2.000000e-02   \n",
       "676   54.58                        0.357            118.2      -1.000000e-02   \n",
       "677  -34.72                       -0.439            112.5      -1.000000e-02   \n",
       "\n",
       "     Moodys_AAA_rating    CPI  PPI  three_month_CD_rate  \\\n",
       "0         3.000000e-02  0.030 -0.1         2.000000e-02   \n",
       "1         0.000000e+00  0.040  0.1        -7.000000e-02   \n",
       "2         8.881784e-16  0.030  0.0         3.000000e-02   \n",
       "3         1.000000e-02  0.030  0.2        -5.000000e-02   \n",
       "4         8.881784e-16 -0.160 -0.3        -1.000000e-02   \n",
       "..                 ...    ...  ...                  ...   \n",
       "673      -4.800000e-01  0.407 -1.5         2.000000e-02   \n",
       "674       2.000000e-01 -0.320  4.1        -2.000000e-02   \n",
       "675      -2.300000e-01  0.711 -3.4        -1.387779e-17   \n",
       "676      -5.000000e-02 -1.146 -0.9         2.000000e-02   \n",
       "677       2.000000e-01 -0.537 -1.0        -1.000000e-02   \n",
       "\n",
       "     Consumer_credit_Owned_and_securitized  Unemployment_rate  \n",
       "0                                   -0.205               -0.6  \n",
       "1                                    0.367                0.5  \n",
       "2                                   -0.292               -0.3  \n",
       "3                                    0.105                0.2  \n",
       "4                                   -0.079               -0.2  \n",
       "..                                     ...                ...  \n",
       "673                                 -0.672                0.3  \n",
       "674                                 16.671               -0.4  \n",
       "675                                  2.802                0.4  \n",
       "676                                -20.913               -0.6  \n",
       "677                                 -2.895                0.3  \n",
       "\n",
       "[678 rows x 10 columns]"
      ]
     },
     "execution_count": 398,
     "metadata": {},
     "output_type": "execute_result"
    }
   ],
   "source": [
    "df6 = df5.reset_index(drop=True)\n",
    "df6"
   ]
  },
  {
   "cell_type": "code",
   "execution_count": 399,
   "id": "4f71b205",
   "metadata": {},
   "outputs": [
    {
     "name": "stdout",
     "output_type": "stream",
     "text": [
      "p-value: 0.000000\n"
     ]
    }
   ],
   "source": [
    "Z10 = df6[\"SandP\"]\n",
    "result10 = adfuller(Z10)\n",
    "print('p-value: %f' % result10[1])"
   ]
  },
  {
   "cell_type": "code",
   "execution_count": 25,
   "id": "6a0e6a41",
   "metadata": {},
   "outputs": [],
   "source": [
    "#we have got the p value of SnadP less than 5 percent, means the data is stationary now"
   ]
  },
  {
   "cell_type": "code",
   "execution_count": 400,
   "id": "a4795e22",
   "metadata": {},
   "outputs": [
    {
     "data": {
      "text/plain": [
       "Text(0.5, 1.0, 'S&P with Outliers')"
      ]
     },
     "execution_count": 400,
     "metadata": {},
     "output_type": "execute_result"
    },
    {
     "data": {
      "image/png": "[encoded data removed]",
      "text/plain": [
       "<Figure size 432x288 with 1 Axes>"
      ]
     },
     "metadata": {
      "needs_background": "light"
     },
     "output_type": "display_data"
    }
   ],
   "source": [
    "df6.boxplot(column=['SandP'])\n",
    "plt.title(\"S&P with Outliers\", weight = \"bold\")"
   ]
  },
  {
   "cell_type": "code",
   "execution_count": 27,
   "id": "7fe0d9b9",
   "metadata": {},
   "outputs": [
    {
     "data": {
      "text/plain": [
       "<AxesSubplot:>"
      ]
     },
     "execution_count": 27,
     "metadata": {},
     "output_type": "execute_result"
    },
    {
     "data": {
      "image/png": "[encoded data removed]",
      "text/plain": [
       "<Figure size 432x288 with 1 Axes>"
      ]
     },
     "metadata": {
      "needs_background": "light"
     },
     "output_type": "display_data"
    }
   ],
   "source": [
    "df6.boxplot(column=['M1_money_supply'])"
   ]
  },
  {
   "cell_type": "code",
   "execution_count": 28,
   "id": "419e964c",
   "metadata": {},
   "outputs": [
    {
     "data": {
      "text/plain": [
       "<AxesSubplot:>"
      ]
     },
     "execution_count": 28,
     "metadata": {},
     "output_type": "execute_result"
    },
    {
     "data": {
      "image/png": "[encoded data removed]",
      "text/plain": [
       "<Figure size 432x288 with 1 Axes>"
      ]
     },
     "metadata": {
      "needs_background": "light"
     },
     "output_type": "display_data"
    }
   ],
   "source": [
    "df6.boxplot(column=['three_Month_Tbill'])"
   ]
  },
  {
   "cell_type": "code",
   "execution_count": 29,
   "id": "99796eee",
   "metadata": {},
   "outputs": [
    {
     "data": {
      "text/plain": [
       "<AxesSubplot:>"
      ]
     },
     "execution_count": 29,
     "metadata": {},
     "output_type": "execute_result"
    },
    {
     "data": {
      "image/png": "[encoded data removed]",
      "text/plain": [
       "<Figure size 432x288 with 1 Axes>"
      ]
     },
     "metadata": {
      "needs_background": "light"
     },
     "output_type": "display_data"
    }
   ],
   "source": [
    "df6.boxplot(column=['Moodys_AAA_rating'])"
   ]
  },
  {
   "cell_type": "code",
   "execution_count": 30,
   "id": "56c216ae",
   "metadata": {},
   "outputs": [
    {
     "data": {
      "text/plain": [
       "<AxesSubplot:>"
      ]
     },
     "execution_count": 30,
     "metadata": {},
     "output_type": "execute_result"
    },
    {
     "data": {
      "image/png": "[encoded data removed]",
      "text/plain": [
       "<Figure size 432x288 with 1 Axes>"
      ]
     },
     "metadata": {
      "needs_background": "light"
     },
     "output_type": "display_data"
    }
   ],
   "source": [
    "df6.boxplot(column=['Consumer_credit_Owned_and_securitized'])"
   ]
  },
  {
   "cell_type": "code",
   "execution_count": 31,
   "id": "e3ef7ed6",
   "metadata": {},
   "outputs": [
    {
     "data": {
      "text/plain": [
       "<AxesSubplot:>"
      ]
     },
     "execution_count": 31,
     "metadata": {},
     "output_type": "execute_result"
    },
    {
     "data": {
      "image/png": "[encoded data removed]",
      "text/plain": [
       "<Figure size 432x288 with 1 Axes>"
      ]
     },
     "metadata": {
      "needs_background": "light"
     },
     "output_type": "display_data"
    }
   ],
   "source": [
    "df6.boxplot(column=['CPI'])"
   ]
  },
  {
   "cell_type": "code",
   "execution_count": 32,
   "id": "3991b2ef",
   "metadata": {},
   "outputs": [
    {
     "data": {
      "text/plain": [
       "<AxesSubplot:>"
      ]
     },
     "execution_count": 32,
     "metadata": {},
     "output_type": "execute_result"
    },
    {
     "data": {
      "image/png": "[encoded data removed]",
      "text/plain": [
       "<Figure size 432x288 with 1 Axes>"
      ]
     },
     "metadata": {
      "needs_background": "light"
     },
     "output_type": "display_data"
    }
   ],
   "source": [
    "df6.boxplot(column=['PPI'])"
   ]
  },
  {
   "cell_type": "code",
   "execution_count": 33,
   "id": "f4354228",
   "metadata": {},
   "outputs": [
    {
     "data": {
      "text/plain": [
       "<AxesSubplot:>"
      ]
     },
     "execution_count": 33,
     "metadata": {},
     "output_type": "execute_result"
    },
    {
     "data": {
      "image/png": "[encoded data removed]",
      "text/plain": [
       "<Figure size 432x288 with 1 Axes>"
      ]
     },
     "metadata": {
      "needs_background": "light"
     },
     "output_type": "display_data"
    }
   ],
   "source": [
    "df6.boxplot(column=['three_month_CD_rate'])"
   ]
  },
  {
   "cell_type": "code",
   "execution_count": 34,
   "id": "16ff6b06",
   "metadata": {},
   "outputs": [
    {
     "data": {
      "text/plain": [
       "<AxesSubplot:>"
      ]
     },
     "execution_count": 34,
     "metadata": {},
     "output_type": "execute_result"
    },
    {
     "data": {
      "image/png": "[encoded data removed]",
      "text/plain": [
       "<Figure size 432x288 with 1 Axes>"
      ]
     },
     "metadata": {
      "needs_background": "light"
     },
     "output_type": "display_data"
    }
   ],
   "source": [
    "df6.boxplot(column=['Unemployment_rate'])"
   ]
  },
  {
   "cell_type": "markdown",
   "id": "766fd1d2",
   "metadata": {},
   "source": [
    "### Remove outliers"
   ]
  },
  {
   "cell_type": "code",
   "execution_count": 35,
   "id": "6390ab24",
   "metadata": {},
   "outputs": [],
   "source": [
    "Dates = df.Dates\n",
    "SandP = df.SandP\n",
    "IPI = df.Industrial_Production_Index\n",
    "M1 = df.M1_money_supply\n",
    "Tbill = df.three_Month_Tbill\n",
    "AAA = df.Moodys_AAA_rating\n",
    "CPI = df.CPI\n",
    "PPI = df.PPI\n",
    "CDrate = df.three_month_CD_rate\n",
    "Credit = df.Consumer_credit_Owned_and_securitized\n",
    "Unemp = df.Unemployment_rate"
   ]
  },
  {
   "cell_type": "code",
   "execution_count": 401,
   "id": "fb69e60a",
   "metadata": {},
   "outputs": [
    {
     "name": "stdout",
     "output_type": "stream",
     "text": [
      "661\n",
      "\n",
      "662\n",
      "\n",
      "662\n",
      "\n",
      "663\n",
      "\n",
      "661\n",
      "\n",
      "660\n"
     ]
    }
   ],
   "source": [
    "print(df6.Unemployment_rate.idxmax())\n",
    "print()\n",
    "print(df6.Unemployment_rate.idxmin())\n",
    "print()\n",
    "print(df6.M1_money_supply.idxmax())\n",
    "print()\n",
    "print(df6.M1_money_supply.idxmin())\n",
    "print()\n",
    "print(df6.SandP.idxmax())\n",
    "print()\n",
    "print(df6.SandP.idxmin())\n",
    "#https://www.geeksforgeeks.org/find-maximum-values-position-in-columns-and-rows-of-a-dataframe-in-pandas/"
   ]
  },
  {
   "cell_type": "code",
   "execution_count": 402,
   "id": "f43ff8fa",
   "metadata": {},
   "outputs": [
    {
     "data": {
      "text/html": [
       "<div>\n",
       "<style scoped>\n",
       "    .dataframe tbody tr th:only-of-type {\n",
       "        vertical-align: middle;\n",
       "    }\n",
       "\n",
       "    .dataframe tbody tr th {\n",
       "        vertical-align: top;\n",
       "    }\n",
       "\n",
       "    .dataframe thead th {\n",
       "        text-align: right;\n",
       "    }\n",
       "</style>\n",
       "<table border=\"1\" class=\"dataframe\">\n",
       "  <thead>\n",
       "    <tr style=\"text-align: right;\">\n",
       "      <th></th>\n",
       "      <th>SandP</th>\n",
       "      <th>Industrial_Production_Index</th>\n",
       "      <th>M1_money_supply</th>\n",
       "      <th>three_Month_Tbill</th>\n",
       "      <th>Moodys_AAA_rating</th>\n",
       "      <th>CPI</th>\n",
       "      <th>PPI</th>\n",
       "      <th>three_month_CD_rate</th>\n",
       "      <th>Consumer_credit_Owned_and_securitized</th>\n",
       "      <th>Unemployment_rate</th>\n",
       "    </tr>\n",
       "  </thead>\n",
       "  <tbody>\n",
       "    <tr>\n",
       "      <th>0</th>\n",
       "      <td>-0.55</td>\n",
       "      <td>0.216</td>\n",
       "      <td>0.4</td>\n",
       "      <td>-1.200000e-01</td>\n",
       "      <td>3.000000e-02</td>\n",
       "      <td>0.030</td>\n",
       "      <td>-0.1</td>\n",
       "      <td>2.000000e-02</td>\n",
       "      <td>-0.205</td>\n",
       "      <td>-0.6</td>\n",
       "    </tr>\n",
       "    <tr>\n",
       "      <th>1</th>\n",
       "      <td>1.06</td>\n",
       "      <td>-0.270</td>\n",
       "      <td>-0.1</td>\n",
       "      <td>0.000000e+00</td>\n",
       "      <td>0.000000e+00</td>\n",
       "      <td>0.040</td>\n",
       "      <td>0.1</td>\n",
       "      <td>-7.000000e-02</td>\n",
       "      <td>0.367</td>\n",
       "      <td>0.5</td>\n",
       "    </tr>\n",
       "    <tr>\n",
       "      <th>2</th>\n",
       "      <td>0.17</td>\n",
       "      <td>0.108</td>\n",
       "      <td>-0.8</td>\n",
       "      <td>-4.000000e-02</td>\n",
       "      <td>8.881784e-16</td>\n",
       "      <td>0.030</td>\n",
       "      <td>0.0</td>\n",
       "      <td>3.000000e-02</td>\n",
       "      <td>-0.292</td>\n",
       "      <td>-0.3</td>\n",
       "    </tr>\n",
       "    <tr>\n",
       "      <th>3</th>\n",
       "      <td>-5.55</td>\n",
       "      <td>0.001</td>\n",
       "      <td>0.8</td>\n",
       "      <td>-5.000000e-02</td>\n",
       "      <td>1.000000e-02</td>\n",
       "      <td>0.030</td>\n",
       "      <td>0.2</td>\n",
       "      <td>-5.000000e-02</td>\n",
       "      <td>0.105</td>\n",
       "      <td>0.2</td>\n",
       "    </tr>\n",
       "    <tr>\n",
       "      <th>4</th>\n",
       "      <td>4.11</td>\n",
       "      <td>0.053</td>\n",
       "      <td>0.3</td>\n",
       "      <td>1.300000e-01</td>\n",
       "      <td>8.881784e-16</td>\n",
       "      <td>-0.160</td>\n",
       "      <td>-0.3</td>\n",
       "      <td>-1.000000e-02</td>\n",
       "      <td>-0.079</td>\n",
       "      <td>-0.2</td>\n",
       "    </tr>\n",
       "    <tr>\n",
       "      <th>...</th>\n",
       "      <td>...</td>\n",
       "      <td>...</td>\n",
       "      <td>...</td>\n",
       "      <td>...</td>\n",
       "      <td>...</td>\n",
       "      <td>...</td>\n",
       "      <td>...</td>\n",
       "      <td>...</td>\n",
       "      <td>...</td>\n",
       "      <td>...</td>\n",
       "    </tr>\n",
       "    <tr>\n",
       "      <th>673</th>\n",
       "      <td>203.59</td>\n",
       "      <td>-2.697</td>\n",
       "      <td>-33.7</td>\n",
       "      <td>3.469447e-18</td>\n",
       "      <td>-4.800000e-01</td>\n",
       "      <td>0.407</td>\n",
       "      <td>-1.5</td>\n",
       "      <td>2.000000e-02</td>\n",
       "      <td>-0.672</td>\n",
       "      <td>0.3</td>\n",
       "    </tr>\n",
       "    <tr>\n",
       "      <th>674</th>\n",
       "      <td>-204.00</td>\n",
       "      <td>0.552</td>\n",
       "      <td>30.9</td>\n",
       "      <td>1.000000e-02</td>\n",
       "      <td>2.000000e-01</td>\n",
       "      <td>-0.320</td>\n",
       "      <td>4.1</td>\n",
       "      <td>-2.000000e-02</td>\n",
       "      <td>16.671</td>\n",
       "      <td>-0.4</td>\n",
       "    </tr>\n",
       "    <tr>\n",
       "      <th>675</th>\n",
       "      <td>43.97</td>\n",
       "      <td>-0.130</td>\n",
       "      <td>-231.9</td>\n",
       "      <td>2.000000e-02</td>\n",
       "      <td>-2.300000e-01</td>\n",
       "      <td>0.711</td>\n",
       "      <td>-3.4</td>\n",
       "      <td>-1.387779e-17</td>\n",
       "      <td>2.802</td>\n",
       "      <td>0.4</td>\n",
       "    </tr>\n",
       "    <tr>\n",
       "      <th>676</th>\n",
       "      <td>54.58</td>\n",
       "      <td>0.357</td>\n",
       "      <td>118.2</td>\n",
       "      <td>-1.000000e-02</td>\n",
       "      <td>-5.000000e-02</td>\n",
       "      <td>-1.146</td>\n",
       "      <td>-0.9</td>\n",
       "      <td>2.000000e-02</td>\n",
       "      <td>-20.913</td>\n",
       "      <td>-0.6</td>\n",
       "    </tr>\n",
       "    <tr>\n",
       "      <th>677</th>\n",
       "      <td>-34.72</td>\n",
       "      <td>-0.439</td>\n",
       "      <td>112.5</td>\n",
       "      <td>-1.000000e-02</td>\n",
       "      <td>2.000000e-01</td>\n",
       "      <td>-0.537</td>\n",
       "      <td>-1.0</td>\n",
       "      <td>-1.000000e-02</td>\n",
       "      <td>-2.895</td>\n",
       "      <td>0.3</td>\n",
       "    </tr>\n",
       "  </tbody>\n",
       "</table>\n",
       "<p>676 rows × 10 columns</p>\n",
       "</div>"
      ],
      "text/plain": [
       "      SandP  Industrial_Production_Index  M1_money_supply  three_Month_Tbill  \\\n",
       "0     -0.55                        0.216              0.4      -1.200000e-01   \n",
       "1      1.06                       -0.270             -0.1       0.000000e+00   \n",
       "2      0.17                        0.108             -0.8      -4.000000e-02   \n",
       "3     -5.55                        0.001              0.8      -5.000000e-02   \n",
       "4      4.11                        0.053              0.3       1.300000e-01   \n",
       "..      ...                          ...              ...                ...   \n",
       "673  203.59                       -2.697            -33.7       3.469447e-18   \n",
       "674 -204.00                        0.552             30.9       1.000000e-02   \n",
       "675   43.97                       -0.130           -231.9       2.000000e-02   \n",
       "676   54.58                        0.357            118.2      -1.000000e-02   \n",
       "677  -34.72                       -0.439            112.5      -1.000000e-02   \n",
       "\n",
       "     Moodys_AAA_rating    CPI  PPI  three_month_CD_rate  \\\n",
       "0         3.000000e-02  0.030 -0.1         2.000000e-02   \n",
       "1         0.000000e+00  0.040  0.1        -7.000000e-02   \n",
       "2         8.881784e-16  0.030  0.0         3.000000e-02   \n",
       "3         1.000000e-02  0.030  0.2        -5.000000e-02   \n",
       "4         8.881784e-16 -0.160 -0.3        -1.000000e-02   \n",
       "..                 ...    ...  ...                  ...   \n",
       "673      -4.800000e-01  0.407 -1.5         2.000000e-02   \n",
       "674       2.000000e-01 -0.320  4.1        -2.000000e-02   \n",
       "675      -2.300000e-01  0.711 -3.4        -1.387779e-17   \n",
       "676      -5.000000e-02 -1.146 -0.9         2.000000e-02   \n",
       "677       2.000000e-01 -0.537 -1.0        -1.000000e-02   \n",
       "\n",
       "     Consumer_credit_Owned_and_securitized  Unemployment_rate  \n",
       "0                                   -0.205               -0.6  \n",
       "1                                    0.367                0.5  \n",
       "2                                   -0.292               -0.3  \n",
       "3                                    0.105                0.2  \n",
       "4                                   -0.079               -0.2  \n",
       "..                                     ...                ...  \n",
       "673                                 -0.672                0.3  \n",
       "674                                 16.671               -0.4  \n",
       "675                                  2.802                0.4  \n",
       "676                                -20.913               -0.6  \n",
       "677                                 -2.895                0.3  \n",
       "\n",
       "[676 rows x 10 columns]"
      ]
     },
     "execution_count": 402,
     "metadata": {},
     "output_type": "execute_result"
    }
   ],
   "source": [
    "df_6 = df6.drop([660, 661])\n",
    "df_6"
   ]
  },
  {
   "cell_type": "code",
   "execution_count": 135,
   "id": "da8da918",
   "metadata": {},
   "outputs": [
    {
     "data": {
      "text/plain": [
       "Text(0.5, 1.0, 'S&P without Outliers')"
      ]
     },
     "execution_count": 135,
     "metadata": {},
     "output_type": "execute_result"
    },
    {
     "data": {
      "image/png": "[encoded data removed]",
      "text/plain": [
       "<Figure size 432x288 with 1 Axes>"
      ]
     },
     "metadata": {
      "needs_background": "light"
     },
     "output_type": "display_data"
    }
   ],
   "source": [
    "df_6.boxplot(column=['SandP'])\n",
    "plt.title(\"S&P without Outliers\", weight = \"bold\")"
   ]
  },
  {
   "cell_type": "code",
   "execution_count": 403,
   "id": "fa985a96",
   "metadata": {},
   "outputs": [],
   "source": [
    "cols = df_6.columns\n",
    "#column names stored in cols"
   ]
  },
  {
   "cell_type": "code",
   "execution_count": 405,
   "id": "a326da5a",
   "metadata": {},
   "outputs": [],
   "source": [
    "x = cols[1:]\n",
    "y = cols[0:1]\n",
    "y = df_6[y]\n",
    "x = df_6[x]"
   ]
  },
  {
   "cell_type": "code",
   "execution_count": 406,
   "id": "39b7a353",
   "metadata": {},
   "outputs": [
    {
     "data": {
      "text/html": [
       "<div>\n",
       "<style scoped>\n",
       "    .dataframe tbody tr th:only-of-type {\n",
       "        vertical-align: middle;\n",
       "    }\n",
       "\n",
       "    .dataframe tbody tr th {\n",
       "        vertical-align: top;\n",
       "    }\n",
       "\n",
       "    .dataframe thead th {\n",
       "        text-align: right;\n",
       "    }\n",
       "</style>\n",
       "<table border=\"1\" class=\"dataframe\">\n",
       "  <thead>\n",
       "    <tr style=\"text-align: right;\">\n",
       "      <th></th>\n",
       "      <th>Industrial_Production_Index</th>\n",
       "      <th>M1_money_supply</th>\n",
       "      <th>three_Month_Tbill</th>\n",
       "      <th>Moodys_AAA_rating</th>\n",
       "      <th>CPI</th>\n",
       "      <th>PPI</th>\n",
       "      <th>three_month_CD_rate</th>\n",
       "      <th>Consumer_credit_Owned_and_securitized</th>\n",
       "      <th>Unemployment_rate</th>\n",
       "    </tr>\n",
       "  </thead>\n",
       "  <tbody>\n",
       "    <tr>\n",
       "      <th>0</th>\n",
       "      <td>0.216</td>\n",
       "      <td>0.4</td>\n",
       "      <td>-0.12</td>\n",
       "      <td>3.000000e-02</td>\n",
       "      <td>0.03</td>\n",
       "      <td>-0.1</td>\n",
       "      <td>0.02</td>\n",
       "      <td>-0.205</td>\n",
       "      <td>-0.6</td>\n",
       "    </tr>\n",
       "    <tr>\n",
       "      <th>1</th>\n",
       "      <td>-0.270</td>\n",
       "      <td>-0.1</td>\n",
       "      <td>0.00</td>\n",
       "      <td>0.000000e+00</td>\n",
       "      <td>0.04</td>\n",
       "      <td>0.1</td>\n",
       "      <td>-0.07</td>\n",
       "      <td>0.367</td>\n",
       "      <td>0.5</td>\n",
       "    </tr>\n",
       "    <tr>\n",
       "      <th>2</th>\n",
       "      <td>0.108</td>\n",
       "      <td>-0.8</td>\n",
       "      <td>-0.04</td>\n",
       "      <td>8.881784e-16</td>\n",
       "      <td>0.03</td>\n",
       "      <td>0.0</td>\n",
       "      <td>0.03</td>\n",
       "      <td>-0.292</td>\n",
       "      <td>-0.3</td>\n",
       "    </tr>\n",
       "    <tr>\n",
       "      <th>3</th>\n",
       "      <td>0.001</td>\n",
       "      <td>0.8</td>\n",
       "      <td>-0.05</td>\n",
       "      <td>1.000000e-02</td>\n",
       "      <td>0.03</td>\n",
       "      <td>0.2</td>\n",
       "      <td>-0.05</td>\n",
       "      <td>0.105</td>\n",
       "      <td>0.2</td>\n",
       "    </tr>\n",
       "    <tr>\n",
       "      <th>4</th>\n",
       "      <td>0.053</td>\n",
       "      <td>0.3</td>\n",
       "      <td>0.13</td>\n",
       "      <td>8.881784e-16</td>\n",
       "      <td>-0.16</td>\n",
       "      <td>-0.3</td>\n",
       "      <td>-0.01</td>\n",
       "      <td>-0.079</td>\n",
       "      <td>-0.2</td>\n",
       "    </tr>\n",
       "  </tbody>\n",
       "</table>\n",
       "</div>"
      ],
      "text/plain": [
       "   Industrial_Production_Index  M1_money_supply  three_Month_Tbill  \\\n",
       "0                        0.216              0.4              -0.12   \n",
       "1                       -0.270             -0.1               0.00   \n",
       "2                        0.108             -0.8              -0.04   \n",
       "3                        0.001              0.8              -0.05   \n",
       "4                        0.053              0.3               0.13   \n",
       "\n",
       "   Moodys_AAA_rating   CPI  PPI  three_month_CD_rate  \\\n",
       "0       3.000000e-02  0.03 -0.1                 0.02   \n",
       "1       0.000000e+00  0.04  0.1                -0.07   \n",
       "2       8.881784e-16  0.03  0.0                 0.03   \n",
       "3       1.000000e-02  0.03  0.2                -0.05   \n",
       "4       8.881784e-16 -0.16 -0.3                -0.01   \n",
       "\n",
       "   Consumer_credit_Owned_and_securitized  Unemployment_rate  \n",
       "0                                 -0.205               -0.6  \n",
       "1                                  0.367                0.5  \n",
       "2                                 -0.292               -0.3  \n",
       "3                                  0.105                0.2  \n",
       "4                                 -0.079               -0.2  "
      ]
     },
     "execution_count": 406,
     "metadata": {},
     "output_type": "execute_result"
    }
   ],
   "source": [
    "x.head()"
   ]
  },
  {
   "cell_type": "code",
   "execution_count": 42,
   "id": "29fb768f",
   "metadata": {},
   "outputs": [
    {
     "data": {
      "text/html": [
       "<div>\n",
       "<style scoped>\n",
       "    .dataframe tbody tr th:only-of-type {\n",
       "        vertical-align: middle;\n",
       "    }\n",
       "\n",
       "    .dataframe tbody tr th {\n",
       "        vertical-align: top;\n",
       "    }\n",
       "\n",
       "    .dataframe thead th {\n",
       "        text-align: right;\n",
       "    }\n",
       "</style>\n",
       "<table border=\"1\" class=\"dataframe\">\n",
       "  <thead>\n",
       "    <tr style=\"text-align: right;\">\n",
       "      <th></th>\n",
       "      <th>SandP</th>\n",
       "    </tr>\n",
       "  </thead>\n",
       "  <tbody>\n",
       "    <tr>\n",
       "      <th>0</th>\n",
       "      <td>-0.55</td>\n",
       "    </tr>\n",
       "    <tr>\n",
       "      <th>1</th>\n",
       "      <td>1.06</td>\n",
       "    </tr>\n",
       "    <tr>\n",
       "      <th>2</th>\n",
       "      <td>0.17</td>\n",
       "    </tr>\n",
       "    <tr>\n",
       "      <th>3</th>\n",
       "      <td>-5.55</td>\n",
       "    </tr>\n",
       "    <tr>\n",
       "      <th>4</th>\n",
       "      <td>4.11</td>\n",
       "    </tr>\n",
       "  </tbody>\n",
       "</table>\n",
       "</div>"
      ],
      "text/plain": [
       "   SandP\n",
       "0  -0.55\n",
       "1   1.06\n",
       "2   0.17\n",
       "3  -5.55\n",
       "4   4.11"
      ]
     },
     "execution_count": 42,
     "metadata": {},
     "output_type": "execute_result"
    }
   ],
   "source": [
    "y.head()"
   ]
  },
  {
   "cell_type": "code",
   "execution_count": 43,
   "id": "68baf9ac",
   "metadata": {},
   "outputs": [
    {
     "data": {
      "text/html": [
       "<div>\n",
       "<style scoped>\n",
       "    .dataframe tbody tr th:only-of-type {\n",
       "        vertical-align: middle;\n",
       "    }\n",
       "\n",
       "    .dataframe tbody tr th {\n",
       "        vertical-align: top;\n",
       "    }\n",
       "\n",
       "    .dataframe thead th {\n",
       "        text-align: right;\n",
       "    }\n",
       "</style>\n",
       "<table border=\"1\" class=\"dataframe\">\n",
       "  <thead>\n",
       "    <tr style=\"text-align: right;\">\n",
       "      <th></th>\n",
       "      <th>Industrial_Production_Index</th>\n",
       "      <th>M1_money_supply</th>\n",
       "      <th>three_Month_Tbill</th>\n",
       "      <th>Moodys_AAA_rating</th>\n",
       "      <th>CPI</th>\n",
       "      <th>PPI</th>\n",
       "      <th>three_month_CD_rate</th>\n",
       "      <th>Consumer_credit_Owned_and_securitized</th>\n",
       "      <th>Unemployment_rate</th>\n",
       "    </tr>\n",
       "  </thead>\n",
       "  <tbody>\n",
       "    <tr>\n",
       "      <th>Industrial_Production_Index</th>\n",
       "      <td>1.000000</td>\n",
       "      <td>0.336271</td>\n",
       "      <td>0.022986</td>\n",
       "      <td>0.103019</td>\n",
       "      <td>0.069882</td>\n",
       "      <td>0.098346</td>\n",
       "      <td>0.062251</td>\n",
       "      <td>0.153629</td>\n",
       "      <td>-0.608177</td>\n",
       "    </tr>\n",
       "    <tr>\n",
       "      <th>M1_money_supply</th>\n",
       "      <td>0.336271</td>\n",
       "      <td>1.000000</td>\n",
       "      <td>0.004929</td>\n",
       "      <td>0.079677</td>\n",
       "      <td>-0.004707</td>\n",
       "      <td>0.208606</td>\n",
       "      <td>-0.037780</td>\n",
       "      <td>0.033358</td>\n",
       "      <td>-0.584663</td>\n",
       "    </tr>\n",
       "    <tr>\n",
       "      <th>three_Month_Tbill</th>\n",
       "      <td>0.022986</td>\n",
       "      <td>0.004929</td>\n",
       "      <td>1.000000</td>\n",
       "      <td>0.471266</td>\n",
       "      <td>-0.010322</td>\n",
       "      <td>-0.006927</td>\n",
       "      <td>0.807244</td>\n",
       "      <td>0.013074</td>\n",
       "      <td>-0.025768</td>\n",
       "    </tr>\n",
       "    <tr>\n",
       "      <th>Moodys_AAA_rating</th>\n",
       "      <td>0.103019</td>\n",
       "      <td>0.079677</td>\n",
       "      <td>0.471266</td>\n",
       "      <td>1.000000</td>\n",
       "      <td>0.058895</td>\n",
       "      <td>0.090063</td>\n",
       "      <td>0.476227</td>\n",
       "      <td>0.051654</td>\n",
       "      <td>-0.116861</td>\n",
       "    </tr>\n",
       "    <tr>\n",
       "      <th>CPI</th>\n",
       "      <td>0.069882</td>\n",
       "      <td>-0.004707</td>\n",
       "      <td>-0.010322</td>\n",
       "      <td>0.058895</td>\n",
       "      <td>1.000000</td>\n",
       "      <td>0.602140</td>\n",
       "      <td>0.034903</td>\n",
       "      <td>0.159514</td>\n",
       "      <td>-0.129234</td>\n",
       "    </tr>\n",
       "    <tr>\n",
       "      <th>PPI</th>\n",
       "      <td>0.098346</td>\n",
       "      <td>0.208606</td>\n",
       "      <td>-0.006927</td>\n",
       "      <td>0.090063</td>\n",
       "      <td>0.602140</td>\n",
       "      <td>1.000000</td>\n",
       "      <td>-0.031752</td>\n",
       "      <td>0.146578</td>\n",
       "      <td>-0.269873</td>\n",
       "    </tr>\n",
       "    <tr>\n",
       "      <th>three_month_CD_rate</th>\n",
       "      <td>0.062251</td>\n",
       "      <td>-0.037780</td>\n",
       "      <td>0.807244</td>\n",
       "      <td>0.476227</td>\n",
       "      <td>0.034903</td>\n",
       "      <td>-0.031752</td>\n",
       "      <td>1.000000</td>\n",
       "      <td>0.004423</td>\n",
       "      <td>-0.013996</td>\n",
       "    </tr>\n",
       "    <tr>\n",
       "      <th>Consumer_credit_Owned_and_securitized</th>\n",
       "      <td>0.153629</td>\n",
       "      <td>0.033358</td>\n",
       "      <td>0.013074</td>\n",
       "      <td>0.051654</td>\n",
       "      <td>0.159514</td>\n",
       "      <td>0.146578</td>\n",
       "      <td>0.004423</td>\n",
       "      <td>1.000000</td>\n",
       "      <td>-0.177631</td>\n",
       "    </tr>\n",
       "    <tr>\n",
       "      <th>Unemployment_rate</th>\n",
       "      <td>-0.608177</td>\n",
       "      <td>-0.584663</td>\n",
       "      <td>-0.025768</td>\n",
       "      <td>-0.116861</td>\n",
       "      <td>-0.129234</td>\n",
       "      <td>-0.269873</td>\n",
       "      <td>-0.013996</td>\n",
       "      <td>-0.177631</td>\n",
       "      <td>1.000000</td>\n",
       "    </tr>\n",
       "  </tbody>\n",
       "</table>\n",
       "</div>"
      ],
      "text/plain": [
       "                                       Industrial_Production_Index  \\\n",
       "Industrial_Production_Index                               1.000000   \n",
       "M1_money_supply                                           0.336271   \n",
       "three_Month_Tbill                                         0.022986   \n",
       "Moodys_AAA_rating                                         0.103019   \n",
       "CPI                                                       0.069882   \n",
       "PPI                                                       0.098346   \n",
       "three_month_CD_rate                                       0.062251   \n",
       "Consumer_credit_Owned_and_securitized                     0.153629   \n",
       "Unemployment_rate                                        -0.608177   \n",
       "\n",
       "                                       M1_money_supply  three_Month_Tbill  \\\n",
       "Industrial_Production_Index                   0.336271           0.022986   \n",
       "M1_money_supply                               1.000000           0.004929   \n",
       "three_Month_Tbill                             0.004929           1.000000   \n",
       "Moodys_AAA_rating                             0.079677           0.471266   \n",
       "CPI                                          -0.004707          -0.010322   \n",
       "PPI                                           0.208606          -0.006927   \n",
       "three_month_CD_rate                          -0.037780           0.807244   \n",
       "Consumer_credit_Owned_and_securitized         0.033358           0.013074   \n",
       "Unemployment_rate                            -0.584663          -0.025768   \n",
       "\n",
       "                                       Moodys_AAA_rating       CPI       PPI  \\\n",
       "Industrial_Production_Index                     0.103019  0.069882  0.098346   \n",
       "M1_money_supply                                 0.079677 -0.004707  0.208606   \n",
       "three_Month_Tbill                               0.471266 -0.010322 -0.006927   \n",
       "Moodys_AAA_rating                               1.000000  0.058895  0.090063   \n",
       "CPI                                             0.058895  1.000000  0.602140   \n",
       "PPI                                             0.090063  0.602140  1.000000   \n",
       "three_month_CD_rate                             0.476227  0.034903 -0.031752   \n",
       "Consumer_credit_Owned_and_securitized           0.051654  0.159514  0.146578   \n",
       "Unemployment_rate                              -0.116861 -0.129234 -0.269873   \n",
       "\n",
       "                                       three_month_CD_rate  \\\n",
       "Industrial_Production_Index                       0.062251   \n",
       "M1_money_supply                                  -0.037780   \n",
       "three_Month_Tbill                                 0.807244   \n",
       "Moodys_AAA_rating                                 0.476227   \n",
       "CPI                                               0.034903   \n",
       "PPI                                              -0.031752   \n",
       "three_month_CD_rate                               1.000000   \n",
       "Consumer_credit_Owned_and_securitized             0.004423   \n",
       "Unemployment_rate                                -0.013996   \n",
       "\n",
       "                                       Consumer_credit_Owned_and_securitized  \\\n",
       "Industrial_Production_Index                                         0.153629   \n",
       "M1_money_supply                                                     0.033358   \n",
       "three_Month_Tbill                                                   0.013074   \n",
       "Moodys_AAA_rating                                                   0.051654   \n",
       "CPI                                                                 0.159514   \n",
       "PPI                                                                 0.146578   \n",
       "three_month_CD_rate                                                 0.004423   \n",
       "Consumer_credit_Owned_and_securitized                               1.000000   \n",
       "Unemployment_rate                                                  -0.177631   \n",
       "\n",
       "                                       Unemployment_rate  \n",
       "Industrial_Production_Index                    -0.608177  \n",
       "M1_money_supply                                -0.584663  \n",
       "three_Month_Tbill                              -0.025768  \n",
       "Moodys_AAA_rating                              -0.116861  \n",
       "CPI                                            -0.129234  \n",
       "PPI                                            -0.269873  \n",
       "three_month_CD_rate                            -0.013996  \n",
       "Consumer_credit_Owned_and_securitized          -0.177631  \n",
       "Unemployment_rate                               1.000000  "
      ]
     },
     "execution_count": 43,
     "metadata": {},
     "output_type": "execute_result"
    }
   ],
   "source": [
    "x.corr()"
   ]
  },
  {
   "cell_type": "code",
   "execution_count": 413,
   "id": "2dd0339a",
   "metadata": {},
   "outputs": [
    {
     "data": {
      "text/html": [
       "<div>\n",
       "<style scoped>\n",
       "    .dataframe tbody tr th:only-of-type {\n",
       "        vertical-align: middle;\n",
       "    }\n",
       "\n",
       "    .dataframe tbody tr th {\n",
       "        vertical-align: top;\n",
       "    }\n",
       "\n",
       "    .dataframe thead th {\n",
       "        text-align: right;\n",
       "    }\n",
       "</style>\n",
       "<table border=\"1\" class=\"dataframe\">\n",
       "  <thead>\n",
       "    <tr style=\"text-align: right;\">\n",
       "      <th></th>\n",
       "      <th>SandP</th>\n",
       "      <th>Industrial_Production_Index</th>\n",
       "      <th>M1_money_supply</th>\n",
       "      <th>three_Month_Tbill</th>\n",
       "      <th>Moodys_AAA_rating</th>\n",
       "      <th>CPI</th>\n",
       "      <th>PPI</th>\n",
       "      <th>three_month_CD_rate</th>\n",
       "      <th>Consumer_credit_Owned_and_securitized</th>\n",
       "      <th>Unemployment_rate</th>\n",
       "      <th>fitted y</th>\n",
       "    </tr>\n",
       "  </thead>\n",
       "  <tbody>\n",
       "    <tr>\n",
       "      <th>SandP</th>\n",
       "      <td>1.000000</td>\n",
       "      <td>-0.100164</td>\n",
       "      <td>0.009323</td>\n",
       "      <td>0.023260</td>\n",
       "      <td>-0.064220</td>\n",
       "      <td>0.062195</td>\n",
       "      <td>0.064512</td>\n",
       "      <td>-0.054032</td>\n",
       "      <td>0.019217</td>\n",
       "      <td>-0.080471</td>\n",
       "      <td>0.253848</td>\n",
       "    </tr>\n",
       "    <tr>\n",
       "      <th>Industrial_Production_Index</th>\n",
       "      <td>-0.100164</td>\n",
       "      <td>1.000000</td>\n",
       "      <td>0.336271</td>\n",
       "      <td>0.022986</td>\n",
       "      <td>0.103019</td>\n",
       "      <td>0.069882</td>\n",
       "      <td>0.098346</td>\n",
       "      <td>0.062251</td>\n",
       "      <td>0.153629</td>\n",
       "      <td>-0.608177</td>\n",
       "      <td>-0.394581</td>\n",
       "    </tr>\n",
       "    <tr>\n",
       "      <th>M1_money_supply</th>\n",
       "      <td>0.009323</td>\n",
       "      <td>0.336271</td>\n",
       "      <td>1.000000</td>\n",
       "      <td>0.004929</td>\n",
       "      <td>0.079677</td>\n",
       "      <td>-0.004707</td>\n",
       "      <td>0.208606</td>\n",
       "      <td>-0.037780</td>\n",
       "      <td>0.033358</td>\n",
       "      <td>-0.584663</td>\n",
       "      <td>0.036728</td>\n",
       "    </tr>\n",
       "    <tr>\n",
       "      <th>three_Month_Tbill</th>\n",
       "      <td>0.023260</td>\n",
       "      <td>0.022986</td>\n",
       "      <td>0.004929</td>\n",
       "      <td>1.000000</td>\n",
       "      <td>0.471266</td>\n",
       "      <td>-0.010322</td>\n",
       "      <td>-0.006927</td>\n",
       "      <td>0.807244</td>\n",
       "      <td>0.013074</td>\n",
       "      <td>-0.025768</td>\n",
       "      <td>0.091629</td>\n",
       "    </tr>\n",
       "    <tr>\n",
       "      <th>Moodys_AAA_rating</th>\n",
       "      <td>-0.064220</td>\n",
       "      <td>0.103019</td>\n",
       "      <td>0.079677</td>\n",
       "      <td>0.471266</td>\n",
       "      <td>1.000000</td>\n",
       "      <td>0.058895</td>\n",
       "      <td>0.090063</td>\n",
       "      <td>0.476227</td>\n",
       "      <td>0.051654</td>\n",
       "      <td>-0.116861</td>\n",
       "      <td>-0.252985</td>\n",
       "    </tr>\n",
       "    <tr>\n",
       "      <th>CPI</th>\n",
       "      <td>0.062195</td>\n",
       "      <td>0.069882</td>\n",
       "      <td>-0.004707</td>\n",
       "      <td>-0.010322</td>\n",
       "      <td>0.058895</td>\n",
       "      <td>1.000000</td>\n",
       "      <td>0.602140</td>\n",
       "      <td>0.034903</td>\n",
       "      <td>0.159514</td>\n",
       "      <td>-0.129234</td>\n",
       "      <td>0.245007</td>\n",
       "    </tr>\n",
       "    <tr>\n",
       "      <th>PPI</th>\n",
       "      <td>0.064512</td>\n",
       "      <td>0.098346</td>\n",
       "      <td>0.208606</td>\n",
       "      <td>-0.006927</td>\n",
       "      <td>0.090063</td>\n",
       "      <td>0.602140</td>\n",
       "      <td>1.000000</td>\n",
       "      <td>-0.031752</td>\n",
       "      <td>0.146578</td>\n",
       "      <td>-0.269873</td>\n",
       "      <td>0.254137</td>\n",
       "    </tr>\n",
       "    <tr>\n",
       "      <th>three_month_CD_rate</th>\n",
       "      <td>-0.054032</td>\n",
       "      <td>0.062251</td>\n",
       "      <td>-0.037780</td>\n",
       "      <td>0.807244</td>\n",
       "      <td>0.476227</td>\n",
       "      <td>0.034903</td>\n",
       "      <td>-0.031752</td>\n",
       "      <td>1.000000</td>\n",
       "      <td>0.004423</td>\n",
       "      <td>-0.013996</td>\n",
       "      <td>-0.212853</td>\n",
       "    </tr>\n",
       "    <tr>\n",
       "      <th>Consumer_credit_Owned_and_securitized</th>\n",
       "      <td>0.019217</td>\n",
       "      <td>0.153629</td>\n",
       "      <td>0.033358</td>\n",
       "      <td>0.013074</td>\n",
       "      <td>0.051654</td>\n",
       "      <td>0.159514</td>\n",
       "      <td>0.146578</td>\n",
       "      <td>0.004423</td>\n",
       "      <td>1.000000</td>\n",
       "      <td>-0.177631</td>\n",
       "      <td>0.075704</td>\n",
       "    </tr>\n",
       "    <tr>\n",
       "      <th>Unemployment_rate</th>\n",
       "      <td>-0.080471</td>\n",
       "      <td>-0.608177</td>\n",
       "      <td>-0.584663</td>\n",
       "      <td>-0.025768</td>\n",
       "      <td>-0.116861</td>\n",
       "      <td>-0.129234</td>\n",
       "      <td>-0.269873</td>\n",
       "      <td>-0.013996</td>\n",
       "      <td>-0.177631</td>\n",
       "      <td>1.000000</td>\n",
       "      <td>-0.317004</td>\n",
       "    </tr>\n",
       "    <tr>\n",
       "      <th>fitted y</th>\n",
       "      <td>0.253848</td>\n",
       "      <td>-0.394581</td>\n",
       "      <td>0.036728</td>\n",
       "      <td>0.091629</td>\n",
       "      <td>-0.252985</td>\n",
       "      <td>0.245007</td>\n",
       "      <td>0.254137</td>\n",
       "      <td>-0.212853</td>\n",
       "      <td>0.075704</td>\n",
       "      <td>-0.317004</td>\n",
       "      <td>1.000000</td>\n",
       "    </tr>\n",
       "  </tbody>\n",
       "</table>\n",
       "</div>"
      ],
      "text/plain": [
       "                                          SandP  Industrial_Production_Index  \\\n",
       "SandP                                  1.000000                    -0.100164   \n",
       "Industrial_Production_Index           -0.100164                     1.000000   \n",
       "M1_money_supply                        0.009323                     0.336271   \n",
       "three_Month_Tbill                      0.023260                     0.022986   \n",
       "Moodys_AAA_rating                     -0.064220                     0.103019   \n",
       "CPI                                    0.062195                     0.069882   \n",
       "PPI                                    0.064512                     0.098346   \n",
       "three_month_CD_rate                   -0.054032                     0.062251   \n",
       "Consumer_credit_Owned_and_securitized  0.019217                     0.153629   \n",
       "Unemployment_rate                     -0.080471                    -0.608177   \n",
       "fitted y                               0.253848                    -0.394581   \n",
       "\n",
       "                                       M1_money_supply  three_Month_Tbill  \\\n",
       "SandP                                         0.009323           0.023260   \n",
       "Industrial_Production_Index                   0.336271           0.022986   \n",
       "M1_money_supply                               1.000000           0.004929   \n",
       "three_Month_Tbill                             0.004929           1.000000   \n",
       "Moodys_AAA_rating                             0.079677           0.471266   \n",
       "CPI                                          -0.004707          -0.010322   \n",
       "PPI                                           0.208606          -0.006927   \n",
       "three_month_CD_rate                          -0.037780           0.807244   \n",
       "Consumer_credit_Owned_and_securitized         0.033358           0.013074   \n",
       "Unemployment_rate                            -0.584663          -0.025768   \n",
       "fitted y                                      0.036728           0.091629   \n",
       "\n",
       "                                       Moodys_AAA_rating       CPI       PPI  \\\n",
       "SandP                                          -0.064220  0.062195  0.064512   \n",
       "Industrial_Production_Index                     0.103019  0.069882  0.098346   \n",
       "M1_money_supply                                 0.079677 -0.004707  0.208606   \n",
       "three_Month_Tbill                               0.471266 -0.010322 -0.006927   \n",
       "Moodys_AAA_rating                               1.000000  0.058895  0.090063   \n",
       "CPI                                             0.058895  1.000000  0.602140   \n",
       "PPI                                             0.090063  0.602140  1.000000   \n",
       "three_month_CD_rate                             0.476227  0.034903 -0.031752   \n",
       "Consumer_credit_Owned_and_securitized           0.051654  0.159514  0.146578   \n",
       "Unemployment_rate                              -0.116861 -0.129234 -0.269873   \n",
       "fitted y                                       -0.252985  0.245007  0.254137   \n",
       "\n",
       "                                       three_month_CD_rate  \\\n",
       "SandP                                            -0.054032   \n",
       "Industrial_Production_Index                       0.062251   \n",
       "M1_money_supply                                  -0.037780   \n",
       "three_Month_Tbill                                 0.807244   \n",
       "Moodys_AAA_rating                                 0.476227   \n",
       "CPI                                               0.034903   \n",
       "PPI                                              -0.031752   \n",
       "three_month_CD_rate                               1.000000   \n",
       "Consumer_credit_Owned_and_securitized             0.004423   \n",
       "Unemployment_rate                                -0.013996   \n",
       "fitted y                                         -0.212853   \n",
       "\n",
       "                                       Consumer_credit_Owned_and_securitized  \\\n",
       "SandP                                                               0.019217   \n",
       "Industrial_Production_Index                                         0.153629   \n",
       "M1_money_supply                                                     0.033358   \n",
       "three_Month_Tbill                                                   0.013074   \n",
       "Moodys_AAA_rating                                                   0.051654   \n",
       "CPI                                                                 0.159514   \n",
       "PPI                                                                 0.146578   \n",
       "three_month_CD_rate                                                 0.004423   \n",
       "Consumer_credit_Owned_and_securitized                               1.000000   \n",
       "Unemployment_rate                                                  -0.177631   \n",
       "fitted y                                                            0.075704   \n",
       "\n",
       "                                       Unemployment_rate  fitted y  \n",
       "SandP                                          -0.080471  0.253848  \n",
       "Industrial_Production_Index                    -0.608177 -0.394581  \n",
       "M1_money_supply                                -0.584663  0.036728  \n",
       "three_Month_Tbill                              -0.025768  0.091629  \n",
       "Moodys_AAA_rating                              -0.116861 -0.252985  \n",
       "CPI                                            -0.129234  0.245007  \n",
       "PPI                                            -0.269873  0.254137  \n",
       "three_month_CD_rate                            -0.013996 -0.212853  \n",
       "Consumer_credit_Owned_and_securitized          -0.177631  0.075704  \n",
       "Unemployment_rate                               1.000000 -0.317004  \n",
       "fitted y                                       -0.317004  1.000000  "
      ]
     },
     "execution_count": 413,
     "metadata": {},
     "output_type": "execute_result"
    }
   ],
   "source": [
    "df_6.corr()"
   ]
  },
  {
   "cell_type": "markdown",
   "id": "16c5511b",
   "metadata": {},
   "source": [
    "### First Regression"
   ]
  },
  {
   "cell_type": "code",
   "execution_count": 140,
   "id": "d81da435",
   "metadata": {},
   "outputs": [],
   "source": [
    "model = ols('SandP ~ Industrial_Production_Index + M1_money_supply + three_Month_Tbill + Moodys_AAA_rating + CPI + PPI + three_month_CD_rate + Consumer_credit_Owned_and_securitized + Unemployment_rate',df_6).fit()\n",
    "#we'll write the equation that we want"
   ]
  },
  {
   "cell_type": "code",
   "execution_count": 141,
   "id": "79429645",
   "metadata": {},
   "outputs": [
    {
     "data": {
      "text/html": [
       "<table class=\"simpletable\">\n",
       "<caption>OLS Regression Results</caption>\n",
       "<tr>\n",
       "  <th>Dep. Variable:</th>          <td>SandP</td>      <th>  R-squared:         </th> <td>   0.064</td>\n",
       "</tr>\n",
       "<tr>\n",
       "  <th>Model:</th>                   <td>OLS</td>       <th>  Adj. R-squared:    </th> <td>   0.052</td>\n",
       "</tr>\n",
       "<tr>\n",
       "  <th>Method:</th>             <td>Least Squares</td>  <th>  F-statistic:       </th> <td>   5.097</td>\n",
       "</tr>\n",
       "<tr>\n",
       "  <th>Date:</th>             <td>Sun, 31 Oct 2021</td> <th>  Prob (F-statistic):</th> <td>1.10e-06</td>\n",
       "</tr>\n",
       "<tr>\n",
       "  <th>Time:</th>                 <td>13:22:32</td>     <th>  Log-Likelihood:    </th> <td> -3510.7</td>\n",
       "</tr>\n",
       "<tr>\n",
       "  <th>No. Observations:</th>      <td>   676</td>      <th>  AIC:               </th> <td>   7041.</td>\n",
       "</tr>\n",
       "<tr>\n",
       "  <th>Df Residuals:</th>          <td>   666</td>      <th>  BIC:               </th> <td>   7087.</td>\n",
       "</tr>\n",
       "<tr>\n",
       "  <th>Df Model:</th>              <td>     9</td>      <th>                     </th>     <td> </td>   \n",
       "</tr>\n",
       "<tr>\n",
       "  <th>Covariance Type:</th>      <td>nonrobust</td>    <th>                     </th>     <td> </td>   \n",
       "</tr>\n",
       "</table>\n",
       "<table class=\"simpletable\">\n",
       "<tr>\n",
       "                    <td></td>                       <th>coef</th>     <th>std err</th>      <th>t</th>      <th>P>|t|</th>  <th>[0.025</th>    <th>0.975]</th>  \n",
       "</tr>\n",
       "<tr>\n",
       "  <th>Intercept</th>                             <td>   -0.1639</td> <td>    1.690</td> <td>   -0.097</td> <td> 0.923</td> <td>   -3.482</td> <td>    3.154</td>\n",
       "</tr>\n",
       "<tr>\n",
       "  <th>Industrial_Production_Index</th>           <td>  -11.2568</td> <td>    2.425</td> <td>   -4.642</td> <td> 0.000</td> <td>  -16.018</td> <td>   -6.496</td>\n",
       "</tr>\n",
       "<tr>\n",
       "  <th>M1_money_supply</th>                       <td>   -0.0048</td> <td>    0.004</td> <td>   -1.350</td> <td> 0.177</td> <td>   -0.012</td> <td>    0.002</td>\n",
       "</tr>\n",
       "<tr>\n",
       "  <th>three_Month_Tbill</th>                     <td>   17.8090</td> <td>    5.867</td> <td>    3.035</td> <td> 0.002</td> <td>    6.289</td> <td>   29.329</td>\n",
       "</tr>\n",
       "<tr>\n",
       "  <th>Moodys_AAA_rating</th>                     <td>  -13.9564</td> <td>    7.446</td> <td>   -1.874</td> <td> 0.061</td> <td>  -28.578</td> <td>    0.665</td>\n",
       "</tr>\n",
       "<tr>\n",
       "  <th>CPI</th>                                   <td>    5.7818</td> <td>    4.914</td> <td>    1.177</td> <td> 0.240</td> <td>   -3.868</td> <td>   15.431</td>\n",
       "</tr>\n",
       "<tr>\n",
       "  <th>PPI</th>                                   <td>    0.0142</td> <td>    1.524</td> <td>    0.009</td> <td> 0.993</td> <td>   -2.979</td> <td>    3.008</td>\n",
       "</tr>\n",
       "<tr>\n",
       "  <th>three_month_CD_rate</th>                   <td>  -12.2393</td> <td>    4.775</td> <td>   -2.563</td> <td> 0.011</td> <td>  -21.616</td> <td>   -2.863</td>\n",
       "</tr>\n",
       "<tr>\n",
       "  <th>Consumer_credit_Owned_and_securitized</th> <td>    0.0158</td> <td>    0.150</td> <td>    0.105</td> <td> 0.916</td> <td>   -0.279</td> <td>    0.311</td>\n",
       "</tr>\n",
       "<tr>\n",
       "  <th>Unemployment_rate</th>                     <td>  -21.9026</td> <td>    4.914</td> <td>   -4.457</td> <td> 0.000</td> <td>  -31.551</td> <td>  -12.254</td>\n",
       "</tr>\n",
       "</table>\n",
       "<table class=\"simpletable\">\n",
       "<tr>\n",
       "  <th>Omnibus:</th>       <td>87.292</td> <th>  Durbin-Watson:     </th> <td>   2.825</td> \n",
       "</tr>\n",
       "<tr>\n",
       "  <th>Prob(Omnibus):</th> <td> 0.000</td> <th>  Jarque-Bera (JB):  </th> <td> 828.726</td> \n",
       "</tr>\n",
       "<tr>\n",
       "  <th>Skew:</th>          <td>-0.026</td> <th>  Prob(JB):          </th> <td>1.11e-180</td>\n",
       "</tr>\n",
       "<tr>\n",
       "  <th>Kurtosis:</th>      <td> 8.424</td> <th>  Cond. No.          </th> <td>2.71e+03</td> \n",
       "</tr>\n",
       "</table><br/><br/>Notes:<br/>[1] Standard Errors assume that the covariance matrix of the errors is correctly specified.<br/>[2] The condition number is large, 2.71e+03. This might indicate that there are<br/>strong multicollinearity or other numerical problems."
      ],
      "text/plain": [
       "<class 'statsmodels.iolib.summary.Summary'>\n",
       "\"\"\"\n",
       "                            OLS Regression Results                            \n",
       "==============================================================================\n",
       "Dep. Variable:                  SandP   R-squared:                       0.064\n",
       "Model:                            OLS   Adj. R-squared:                  0.052\n",
       "Method:                 Least Squares   F-statistic:                     5.097\n",
       "Date:                Sun, 31 Oct 2021   Prob (F-statistic):           1.10e-06\n",
       "Time:                        13:22:32   Log-Likelihood:                -3510.7\n",
       "No. Observations:                 676   AIC:                             7041.\n",
       "Df Residuals:                     666   BIC:                             7087.\n",
       "Df Model:                           9                                         \n",
       "Covariance Type:            nonrobust                                         \n",
       "=========================================================================================================\n",
       "                                            coef    std err          t      P>|t|      [0.025      0.975]\n",
       "---------------------------------------------------------------------------------------------------------\n",
       "Intercept                                -0.1639      1.690     -0.097      0.923      -3.482       3.154\n",
       "Industrial_Production_Index             -11.2568      2.425     -4.642      0.000     -16.018      -6.496\n",
       "M1_money_supply                          -0.0048      0.004     -1.350      0.177      -0.012       0.002\n",
       "three_Month_Tbill                        17.8090      5.867      3.035      0.002       6.289      29.329\n",
       "Moodys_AAA_rating                       -13.9564      7.446     -1.874      0.061     -28.578       0.665\n",
       "CPI                                       5.7818      4.914      1.177      0.240      -3.868      15.431\n",
       "PPI                                       0.0142      1.524      0.009      0.993      -2.979       3.008\n",
       "three_month_CD_rate                     -12.2393      4.775     -2.563      0.011     -21.616      -2.863\n",
       "Consumer_credit_Owned_and_securitized     0.0158      0.150      0.105      0.916      -0.279       0.311\n",
       "Unemployment_rate                       -21.9026      4.914     -4.457      0.000     -31.551     -12.254\n",
       "==============================================================================\n",
       "Omnibus:                       87.292   Durbin-Watson:                   2.825\n",
       "Prob(Omnibus):                  0.000   Jarque-Bera (JB):              828.726\n",
       "Skew:                          -0.026   Prob(JB):                    1.11e-180\n",
       "Kurtosis:                       8.424   Cond. No.                     2.71e+03\n",
       "==============================================================================\n",
       "\n",
       "Notes:\n",
       "[1] Standard Errors assume that the covariance matrix of the errors is correctly specified.\n",
       "[2] The condition number is large, 2.71e+03. This might indicate that there are\n",
       "strong multicollinearity or other numerical problems.\n",
       "\"\"\""
      ]
     },
     "execution_count": 141,
     "metadata": {},
     "output_type": "execute_result"
    }
   ],
   "source": [
    "model.summary()"
   ]
  },
  {
   "cell_type": "code",
   "execution_count": 47,
   "id": "f95ccd3e",
   "metadata": {},
   "outputs": [],
   "source": [
    "#p value of the vatiables should be less that 5 percent and t stats should be greater than 1.96\n",
    "#r sq should be high\n",
    "#all the assumptions should be correct - multicollinearity, autocorrelation, linearity and hateroskedasticity\n",
    "#for multicillinearity we do not want VIF greater than 5\n",
    "#variance of error terms should be constant\n",
    "#linearity - reset test\n",
    "#model should be general enough to work on out of sample data - Generalization\n",
    "#autocorrelation means that y is dependent on its own past value\n",
    "#multicollinearity means any two independent variable are highly correlated\n",
    "#hateroskedascity - there should be a single constant variance in my model, means there should not be any correlation between error term and any independent vatriable. \n",
    "#if there is any correlation btw error and any independent variable, it means error is not purely random,  \n",
    "# and it means error includes some independent variable that is not included in the model \n",
    "#problem of Hateroskedasticity means variance of error terms is not constant \n",
    "\n",
    "#Stepwise regression: \n",
    "\n",
    "#    remove problem of multicollinearity - removing correlated independent variables\n",
    "#    variable selection - deciding important variables\n",
    "#    removing the problem of autocorrelation\n",
    "#    removing the problem of hateroskedcty\n",
    "#    checking the accuracy of model"
   ]
  },
  {
   "cell_type": "code",
   "execution_count": 407,
   "id": "23e8f117",
   "metadata": {},
   "outputs": [
    {
     "data": {
      "text/plain": [
       "Intercept                                -0.163873\n",
       "Industrial_Production_Index             -11.256825\n",
       "M1_money_supply                          -0.004766\n",
       "three_Month_Tbill                        17.809003\n",
       "Moodys_AAA_rating                       -13.956366\n",
       "CPI                                       5.781805\n",
       "PPI                                       0.014192\n",
       "three_month_CD_rate                     -12.239290\n",
       "Consumer_credit_Owned_and_securitized     0.015771\n",
       "Unemployment_rate                       -21.902579\n",
       "dtype: float64"
      ]
     },
     "execution_count": 407,
     "metadata": {},
     "output_type": "execute_result"
    }
   ],
   "source": [
    "coefficient = model.params\n",
    "coefficient"
   ]
  },
  {
   "cell_type": "code",
   "execution_count": 408,
   "id": "7027dfbc",
   "metadata": {},
   "outputs": [
    {
     "data": {
      "text/plain": [
       "0.0644389788742672"
      ]
     },
     "execution_count": 408,
     "metadata": {},
     "output_type": "execute_result"
    }
   ],
   "source": [
    "model.rsquared"
   ]
  },
  {
   "cell_type": "code",
   "execution_count": 50,
   "id": "4b0f5a0c",
   "metadata": {},
   "outputs": [
    {
     "data": {
      "text/plain": [
       "Intercept                                0.922768\n",
       "Industrial_Production_Index              0.000004\n",
       "M1_money_supply                          0.177477\n",
       "three_Month_Tbill                        0.002496\n",
       "Moodys_AAA_rating                        0.061337\n",
       "CPI                                      0.239803\n",
       "PPI                                      0.992575\n",
       "three_month_CD_rate                      0.010594\n",
       "Consumer_credit_Owned_and_securitized    0.916467\n",
       "Unemployment_rate                        0.000010\n",
       "dtype: float64"
      ]
     },
     "execution_count": 50,
     "metadata": {},
     "output_type": "execute_result"
    }
   ],
   "source": [
    "model.pvalues"
   ]
  },
  {
   "cell_type": "code",
   "execution_count": 409,
   "id": "a1a4af08",
   "metadata": {},
   "outputs": [
    {
     "data": {
      "text/plain": [
       "0       7.912539\n",
       "1      -6.980113\n",
       "2       4.284286\n",
       "3      -4.799559\n",
       "4       5.125572\n",
       "         ...    \n",
       "673    32.561186\n",
       "674    -1.661329\n",
       "675     1.316550\n",
       "676     1.702103\n",
       "677    -8.340670\n",
       "Length: 676, dtype: float64"
      ]
     },
     "execution_count": 409,
     "metadata": {},
     "output_type": "execute_result"
    }
   ],
   "source": [
    "forecasted_y = model.fittedvalues\n",
    "forecasted_y"
   ]
  },
  {
   "cell_type": "code",
   "execution_count": 410,
   "id": "7e911b51",
   "metadata": {},
   "outputs": [
    {
     "data": {
      "text/html": [
       "<div>\n",
       "<style scoped>\n",
       "    .dataframe tbody tr th:only-of-type {\n",
       "        vertical-align: middle;\n",
       "    }\n",
       "\n",
       "    .dataframe tbody tr th {\n",
       "        vertical-align: top;\n",
       "    }\n",
       "\n",
       "    .dataframe thead th {\n",
       "        text-align: right;\n",
       "    }\n",
       "</style>\n",
       "<table border=\"1\" class=\"dataframe\">\n",
       "  <thead>\n",
       "    <tr style=\"text-align: right;\">\n",
       "      <th></th>\n",
       "      <th>SandP</th>\n",
       "      <th>Industrial_Production_Index</th>\n",
       "      <th>M1_money_supply</th>\n",
       "      <th>three_Month_Tbill</th>\n",
       "      <th>Moodys_AAA_rating</th>\n",
       "      <th>CPI</th>\n",
       "      <th>PPI</th>\n",
       "      <th>three_month_CD_rate</th>\n",
       "      <th>Consumer_credit_Owned_and_securitized</th>\n",
       "      <th>Unemployment_rate</th>\n",
       "      <th>fitted y</th>\n",
       "    </tr>\n",
       "  </thead>\n",
       "  <tbody>\n",
       "    <tr>\n",
       "      <th>0</th>\n",
       "      <td>-0.55</td>\n",
       "      <td>0.216</td>\n",
       "      <td>0.4</td>\n",
       "      <td>-0.12</td>\n",
       "      <td>3.000000e-02</td>\n",
       "      <td>0.03</td>\n",
       "      <td>-0.1</td>\n",
       "      <td>0.02</td>\n",
       "      <td>-0.205</td>\n",
       "      <td>-0.6</td>\n",
       "      <td>7.912539</td>\n",
       "    </tr>\n",
       "    <tr>\n",
       "      <th>1</th>\n",
       "      <td>1.06</td>\n",
       "      <td>-0.270</td>\n",
       "      <td>-0.1</td>\n",
       "      <td>0.00</td>\n",
       "      <td>0.000000e+00</td>\n",
       "      <td>0.04</td>\n",
       "      <td>0.1</td>\n",
       "      <td>-0.07</td>\n",
       "      <td>0.367</td>\n",
       "      <td>0.5</td>\n",
       "      <td>-6.980113</td>\n",
       "    </tr>\n",
       "    <tr>\n",
       "      <th>2</th>\n",
       "      <td>0.17</td>\n",
       "      <td>0.108</td>\n",
       "      <td>-0.8</td>\n",
       "      <td>-0.04</td>\n",
       "      <td>8.881784e-16</td>\n",
       "      <td>0.03</td>\n",
       "      <td>0.0</td>\n",
       "      <td>0.03</td>\n",
       "      <td>-0.292</td>\n",
       "      <td>-0.3</td>\n",
       "      <td>4.284286</td>\n",
       "    </tr>\n",
       "    <tr>\n",
       "      <th>3</th>\n",
       "      <td>-5.55</td>\n",
       "      <td>0.001</td>\n",
       "      <td>0.8</td>\n",
       "      <td>-0.05</td>\n",
       "      <td>1.000000e-02</td>\n",
       "      <td>0.03</td>\n",
       "      <td>0.2</td>\n",
       "      <td>-0.05</td>\n",
       "      <td>0.105</td>\n",
       "      <td>0.2</td>\n",
       "      <td>-4.799559</td>\n",
       "    </tr>\n",
       "    <tr>\n",
       "      <th>4</th>\n",
       "      <td>4.11</td>\n",
       "      <td>0.053</td>\n",
       "      <td>0.3</td>\n",
       "      <td>0.13</td>\n",
       "      <td>8.881784e-16</td>\n",
       "      <td>-0.16</td>\n",
       "      <td>-0.3</td>\n",
       "      <td>-0.01</td>\n",
       "      <td>-0.079</td>\n",
       "      <td>-0.2</td>\n",
       "      <td>5.125572</td>\n",
       "    </tr>\n",
       "  </tbody>\n",
       "</table>\n",
       "</div>"
      ],
      "text/plain": [
       "   SandP  Industrial_Production_Index  M1_money_supply  three_Month_Tbill  \\\n",
       "0  -0.55                        0.216              0.4              -0.12   \n",
       "1   1.06                       -0.270             -0.1               0.00   \n",
       "2   0.17                        0.108             -0.8              -0.04   \n",
       "3  -5.55                        0.001              0.8              -0.05   \n",
       "4   4.11                        0.053              0.3               0.13   \n",
       "\n",
       "   Moodys_AAA_rating   CPI  PPI  three_month_CD_rate  \\\n",
       "0       3.000000e-02  0.03 -0.1                 0.02   \n",
       "1       0.000000e+00  0.04  0.1                -0.07   \n",
       "2       8.881784e-16  0.03  0.0                 0.03   \n",
       "3       1.000000e-02  0.03  0.2                -0.05   \n",
       "4       8.881784e-16 -0.16 -0.3                -0.01   \n",
       "\n",
       "   Consumer_credit_Owned_and_securitized  Unemployment_rate  fitted y  \n",
       "0                                 -0.205               -0.6  7.912539  \n",
       "1                                  0.367                0.5 -6.980113  \n",
       "2                                 -0.292               -0.3  4.284286  \n",
       "3                                  0.105                0.2 -4.799559  \n",
       "4                                 -0.079               -0.2  5.125572  "
      ]
     },
     "execution_count": 410,
     "metadata": {},
     "output_type": "execute_result"
    }
   ],
   "source": [
    "df_6.loc[:,'fitted y'] = forecasted_y\n",
    "#adding predicted y in the last column of data\n",
    "df_6.head()"
   ]
  },
  {
   "cell_type": "code",
   "execution_count": 53,
   "id": "3d07a699",
   "metadata": {},
   "outputs": [],
   "source": [
    "#for Multicollinearity - we compute variance inflation factor, problem of multicollin inflates variance of error terms, but we want it to be low\n",
    "#VIF above 5/10 is not acceptable\n",
    "#VIF = 1/(1-r sq)\n",
    "#for computing the VIF of all independent variables, we'll have to make them as dependent variavbles and run regression with other independent variables\n",
    "#Industrial_Production_index ~ M1 + threemonth + .......\n",
    "#then - M1_money_supply ~ Industrial_Production_index + three month + .......\n",
    "# so, 9 VIFs will be calculated\n",
    "#store all the VIFs in a table. Check maximum value of the table. \n",
    "#then delete the variable with VIF greater than 5\n",
    "#again calculate VIF for the remaining 8 variables..and so on and on\n",
    "\n",
    "\n",
    "#Then rerun the regression for all remaining independent variable by making them as dependent variable\n",
    "#again repeat the above steps"
   ]
  },
  {
   "cell_type": "code",
   "execution_count": 54,
   "id": "31c3aec8",
   "metadata": {},
   "outputs": [
    {
     "data": {
      "text/plain": [
       "pandas.core.indexes.base.Index"
      ]
     },
     "execution_count": 54,
     "metadata": {},
     "output_type": "execute_result"
    }
   ],
   "source": [
    "type(cols)"
   ]
  },
  {
   "cell_type": "code",
   "execution_count": 411,
   "id": "6c97dc54",
   "metadata": {},
   "outputs": [
    {
     "data": {
      "text/plain": [
       "-83.27170128882543"
      ]
     },
     "execution_count": 411,
     "metadata": {},
     "output_type": "execute_result"
    }
   ],
   "source": [
    "y.max()\n",
    "forecasted_y.max()\n",
    "y.min()\n",
    "forecasted_y.min()"
   ]
  },
  {
   "cell_type": "code",
   "execution_count": 412,
   "id": "81fa4a2a",
   "metadata": {},
   "outputs": [
    {
     "data": {
      "text/plain": [
       "Text(0.5, 1.0, 'Actual vs Predicted S&P')"
      ]
     },
     "execution_count": 412,
     "metadata": {},
     "output_type": "execute_result"
    },
    {
     "data": {
      "image/png": "[encoded data removed]",
      "text/plain": [
       "<Figure size 432x288 with 1 Axes>"
      ]
     },
     "metadata": {
      "needs_background": "light"
     },
     "output_type": "display_data"
    }
   ],
   "source": [
    "plt.scatter(y,forecasted_y)\n",
    "plt.xlabel('Actual')\n",
    "plt.ylabel('Predicted')\n",
    "plt.title('Actual vs Predicted S&P')\n"
   ]
  },
  {
   "cell_type": "code",
   "execution_count": null,
   "id": "accf75ba",
   "metadata": {},
   "outputs": [],
   "source": []
  },
  {
   "cell_type": "code",
   "execution_count": 57,
   "id": "ebcb5941",
   "metadata": {},
   "outputs": [],
   "source": [
    "\n",
    "#https://www.geeksforgeeks.org/find-maximum-values-position-in-columns-and-rows-of-a-dataframe-in-pandas/"
   ]
  },
  {
   "cell_type": "code",
   "execution_count": 58,
   "id": "614593af",
   "metadata": {},
   "outputs": [],
   "source": [
    "#deleting extreme outliers only"
   ]
  },
  {
   "cell_type": "code",
   "execution_count": null,
   "id": "84ab48c3",
   "metadata": {},
   "outputs": [],
   "source": []
  },
  {
   "cell_type": "code",
   "execution_count": 59,
   "id": "30f9af0f",
   "metadata": {},
   "outputs": [],
   "source": [
    "#plt.plot(df6[\"CPI\"])"
   ]
  },
  {
   "cell_type": "code",
   "execution_count": 60,
   "id": "9a500aa4",
   "metadata": {},
   "outputs": [],
   "source": [
    "#SandP stationary after second order differencing\n",
    "#Industrial_Production_Index is stationary\n",
    "#M1_money_supply is stationary\n",
    "#three_Month_Tbill is stationary\n",
    "#Moodys_AAA_rating is stationary\n",
    "#CPI and PPI is stationary\n",
    "#three_month_CD_rate is stationary\n",
    "#Consumer_credit_Owned_and_securitized is stationary\n",
    "#Unemployment_rate is stationary\n",
    "\n",
    "# All indepoendent variavbles are stationary at first differencing only and only Dependent variable i.e. SandP is stationary\n",
    "#after second order differencing"
   ]
  },
  {
   "cell_type": "code",
   "execution_count": 61,
   "id": "93f1d98e",
   "metadata": {},
   "outputs": [],
   "source": [
    "#For updating the master sheet - data = pd.concate([y,x],axis = 1)"
   ]
  },
  {
   "cell_type": "code",
   "execution_count": null,
   "id": "2ba3e6f2",
   "metadata": {},
   "outputs": [],
   "source": []
  },
  {
   "cell_type": "code",
   "execution_count": null,
   "id": "1e3ed29c",
   "metadata": {},
   "outputs": [],
   "source": []
  },
  {
   "cell_type": "code",
   "execution_count": null,
   "id": "b2171b43",
   "metadata": {},
   "outputs": [],
   "source": []
  },
  {
   "cell_type": "code",
   "execution_count": null,
   "id": "3b8ff97d",
   "metadata": {},
   "outputs": [],
   "source": []
  },
  {
   "cell_type": "code",
   "execution_count": null,
   "id": "54397153",
   "metadata": {},
   "outputs": [],
   "source": []
  },
  {
   "cell_type": "code",
   "execution_count": null,
   "id": "15fd5b70",
   "metadata": {},
   "outputs": [],
   "source": []
  },
  {
   "cell_type": "markdown",
   "id": "adbc22a0",
   "metadata": {},
   "source": [
    "### Important Variable Selection using Backward selection"
   ]
  },
  {
   "cell_type": "code",
   "execution_count": 147,
   "id": "a87ba6dc",
   "metadata": {},
   "outputs": [],
   "source": [
    "p_value = list(model.pvalues)"
   ]
  },
  {
   "cell_type": "code",
   "execution_count": 148,
   "id": "6d68043e",
   "metadata": {},
   "outputs": [
    {
     "data": {
      "text/plain": [
       "Intercept                                0.922768\n",
       "Industrial_Production_Index              0.000004\n",
       "M1_money_supply                          0.177477\n",
       "three_Month_Tbill                        0.002496\n",
       "Moodys_AAA_rating                        0.061337\n",
       "CPI                                      0.239803\n",
       "PPI                                      0.992575\n",
       "three_month_CD_rate                      0.010594\n",
       "Consumer_credit_Owned_and_securitized    0.916467\n",
       "Unemployment_rate                        0.000010\n",
       "dtype: float64"
      ]
     },
     "execution_count": 148,
     "metadata": {},
     "output_type": "execute_result"
    }
   ],
   "source": [
    "model.pvalues"
   ]
  },
  {
   "cell_type": "code",
   "execution_count": 64,
   "id": "715037ea",
   "metadata": {},
   "outputs": [
    {
     "data": {
      "text/plain": [
       "[0.9227678446056008,\n",
       " 4.152640876141203e-06,\n",
       " 0.17747683683422943,\n",
       " 0.0024961179772333753,\n",
       " 0.061337221453206706,\n",
       " 0.23980256613695808,\n",
       " 0.9925747700033763,\n",
       " 0.010594271410012948,\n",
       " 0.9164671273115778,\n",
       " 9.735090132266551e-06]"
      ]
     },
     "execution_count": 64,
     "metadata": {},
     "output_type": "execute_result"
    }
   ],
   "source": [
    "p_value    "
   ]
  },
  {
   "cell_type": "code",
   "execution_count": 414,
   "id": "3180bc53",
   "metadata": {},
   "outputs": [
    {
     "name": "stdout",
     "output_type": "stream",
     "text": [
      "Drop the variable PPI\n"
     ]
    }
   ],
   "source": [
    "if max(p_value[1:]) > 0.05:\n",
    "    max_value = df_6.columns[p_value.index(max(p_value[1:]))]\n",
    "    print('Drop the variable ' + str(max_value))"
   ]
  },
  {
   "cell_type": "code",
   "execution_count": 415,
   "id": "643fcb8c",
   "metadata": {},
   "outputs": [],
   "source": [
    "df7 = df_6.drop(columns=['PPI','fitted y'])"
   ]
  },
  {
   "cell_type": "code",
   "execution_count": 416,
   "id": "d63596b5",
   "metadata": {},
   "outputs": [
    {
     "data": {
      "text/html": [
       "<div>\n",
       "<style scoped>\n",
       "    .dataframe tbody tr th:only-of-type {\n",
       "        vertical-align: middle;\n",
       "    }\n",
       "\n",
       "    .dataframe tbody tr th {\n",
       "        vertical-align: top;\n",
       "    }\n",
       "\n",
       "    .dataframe thead th {\n",
       "        text-align: right;\n",
       "    }\n",
       "</style>\n",
       "<table border=\"1\" class=\"dataframe\">\n",
       "  <thead>\n",
       "    <tr style=\"text-align: right;\">\n",
       "      <th></th>\n",
       "      <th>SandP</th>\n",
       "      <th>Industrial_Production_Index</th>\n",
       "      <th>M1_money_supply</th>\n",
       "      <th>three_Month_Tbill</th>\n",
       "      <th>Moodys_AAA_rating</th>\n",
       "      <th>CPI</th>\n",
       "      <th>three_month_CD_rate</th>\n",
       "      <th>Consumer_credit_Owned_and_securitized</th>\n",
       "      <th>Unemployment_rate</th>\n",
       "    </tr>\n",
       "  </thead>\n",
       "  <tbody>\n",
       "    <tr>\n",
       "      <th>0</th>\n",
       "      <td>-0.55</td>\n",
       "      <td>0.216</td>\n",
       "      <td>0.4</td>\n",
       "      <td>-0.12</td>\n",
       "      <td>3.000000e-02</td>\n",
       "      <td>0.03</td>\n",
       "      <td>0.02</td>\n",
       "      <td>-0.205</td>\n",
       "      <td>-0.6</td>\n",
       "    </tr>\n",
       "    <tr>\n",
       "      <th>1</th>\n",
       "      <td>1.06</td>\n",
       "      <td>-0.270</td>\n",
       "      <td>-0.1</td>\n",
       "      <td>0.00</td>\n",
       "      <td>0.000000e+00</td>\n",
       "      <td>0.04</td>\n",
       "      <td>-0.07</td>\n",
       "      <td>0.367</td>\n",
       "      <td>0.5</td>\n",
       "    </tr>\n",
       "    <tr>\n",
       "      <th>2</th>\n",
       "      <td>0.17</td>\n",
       "      <td>0.108</td>\n",
       "      <td>-0.8</td>\n",
       "      <td>-0.04</td>\n",
       "      <td>8.881784e-16</td>\n",
       "      <td>0.03</td>\n",
       "      <td>0.03</td>\n",
       "      <td>-0.292</td>\n",
       "      <td>-0.3</td>\n",
       "    </tr>\n",
       "    <tr>\n",
       "      <th>3</th>\n",
       "      <td>-5.55</td>\n",
       "      <td>0.001</td>\n",
       "      <td>0.8</td>\n",
       "      <td>-0.05</td>\n",
       "      <td>1.000000e-02</td>\n",
       "      <td>0.03</td>\n",
       "      <td>-0.05</td>\n",
       "      <td>0.105</td>\n",
       "      <td>0.2</td>\n",
       "    </tr>\n",
       "    <tr>\n",
       "      <th>4</th>\n",
       "      <td>4.11</td>\n",
       "      <td>0.053</td>\n",
       "      <td>0.3</td>\n",
       "      <td>0.13</td>\n",
       "      <td>8.881784e-16</td>\n",
       "      <td>-0.16</td>\n",
       "      <td>-0.01</td>\n",
       "      <td>-0.079</td>\n",
       "      <td>-0.2</td>\n",
       "    </tr>\n",
       "  </tbody>\n",
       "</table>\n",
       "</div>"
      ],
      "text/plain": [
       "   SandP  Industrial_Production_Index  M1_money_supply  three_Month_Tbill  \\\n",
       "0  -0.55                        0.216              0.4              -0.12   \n",
       "1   1.06                       -0.270             -0.1               0.00   \n",
       "2   0.17                        0.108             -0.8              -0.04   \n",
       "3  -5.55                        0.001              0.8              -0.05   \n",
       "4   4.11                        0.053              0.3               0.13   \n",
       "\n",
       "   Moodys_AAA_rating   CPI  three_month_CD_rate  \\\n",
       "0       3.000000e-02  0.03                 0.02   \n",
       "1       0.000000e+00  0.04                -0.07   \n",
       "2       8.881784e-16  0.03                 0.03   \n",
       "3       1.000000e-02  0.03                -0.05   \n",
       "4       8.881784e-16 -0.16                -0.01   \n",
       "\n",
       "   Consumer_credit_Owned_and_securitized  Unemployment_rate  \n",
       "0                                 -0.205               -0.6  \n",
       "1                                  0.367                0.5  \n",
       "2                                 -0.292               -0.3  \n",
       "3                                  0.105                0.2  \n",
       "4                                 -0.079               -0.2  "
      ]
     },
     "execution_count": 416,
     "metadata": {},
     "output_type": "execute_result"
    }
   ],
   "source": [
    "df7.head()"
   ]
  },
  {
   "cell_type": "code",
   "execution_count": 152,
   "id": "93f9e309",
   "metadata": {},
   "outputs": [],
   "source": [
    "model1 = ols('SandP ~ Industrial_Production_Index + M1_money_supply + three_Month_Tbill + Moodys_AAA_rating + CPI + three_month_CD_rate + Consumer_credit_Owned_and_securitized + Unemployment_rate',df7).fit()"
   ]
  },
  {
   "cell_type": "code",
   "execution_count": 417,
   "id": "c6302271",
   "metadata": {},
   "outputs": [],
   "source": [
    "forecasted_y1 = model1.fittedvalues\n",
    "df7.loc[:,'fitted y1'] = forecasted_y1"
   ]
  },
  {
   "cell_type": "code",
   "execution_count": 418,
   "id": "eda03be5",
   "metadata": {},
   "outputs": [
    {
     "data": {
      "text/html": [
       "<div>\n",
       "<style scoped>\n",
       "    .dataframe tbody tr th:only-of-type {\n",
       "        vertical-align: middle;\n",
       "    }\n",
       "\n",
       "    .dataframe tbody tr th {\n",
       "        vertical-align: top;\n",
       "    }\n",
       "\n",
       "    .dataframe thead th {\n",
       "        text-align: right;\n",
       "    }\n",
       "</style>\n",
       "<table border=\"1\" class=\"dataframe\">\n",
       "  <thead>\n",
       "    <tr style=\"text-align: right;\">\n",
       "      <th></th>\n",
       "      <th>SandP</th>\n",
       "      <th>Industrial_Production_Index</th>\n",
       "      <th>M1_money_supply</th>\n",
       "      <th>three_Month_Tbill</th>\n",
       "      <th>Moodys_AAA_rating</th>\n",
       "      <th>CPI</th>\n",
       "      <th>three_month_CD_rate</th>\n",
       "      <th>Consumer_credit_Owned_and_securitized</th>\n",
       "      <th>Unemployment_rate</th>\n",
       "      <th>fitted y1</th>\n",
       "    </tr>\n",
       "  </thead>\n",
       "  <tbody>\n",
       "    <tr>\n",
       "      <th>0</th>\n",
       "      <td>-0.55</td>\n",
       "      <td>0.216</td>\n",
       "      <td>0.4</td>\n",
       "      <td>-0.12</td>\n",
       "      <td>3.000000e-02</td>\n",
       "      <td>0.03</td>\n",
       "      <td>0.02</td>\n",
       "      <td>-0.205</td>\n",
       "      <td>-0.6</td>\n",
       "      <td>7.917657</td>\n",
       "    </tr>\n",
       "    <tr>\n",
       "      <th>1</th>\n",
       "      <td>1.06</td>\n",
       "      <td>-0.270</td>\n",
       "      <td>-0.1</td>\n",
       "      <td>0.00</td>\n",
       "      <td>0.000000e+00</td>\n",
       "      <td>0.04</td>\n",
       "      <td>-0.07</td>\n",
       "      <td>0.367</td>\n",
       "      <td>0.5</td>\n",
       "      <td>-6.982639</td>\n",
       "    </tr>\n",
       "    <tr>\n",
       "      <th>2</th>\n",
       "      <td>0.17</td>\n",
       "      <td>0.108</td>\n",
       "      <td>-0.8</td>\n",
       "      <td>-0.04</td>\n",
       "      <td>8.881784e-16</td>\n",
       "      <td>0.03</td>\n",
       "      <td>0.03</td>\n",
       "      <td>-0.292</td>\n",
       "      <td>-0.3</td>\n",
       "      <td>4.286416</td>\n",
       "    </tr>\n",
       "    <tr>\n",
       "      <th>3</th>\n",
       "      <td>-5.55</td>\n",
       "      <td>0.001</td>\n",
       "      <td>0.8</td>\n",
       "      <td>-0.05</td>\n",
       "      <td>1.000000e-02</td>\n",
       "      <td>0.03</td>\n",
       "      <td>-0.05</td>\n",
       "      <td>0.105</td>\n",
       "      <td>0.2</td>\n",
       "      <td>-4.802702</td>\n",
       "    </tr>\n",
       "    <tr>\n",
       "      <th>4</th>\n",
       "      <td>4.11</td>\n",
       "      <td>0.053</td>\n",
       "      <td>0.3</td>\n",
       "      <td>0.13</td>\n",
       "      <td>8.881784e-16</td>\n",
       "      <td>-0.16</td>\n",
       "      <td>-0.01</td>\n",
       "      <td>-0.079</td>\n",
       "      <td>-0.2</td>\n",
       "      <td>5.126947</td>\n",
       "    </tr>\n",
       "  </tbody>\n",
       "</table>\n",
       "</div>"
      ],
      "text/plain": [
       "   SandP  Industrial_Production_Index  M1_money_supply  three_Month_Tbill  \\\n",
       "0  -0.55                        0.216              0.4              -0.12   \n",
       "1   1.06                       -0.270             -0.1               0.00   \n",
       "2   0.17                        0.108             -0.8              -0.04   \n",
       "3  -5.55                        0.001              0.8              -0.05   \n",
       "4   4.11                        0.053              0.3               0.13   \n",
       "\n",
       "   Moodys_AAA_rating   CPI  three_month_CD_rate  \\\n",
       "0       3.000000e-02  0.03                 0.02   \n",
       "1       0.000000e+00  0.04                -0.07   \n",
       "2       8.881784e-16  0.03                 0.03   \n",
       "3       1.000000e-02  0.03                -0.05   \n",
       "4       8.881784e-16 -0.16                -0.01   \n",
       "\n",
       "   Consumer_credit_Owned_and_securitized  Unemployment_rate  fitted y1  \n",
       "0                                 -0.205               -0.6   7.917657  \n",
       "1                                  0.367                0.5  -6.982639  \n",
       "2                                 -0.292               -0.3   4.286416  \n",
       "3                                  0.105                0.2  -4.802702  \n",
       "4                                 -0.079               -0.2   5.126947  "
      ]
     },
     "execution_count": 418,
     "metadata": {},
     "output_type": "execute_result"
    }
   ],
   "source": [
    "df7.head()"
   ]
  },
  {
   "cell_type": "code",
   "execution_count": 419,
   "id": "5685dd1f",
   "metadata": {},
   "outputs": [
    {
     "data": {
      "text/plain": [
       "Intercept                                0.922694\n",
       "Industrial_Production_Index              0.000004\n",
       "M1_money_supply                          0.172879\n",
       "three_Month_Tbill                        0.002433\n",
       "Moodys_AAA_rating                        0.060588\n",
       "CPI                                      0.138711\n",
       "three_month_CD_rate                      0.010119\n",
       "Consumer_credit_Owned_and_securitized    0.916043\n",
       "Unemployment_rate                        0.000008\n",
       "dtype: float64"
      ]
     },
     "execution_count": 419,
     "metadata": {},
     "output_type": "execute_result"
    }
   ],
   "source": [
    "model1.pvalues"
   ]
  },
  {
   "cell_type": "code",
   "execution_count": 155,
   "id": "127399e3",
   "metadata": {},
   "outputs": [
    {
     "data": {
      "text/plain": [
       "[0.922693785408519,\n",
       " 3.7206362235392354e-06,\n",
       " 0.17287921602596573,\n",
       " 0.0024334618161054133,\n",
       " 0.0605875288145914,\n",
       " 0.13871050902746226,\n",
       " 0.01011861602383714,\n",
       " 0.9160433274188873,\n",
       " 7.930158033186416e-06]"
      ]
     },
     "execution_count": 155,
     "metadata": {},
     "output_type": "execute_result"
    }
   ],
   "source": [
    "p_value1 = list(model1.pvalues)\n",
    "p_value1"
   ]
  },
  {
   "cell_type": "code",
   "execution_count": 156,
   "id": "dfc6e4f9",
   "metadata": {},
   "outputs": [],
   "source": [
    "cols1 = df7.columns\n",
    "#redifining columns"
   ]
  },
  {
   "cell_type": "code",
   "execution_count": 420,
   "id": "9b685203",
   "metadata": {},
   "outputs": [],
   "source": [
    "x1 = cols1[1:]\n",
    "y1 = cols1[0:1]\n",
    "y1 = df7[y1]\n",
    "x1 = df7[x1]\n",
    "#redifining dependent and indenpendent variavbles for new data"
   ]
  },
  {
   "cell_type": "code",
   "execution_count": 421,
   "id": "5a98796b",
   "metadata": {},
   "outputs": [
    {
     "name": "stdout",
     "output_type": "stream",
     "text": [
      "Drop the variable Consumer_credit_Owned_and_securitized\n"
     ]
    }
   ],
   "source": [
    "if max(p_value1[1:]) > 0.05:\n",
    "    max_value1 = cols1[p_value1.index(max(p_value1[1:]))]\n",
    "    print('Drop the variable ' + str(max_value1))"
   ]
  },
  {
   "cell_type": "code",
   "execution_count": 422,
   "id": "c3687dd9",
   "metadata": {},
   "outputs": [],
   "source": [
    "df8 = df7.drop(columns=['Consumer_credit_Owned_and_securitized','fitted y1'])\n",
    "\n",
    "model2 = ols('SandP ~ Industrial_Production_Index + M1_money_supply + three_Month_Tbill + Moodys_AAA_rating + CPI + three_month_CD_rate + Unemployment_rate',df8).fit()"
   ]
  },
  {
   "cell_type": "code",
   "execution_count": 423,
   "id": "537b8598",
   "metadata": {},
   "outputs": [
    {
     "data": {
      "text/html": [
       "<div>\n",
       "<style scoped>\n",
       "    .dataframe tbody tr th:only-of-type {\n",
       "        vertical-align: middle;\n",
       "    }\n",
       "\n",
       "    .dataframe tbody tr th {\n",
       "        vertical-align: top;\n",
       "    }\n",
       "\n",
       "    .dataframe thead th {\n",
       "        text-align: right;\n",
       "    }\n",
       "</style>\n",
       "<table border=\"1\" class=\"dataframe\">\n",
       "  <thead>\n",
       "    <tr style=\"text-align: right;\">\n",
       "      <th></th>\n",
       "      <th>SandP</th>\n",
       "      <th>Industrial_Production_Index</th>\n",
       "      <th>M1_money_supply</th>\n",
       "      <th>three_Month_Tbill</th>\n",
       "      <th>Moodys_AAA_rating</th>\n",
       "      <th>CPI</th>\n",
       "      <th>three_month_CD_rate</th>\n",
       "      <th>Unemployment_rate</th>\n",
       "      <th>fitted y2</th>\n",
       "    </tr>\n",
       "  </thead>\n",
       "  <tbody>\n",
       "    <tr>\n",
       "      <th>0</th>\n",
       "      <td>-0.55</td>\n",
       "      <td>0.216</td>\n",
       "      <td>0.4</td>\n",
       "      <td>-0.12</td>\n",
       "      <td>3.000000e-02</td>\n",
       "      <td>0.03</td>\n",
       "      <td>0.02</td>\n",
       "      <td>-0.6</td>\n",
       "      <td>7.960281</td>\n",
       "    </tr>\n",
       "    <tr>\n",
       "      <th>1</th>\n",
       "      <td>1.06</td>\n",
       "      <td>-0.270</td>\n",
       "      <td>-0.1</td>\n",
       "      <td>0.00</td>\n",
       "      <td>0.000000e+00</td>\n",
       "      <td>0.04</td>\n",
       "      <td>-0.07</td>\n",
       "      <td>0.5</td>\n",
       "      <td>-7.017797</td>\n",
       "    </tr>\n",
       "    <tr>\n",
       "      <th>2</th>\n",
       "      <td>0.17</td>\n",
       "      <td>0.108</td>\n",
       "      <td>-0.8</td>\n",
       "      <td>-0.04</td>\n",
       "      <td>8.881784e-16</td>\n",
       "      <td>0.03</td>\n",
       "      <td>0.03</td>\n",
       "      <td>-0.3</td>\n",
       "      <td>4.311541</td>\n",
       "    </tr>\n",
       "    <tr>\n",
       "      <th>3</th>\n",
       "      <td>-5.55</td>\n",
       "      <td>0.001</td>\n",
       "      <td>0.8</td>\n",
       "      <td>-0.05</td>\n",
       "      <td>1.000000e-02</td>\n",
       "      <td>0.03</td>\n",
       "      <td>-0.05</td>\n",
       "      <td>0.2</td>\n",
       "      <td>-4.813408</td>\n",
       "    </tr>\n",
       "    <tr>\n",
       "      <th>4</th>\n",
       "      <td>4.11</td>\n",
       "      <td>0.053</td>\n",
       "      <td>0.3</td>\n",
       "      <td>0.13</td>\n",
       "      <td>8.881784e-16</td>\n",
       "      <td>-0.16</td>\n",
       "      <td>-0.01</td>\n",
       "      <td>-0.2</td>\n",
       "      <td>5.134797</td>\n",
       "    </tr>\n",
       "  </tbody>\n",
       "</table>\n",
       "</div>"
      ],
      "text/plain": [
       "   SandP  Industrial_Production_Index  M1_money_supply  three_Month_Tbill  \\\n",
       "0  -0.55                        0.216              0.4              -0.12   \n",
       "1   1.06                       -0.270             -0.1               0.00   \n",
       "2   0.17                        0.108             -0.8              -0.04   \n",
       "3  -5.55                        0.001              0.8              -0.05   \n",
       "4   4.11                        0.053              0.3               0.13   \n",
       "\n",
       "   Moodys_AAA_rating   CPI  three_month_CD_rate  Unemployment_rate  fitted y2  \n",
       "0       3.000000e-02  0.03                 0.02               -0.6   7.960281  \n",
       "1       0.000000e+00  0.04                -0.07                0.5  -7.017797  \n",
       "2       8.881784e-16  0.03                 0.03               -0.3   4.311541  \n",
       "3       1.000000e-02  0.03                -0.05                0.2  -4.813408  \n",
       "4       8.881784e-16 -0.16                -0.01               -0.2   5.134797  "
      ]
     },
     "execution_count": 423,
     "metadata": {},
     "output_type": "execute_result"
    }
   ],
   "source": [
    "forecasted_y2 = model2.fittedvalues\n",
    "df8.loc[:,'fitted y2'] = forecasted_y2\n",
    "df8.head()"
   ]
  },
  {
   "cell_type": "code",
   "execution_count": 424,
   "id": "73fd7a5d",
   "metadata": {},
   "outputs": [
    {
     "data": {
      "text/plain": [
       "Intercept                      0.922965\n",
       "Industrial_Production_Index    0.000004\n",
       "M1_money_supply                0.168770\n",
       "three_Month_Tbill              0.002387\n",
       "Moodys_AAA_rating              0.060709\n",
       "CPI                            0.131214\n",
       "three_month_CD_rate            0.009907\n",
       "Unemployment_rate              0.000006\n",
       "dtype: float64"
      ]
     },
     "execution_count": 424,
     "metadata": {},
     "output_type": "execute_result"
    }
   ],
   "source": [
    "model2.pvalues"
   ]
  },
  {
   "cell_type": "code",
   "execution_count": 425,
   "id": "fb781598",
   "metadata": {},
   "outputs": [
    {
     "name": "stdout",
     "output_type": "stream",
     "text": [
      "Drop the variable M1_money_supply\n"
     ]
    }
   ],
   "source": [
    "p_value2 = list(model2.pvalues)\n",
    "cols2 = df8.columns\n",
    "\n",
    "x2 = cols2[1:]\n",
    "y2 = cols2[0:1]\n",
    "y2 = df8[y2]\n",
    "x2 = df8[x2]\n",
    "\n",
    "if max(p_value2[1:]) > 0.05:\n",
    "    max_value2 = cols2[p_value2.index(max(p_value2[1:]))]\n",
    "    print('Drop the variable ' + str(max_value2))\n",
    "else:\n",
    "    print('No variable to be dropped')\n"
   ]
  },
  {
   "cell_type": "code",
   "execution_count": 163,
   "id": "34f74f37",
   "metadata": {},
   "outputs": [],
   "source": [
    "df9 = df8.drop(columns=['M1_money_supply','fitted y2'])\n",
    "\n",
    "model3 = ols('SandP ~ Industrial_Production_Index + three_Month_Tbill + Moodys_AAA_rating + CPI + three_month_CD_rate + Unemployment_rate',df9).fit()"
   ]
  },
  {
   "cell_type": "code",
   "execution_count": 426,
   "id": "72cf7365",
   "metadata": {},
   "outputs": [
    {
     "data": {
      "text/html": [
       "<div>\n",
       "<style scoped>\n",
       "    .dataframe tbody tr th:only-of-type {\n",
       "        vertical-align: middle;\n",
       "    }\n",
       "\n",
       "    .dataframe tbody tr th {\n",
       "        vertical-align: top;\n",
       "    }\n",
       "\n",
       "    .dataframe thead th {\n",
       "        text-align: right;\n",
       "    }\n",
       "</style>\n",
       "<table border=\"1\" class=\"dataframe\">\n",
       "  <thead>\n",
       "    <tr style=\"text-align: right;\">\n",
       "      <th></th>\n",
       "      <th>SandP</th>\n",
       "      <th>Industrial_Production_Index</th>\n",
       "      <th>three_Month_Tbill</th>\n",
       "      <th>Moodys_AAA_rating</th>\n",
       "      <th>CPI</th>\n",
       "      <th>three_month_CD_rate</th>\n",
       "      <th>Unemployment_rate</th>\n",
       "      <th>fitted y3</th>\n",
       "    </tr>\n",
       "  </thead>\n",
       "  <tbody>\n",
       "    <tr>\n",
       "      <th>0</th>\n",
       "      <td>-0.55</td>\n",
       "      <td>0.216</td>\n",
       "      <td>-0.12</td>\n",
       "      <td>3.000000e-02</td>\n",
       "      <td>0.03</td>\n",
       "      <td>0.02</td>\n",
       "      <td>-0.6</td>\n",
       "      <td>6.052422</td>\n",
       "    </tr>\n",
       "    <tr>\n",
       "      <th>1</th>\n",
       "      <td>1.06</td>\n",
       "      <td>-0.270</td>\n",
       "      <td>0.00</td>\n",
       "      <td>0.000000e+00</td>\n",
       "      <td>0.04</td>\n",
       "      <td>-0.07</td>\n",
       "      <td>0.5</td>\n",
       "      <td>-5.310740</td>\n",
       "    </tr>\n",
       "    <tr>\n",
       "      <th>2</th>\n",
       "      <td>0.17</td>\n",
       "      <td>0.108</td>\n",
       "      <td>-0.04</td>\n",
       "      <td>8.881784e-16</td>\n",
       "      <td>0.03</td>\n",
       "      <td>0.03</td>\n",
       "      <td>-0.3</td>\n",
       "      <td>3.396579</td>\n",
       "    </tr>\n",
       "    <tr>\n",
       "      <th>3</th>\n",
       "      <td>-5.55</td>\n",
       "      <td>0.001</td>\n",
       "      <td>-0.05</td>\n",
       "      <td>1.000000e-02</td>\n",
       "      <td>0.03</td>\n",
       "      <td>-0.05</td>\n",
       "      <td>0.2</td>\n",
       "      <td>-4.078397</td>\n",
       "    </tr>\n",
       "    <tr>\n",
       "      <th>4</th>\n",
       "      <td>4.11</td>\n",
       "      <td>0.053</td>\n",
       "      <td>0.13</td>\n",
       "      <td>8.881784e-16</td>\n",
       "      <td>-0.16</td>\n",
       "      <td>-0.01</td>\n",
       "      <td>-0.2</td>\n",
       "      <td>4.385856</td>\n",
       "    </tr>\n",
       "  </tbody>\n",
       "</table>\n",
       "</div>"
      ],
      "text/plain": [
       "   SandP  Industrial_Production_Index  three_Month_Tbill  Moodys_AAA_rating  \\\n",
       "0  -0.55                        0.216              -0.12       3.000000e-02   \n",
       "1   1.06                       -0.270               0.00       0.000000e+00   \n",
       "2   0.17                        0.108              -0.04       8.881784e-16   \n",
       "3  -5.55                        0.001              -0.05       1.000000e-02   \n",
       "4   4.11                        0.053               0.13       8.881784e-16   \n",
       "\n",
       "    CPI  three_month_CD_rate  Unemployment_rate  fitted y3  \n",
       "0  0.03                 0.02               -0.6   6.052422  \n",
       "1  0.04                -0.07                0.5  -5.310740  \n",
       "2  0.03                 0.03               -0.3   3.396579  \n",
       "3  0.03                -0.05                0.2  -4.078397  \n",
       "4 -0.16                -0.01               -0.2   4.385856  "
      ]
     },
     "execution_count": 426,
     "metadata": {},
     "output_type": "execute_result"
    }
   ],
   "source": [
    "forecasted_y3 = model3.fittedvalues\n",
    "df9.loc[:,'fitted y3'] = forecasted_y3\n",
    "df9.head()"
   ]
  },
  {
   "cell_type": "code",
   "execution_count": 427,
   "id": "1e134ecf",
   "metadata": {},
   "outputs": [
    {
     "data": {
      "text/plain": [
       "Intercept                      0.947401\n",
       "Industrial_Production_Index    0.000004\n",
       "three_Month_Tbill              0.002853\n",
       "Moodys_AAA_rating              0.052940\n",
       "CPI                            0.099122\n",
       "three_month_CD_rate            0.013106\n",
       "Unemployment_rate              0.000009\n",
       "dtype: float64"
      ]
     },
     "execution_count": 427,
     "metadata": {},
     "output_type": "execute_result"
    }
   ],
   "source": [
    "model3.pvalues"
   ]
  },
  {
   "cell_type": "code",
   "execution_count": 428,
   "id": "4a64a56a",
   "metadata": {},
   "outputs": [
    {
     "name": "stdout",
     "output_type": "stream",
     "text": [
      "Drop the variable CPI\n"
     ]
    }
   ],
   "source": [
    "p_value3 = list(model3.pvalues)\n",
    "cols3 = df9.columns\n",
    "\n",
    "x3 = cols3[1:]\n",
    "y3 = cols3[0:1]\n",
    "y3 = df9[y3]\n",
    "x3 = df9[x3]\n",
    "\n",
    "if max(p_value3[1:]) > 0.05:\n",
    "    max_value3 = cols3[p_value3.index(max(p_value3[1:]))]\n",
    "    print('Drop the variable ' + str(max_value3))\n",
    "else:\n",
    "    print('No variable to be dropped')"
   ]
  },
  {
   "cell_type": "code",
   "execution_count": 429,
   "id": "04938ee9",
   "metadata": {},
   "outputs": [
    {
     "data": {
      "text/plain": [
       "'CPI'"
      ]
     },
     "execution_count": 429,
     "metadata": {},
     "output_type": "execute_result"
    }
   ],
   "source": [
    "max_value3"
   ]
  },
  {
   "cell_type": "code",
   "execution_count": 430,
   "id": "02f6fa1c",
   "metadata": {},
   "outputs": [],
   "source": [
    "df9_1 = df9.drop(columns=['CPI','fitted y3'])\n",
    "\n",
    "model3_1 = ols('SandP ~ Industrial_Production_Index + three_Month_Tbill + Moodys_AAA_rating + three_month_CD_rate + Unemployment_rate',df9_1).fit()"
   ]
  },
  {
   "cell_type": "code",
   "execution_count": 431,
   "id": "0aa89881",
   "metadata": {},
   "outputs": [
    {
     "data": {
      "text/plain": [
       "Intercept                      0.954101\n",
       "Industrial_Production_Index    0.000004\n",
       "three_Month_Tbill              0.004206\n",
       "Moodys_AAA_rating              0.062772\n",
       "three_month_CD_rate            0.017664\n",
       "Unemployment_rate              0.000004\n",
       "dtype: float64"
      ]
     },
     "execution_count": 431,
     "metadata": {},
     "output_type": "execute_result"
    }
   ],
   "source": [
    "model3_1.pvalues"
   ]
  },
  {
   "cell_type": "code",
   "execution_count": 432,
   "id": "484b8918",
   "metadata": {},
   "outputs": [
    {
     "name": "stdout",
     "output_type": "stream",
     "text": [
      "Drop the variable Moodys_AAA_rating\n"
     ]
    }
   ],
   "source": [
    "p_value_31 = list(model3_1.pvalues)\n",
    "cols3_1 = df9_1.columns\n",
    "\n",
    "x3_1 = cols3_1[1:]\n",
    "y3_1 = cols3_1[0:1]\n",
    "y3_1 = df9_1[y3_1]\n",
    "x3_1 = df9_1[x3_1]\n",
    "\n",
    "if max(p_value_31[1:]) > 0.05:\n",
    "    max_value3_1 = cols3_1[p_value_31.index(max(p_value_31[1:]))]\n",
    "    print('Drop the variable ' + str(max_value3_1))\n",
    "else:\n",
    "    print('No variable to be dropped')"
   ]
  },
  {
   "cell_type": "code",
   "execution_count": 433,
   "id": "c50477c1",
   "metadata": {},
   "outputs": [],
   "source": [
    "df9_2 = df9_1.drop(columns=['Moodys_AAA_rating'])\n",
    "\n",
    "model3_2 = ols('SandP ~ Industrial_Production_Index + three_Month_Tbill + three_month_CD_rate + Unemployment_rate',df9_2).fit()"
   ]
  },
  {
   "cell_type": "code",
   "execution_count": 434,
   "id": "44f0e8e8",
   "metadata": {},
   "outputs": [
    {
     "data": {
      "text/plain": [
       "Intercept                      0.956373\n",
       "Industrial_Production_Index    0.000003\n",
       "three_Month_Tbill              0.009726\n",
       "three_month_CD_rate            0.005888\n",
       "Unemployment_rate              0.000007\n",
       "dtype: float64"
      ]
     },
     "execution_count": 434,
     "metadata": {},
     "output_type": "execute_result"
    }
   ],
   "source": [
    "model3_2.pvalues"
   ]
  },
  {
   "cell_type": "code",
   "execution_count": 435,
   "id": "ebefc163",
   "metadata": {},
   "outputs": [
    {
     "data": {
      "text/html": [
       "<table class=\"simpletable\">\n",
       "<caption>OLS Regression Results</caption>\n",
       "<tr>\n",
       "  <th>Dep. Variable:</th>          <td>SandP</td>      <th>  R-squared:         </th> <td>   0.053</td>\n",
       "</tr>\n",
       "<tr>\n",
       "  <th>Model:</th>                   <td>OLS</td>       <th>  Adj. R-squared:    </th> <td>   0.047</td>\n",
       "</tr>\n",
       "<tr>\n",
       "  <th>Method:</th>             <td>Least Squares</td>  <th>  F-statistic:       </th> <td>   9.399</td>\n",
       "</tr>\n",
       "<tr>\n",
       "  <th>Date:</th>             <td>Sun, 31 Oct 2021</td> <th>  Prob (F-statistic):</th> <td>2.14e-07</td>\n",
       "</tr>\n",
       "<tr>\n",
       "  <th>Time:</th>                 <td>18:46:21</td>     <th>  Log-Likelihood:    </th> <td> -3514.8</td>\n",
       "</tr>\n",
       "<tr>\n",
       "  <th>No. Observations:</th>      <td>   676</td>      <th>  AIC:               </th> <td>   7040.</td>\n",
       "</tr>\n",
       "<tr>\n",
       "  <th>Df Residuals:</th>          <td>   671</td>      <th>  BIC:               </th> <td>   7062.</td>\n",
       "</tr>\n",
       "<tr>\n",
       "  <th>Df Model:</th>              <td>     4</td>      <th>                     </th>     <td> </td>   \n",
       "</tr>\n",
       "<tr>\n",
       "  <th>Covariance Type:</th>      <td>nonrobust</td>    <th>                     </th>     <td> </td>   \n",
       "</tr>\n",
       "</table>\n",
       "<table class=\"simpletable\">\n",
       "<tr>\n",
       "               <td></td>                  <th>coef</th>     <th>std err</th>      <th>t</th>      <th>P>|t|</th>  <th>[0.025</th>    <th>0.975]</th>  \n",
       "</tr>\n",
       "<tr>\n",
       "  <th>Intercept</th>                   <td>   -0.0927</td> <td>    1.693</td> <td>   -0.055</td> <td> 0.956</td> <td>   -3.417</td> <td>    3.232</td>\n",
       "</tr>\n",
       "<tr>\n",
       "  <th>Industrial_Production_Index</th> <td>  -11.3407</td> <td>    2.414</td> <td>   -4.697</td> <td> 0.000</td> <td>  -16.081</td> <td>   -6.600</td>\n",
       "</tr>\n",
       "<tr>\n",
       "  <th>three_Month_Tbill</th>           <td>   14.9487</td> <td>    5.765</td> <td>    2.593</td> <td> 0.010</td> <td>    3.628</td> <td>   26.269</td>\n",
       "</tr>\n",
       "<tr>\n",
       "  <th>three_month_CD_rate</th>         <td>  -12.8573</td> <td>    4.654</td> <td>   -2.763</td> <td> 0.006</td> <td>  -21.995</td> <td>   -3.720</td>\n",
       "</tr>\n",
       "<tr>\n",
       "  <th>Unemployment_rate</th>           <td>  -18.6979</td> <td>    4.135</td> <td>   -4.522</td> <td> 0.000</td> <td>  -26.816</td> <td>  -10.580</td>\n",
       "</tr>\n",
       "</table>\n",
       "<table class=\"simpletable\">\n",
       "<tr>\n",
       "  <th>Omnibus:</th>       <td>87.634</td> <th>  Durbin-Watson:     </th> <td>   2.813</td> \n",
       "</tr>\n",
       "<tr>\n",
       "  <th>Prob(Omnibus):</th> <td> 0.000</td> <th>  Jarque-Bera (JB):  </th> <td> 836.177</td> \n",
       "</tr>\n",
       "<tr>\n",
       "  <th>Skew:</th>          <td>-0.034</td> <th>  Prob(JB):          </th> <td>2.67e-182</td>\n",
       "</tr>\n",
       "<tr>\n",
       "  <th>Kurtosis:</th>      <td> 8.448</td> <th>  Cond. No.          </th> <td>    4.20</td> \n",
       "</tr>\n",
       "</table><br/><br/>Notes:<br/>[1] Standard Errors assume that the covariance matrix of the errors is correctly specified."
      ],
      "text/plain": [
       "<class 'statsmodels.iolib.summary.Summary'>\n",
       "\"\"\"\n",
       "                            OLS Regression Results                            \n",
       "==============================================================================\n",
       "Dep. Variable:                  SandP   R-squared:                       0.053\n",
       "Model:                            OLS   Adj. R-squared:                  0.047\n",
       "Method:                 Least Squares   F-statistic:                     9.399\n",
       "Date:                Sun, 31 Oct 2021   Prob (F-statistic):           2.14e-07\n",
       "Time:                        18:46:21   Log-Likelihood:                -3514.8\n",
       "No. Observations:                 676   AIC:                             7040.\n",
       "Df Residuals:                     671   BIC:                             7062.\n",
       "Df Model:                           4                                         \n",
       "Covariance Type:            nonrobust                                         \n",
       "===============================================================================================\n",
       "                                  coef    std err          t      P>|t|      [0.025      0.975]\n",
       "-----------------------------------------------------------------------------------------------\n",
       "Intercept                      -0.0927      1.693     -0.055      0.956      -3.417       3.232\n",
       "Industrial_Production_Index   -11.3407      2.414     -4.697      0.000     -16.081      -6.600\n",
       "three_Month_Tbill              14.9487      5.765      2.593      0.010       3.628      26.269\n",
       "three_month_CD_rate           -12.8573      4.654     -2.763      0.006     -21.995      -3.720\n",
       "Unemployment_rate             -18.6979      4.135     -4.522      0.000     -26.816     -10.580\n",
       "==============================================================================\n",
       "Omnibus:                       87.634   Durbin-Watson:                   2.813\n",
       "Prob(Omnibus):                  0.000   Jarque-Bera (JB):              836.177\n",
       "Skew:                          -0.034   Prob(JB):                    2.67e-182\n",
       "Kurtosis:                       8.448   Cond. No.                         4.20\n",
       "==============================================================================\n",
       "\n",
       "Notes:\n",
       "[1] Standard Errors assume that the covariance matrix of the errors is correctly specified.\n",
       "\"\"\""
      ]
     },
     "execution_count": 435,
     "metadata": {},
     "output_type": "execute_result"
    }
   ],
   "source": [
    "model3_2.summary()"
   ]
  },
  {
   "cell_type": "code",
   "execution_count": 436,
   "id": "31411fde",
   "metadata": {},
   "outputs": [
    {
     "data": {
      "text/html": [
       "<div>\n",
       "<style scoped>\n",
       "    .dataframe tbody tr th:only-of-type {\n",
       "        vertical-align: middle;\n",
       "    }\n",
       "\n",
       "    .dataframe tbody tr th {\n",
       "        vertical-align: top;\n",
       "    }\n",
       "\n",
       "    .dataframe thead th {\n",
       "        text-align: right;\n",
       "    }\n",
       "</style>\n",
       "<table border=\"1\" class=\"dataframe\">\n",
       "  <thead>\n",
       "    <tr style=\"text-align: right;\">\n",
       "      <th></th>\n",
       "      <th>SandP</th>\n",
       "      <th>Industrial_Production_Index</th>\n",
       "      <th>three_Month_Tbill</th>\n",
       "      <th>three_month_CD_rate</th>\n",
       "      <th>Unemployment_rate</th>\n",
       "    </tr>\n",
       "  </thead>\n",
       "  <tbody>\n",
       "    <tr>\n",
       "      <th>0</th>\n",
       "      <td>-0.55</td>\n",
       "      <td>0.216</td>\n",
       "      <td>-1.200000e-01</td>\n",
       "      <td>2.000000e-02</td>\n",
       "      <td>-0.6</td>\n",
       "    </tr>\n",
       "    <tr>\n",
       "      <th>1</th>\n",
       "      <td>1.06</td>\n",
       "      <td>-0.270</td>\n",
       "      <td>0.000000e+00</td>\n",
       "      <td>-7.000000e-02</td>\n",
       "      <td>0.5</td>\n",
       "    </tr>\n",
       "    <tr>\n",
       "      <th>2</th>\n",
       "      <td>0.17</td>\n",
       "      <td>0.108</td>\n",
       "      <td>-4.000000e-02</td>\n",
       "      <td>3.000000e-02</td>\n",
       "      <td>-0.3</td>\n",
       "    </tr>\n",
       "    <tr>\n",
       "      <th>3</th>\n",
       "      <td>-5.55</td>\n",
       "      <td>0.001</td>\n",
       "      <td>-5.000000e-02</td>\n",
       "      <td>-5.000000e-02</td>\n",
       "      <td>0.2</td>\n",
       "    </tr>\n",
       "    <tr>\n",
       "      <th>4</th>\n",
       "      <td>4.11</td>\n",
       "      <td>0.053</td>\n",
       "      <td>1.300000e-01</td>\n",
       "      <td>-1.000000e-02</td>\n",
       "      <td>-0.2</td>\n",
       "    </tr>\n",
       "    <tr>\n",
       "      <th>...</th>\n",
       "      <td>...</td>\n",
       "      <td>...</td>\n",
       "      <td>...</td>\n",
       "      <td>...</td>\n",
       "      <td>...</td>\n",
       "    </tr>\n",
       "    <tr>\n",
       "      <th>673</th>\n",
       "      <td>203.59</td>\n",
       "      <td>-2.697</td>\n",
       "      <td>3.469447e-18</td>\n",
       "      <td>2.000000e-02</td>\n",
       "      <td>0.3</td>\n",
       "    </tr>\n",
       "    <tr>\n",
       "      <th>674</th>\n",
       "      <td>-204.00</td>\n",
       "      <td>0.552</td>\n",
       "      <td>1.000000e-02</td>\n",
       "      <td>-2.000000e-02</td>\n",
       "      <td>-0.4</td>\n",
       "    </tr>\n",
       "    <tr>\n",
       "      <th>675</th>\n",
       "      <td>43.97</td>\n",
       "      <td>-0.130</td>\n",
       "      <td>2.000000e-02</td>\n",
       "      <td>-1.387779e-17</td>\n",
       "      <td>0.4</td>\n",
       "    </tr>\n",
       "    <tr>\n",
       "      <th>676</th>\n",
       "      <td>54.58</td>\n",
       "      <td>0.357</td>\n",
       "      <td>-1.000000e-02</td>\n",
       "      <td>2.000000e-02</td>\n",
       "      <td>-0.6</td>\n",
       "    </tr>\n",
       "    <tr>\n",
       "      <th>677</th>\n",
       "      <td>-34.72</td>\n",
       "      <td>-0.439</td>\n",
       "      <td>-1.000000e-02</td>\n",
       "      <td>-1.000000e-02</td>\n",
       "      <td>0.3</td>\n",
       "    </tr>\n",
       "  </tbody>\n",
       "</table>\n",
       "<p>676 rows × 5 columns</p>\n",
       "</div>"
      ],
      "text/plain": [
       "      SandP  Industrial_Production_Index  three_Month_Tbill  \\\n",
       "0     -0.55                        0.216      -1.200000e-01   \n",
       "1      1.06                       -0.270       0.000000e+00   \n",
       "2      0.17                        0.108      -4.000000e-02   \n",
       "3     -5.55                        0.001      -5.000000e-02   \n",
       "4      4.11                        0.053       1.300000e-01   \n",
       "..      ...                          ...                ...   \n",
       "673  203.59                       -2.697       3.469447e-18   \n",
       "674 -204.00                        0.552       1.000000e-02   \n",
       "675   43.97                       -0.130       2.000000e-02   \n",
       "676   54.58                        0.357      -1.000000e-02   \n",
       "677  -34.72                       -0.439      -1.000000e-02   \n",
       "\n",
       "     three_month_CD_rate  Unemployment_rate  \n",
       "0           2.000000e-02               -0.6  \n",
       "1          -7.000000e-02                0.5  \n",
       "2           3.000000e-02               -0.3  \n",
       "3          -5.000000e-02                0.2  \n",
       "4          -1.000000e-02               -0.2  \n",
       "..                   ...                ...  \n",
       "673         2.000000e-02                0.3  \n",
       "674        -2.000000e-02               -0.4  \n",
       "675        -1.387779e-17                0.4  \n",
       "676         2.000000e-02               -0.6  \n",
       "677        -1.000000e-02                0.3  \n",
       "\n",
       "[676 rows x 5 columns]"
      ]
     },
     "execution_count": 436,
     "metadata": {},
     "output_type": "execute_result"
    }
   ],
   "source": [
    "df9_2"
   ]
  },
  {
   "cell_type": "code",
   "execution_count": 437,
   "id": "e0933819",
   "metadata": {},
   "outputs": [],
   "source": [
    "cols3_2 = df9_2.columns\n",
    "\n",
    "x3_2 = cols3_2[1:]\n",
    "y3_2 = cols3_2[0:1]\n",
    "y3_2 = df9_2[y3_2]\n",
    "x3_2 = df9_2[x3_2]"
   ]
  },
  {
   "cell_type": "code",
   "execution_count": null,
   "id": "42d1b0f0",
   "metadata": {},
   "outputs": [],
   "source": []
  },
  {
   "cell_type": "markdown",
   "id": "c5a80b0d",
   "metadata": {},
   "source": [
    "### Multicollinearity Check"
   ]
  },
  {
   "cell_type": "code",
   "execution_count": 94,
   "id": "75efe18a",
   "metadata": {},
   "outputs": [],
   "source": [
    "#now for calculating VIF, we'll add a constant to our independent variables data, i.e. an intercept"
   ]
  },
  {
   "cell_type": "code",
   "execution_count": 438,
   "id": "4c082ec3",
   "metadata": {},
   "outputs": [],
   "source": [
    "x_m = add_constant(x3_2)\n",
    "cols_m = x_m.columns"
   ]
  },
  {
   "cell_type": "code",
   "execution_count": 439,
   "id": "2c8a6704",
   "metadata": {},
   "outputs": [
    {
     "data": {
      "text/plain": [
       "[1.0009830073613823,\n",
       " 1.6038546778075322,\n",
       " 2.889548707788511,\n",
       " 2.901249810736872,\n",
       " 1.595488052863333]"
      ]
     },
     "execution_count": 439,
     "metadata": {},
     "output_type": "execute_result"
    }
   ],
   "source": [
    "vif_1 = [variance_inflation_factor(x_m.values,j) for j in range(x_m.shape[1])]\n",
    "\n",
    "#storing in a variable - VIF\n",
    "#https://stackoverflow.com/questions/42658379/variance-inflation-factor-in-python\n",
    "vif_1"
   ]
  },
  {
   "cell_type": "code",
   "execution_count": 440,
   "id": "f32d004a",
   "metadata": {},
   "outputs": [],
   "source": [
    "vif_12 = vif_1[1:]\n",
    "#the first VIF belongs to the constant"
   ]
  },
  {
   "cell_type": "code",
   "execution_count": 441,
   "id": "7e06e802",
   "metadata": {},
   "outputs": [
    {
     "data": {
      "text/plain": [
       "2.901249810736872"
      ]
     },
     "execution_count": 441,
     "metadata": {},
     "output_type": "execute_result"
    }
   ],
   "source": [
    "max(vif_12)"
   ]
  },
  {
   "cell_type": "code",
   "execution_count": 99,
   "id": "314c3207",
   "metadata": {},
   "outputs": [],
   "source": [
    "#Since maximum vif is less than 5 percent, it means that there is no variable with vif greater than 5 percent\n",
    "#it means that there is no problem of multicollinearity in our data"
   ]
  },
  {
   "cell_type": "markdown",
   "id": "8c471b85",
   "metadata": {},
   "source": [
    "### Autocorrelation check (Durbin Watson test)"
   ]
  },
  {
   "cell_type": "code",
   "execution_count": 100,
   "id": "187f92ab",
   "metadata": {},
   "outputs": [],
   "source": [
    "#we will store the error terms in a variable - say 'error'\n",
    "#store the lag1 term of the error - error_lag1, \n",
    "#the error term 'error' becomes the DEPENDENT variable, error lag 1 becomes independent variable and remaining independent variables are independent only\n",
    "#then find p value\n",
    "#if p value of error lag 1 is less than 5 percent, we reject the null and say that problem of autocorrelation exist \n",
    "#this is called the breusch godfrey test"
   ]
  },
  {
   "cell_type": "code",
   "execution_count": 442,
   "id": "444fb22d",
   "metadata": {},
   "outputs": [
    {
     "data": {
      "text/plain": [
       "2.812859807281086"
      ]
     },
     "execution_count": 442,
     "metadata": {},
     "output_type": "execute_result"
    }
   ],
   "source": [
    "durbin_watson(model3_2.resid)"
   ]
  },
  {
   "cell_type": "code",
   "execution_count": 102,
   "id": "e56cc4d5",
   "metadata": {},
   "outputs": [],
   "source": [
    "#Since the DB watson test statistic is more than 2, it indicates negative autocorrelation"
   ]
  },
  {
   "cell_type": "code",
   "execution_count": 443,
   "id": "880c00a9",
   "metadata": {},
   "outputs": [
    {
     "data": {
      "text/plain": [
       "0       -7.175521\n",
       "1        6.539626\n",
       "2       -3.138259\n",
       "3       -1.601849\n",
       "4       -1.007771\n",
       "          ...    \n",
       "673    178.963401\n",
       "674   -205.533093\n",
       "675     49.768565\n",
       "676     47.909159\n",
       "677    -33.975605\n",
       "Length: 676, dtype: float64"
      ]
     },
     "execution_count": 443,
     "metadata": {},
     "output_type": "execute_result"
    }
   ],
   "source": [
    "error = model3_2.resid\n",
    "error"
   ]
  },
  {
   "cell_type": "code",
   "execution_count": 444,
   "id": "79d871e3",
   "metadata": {},
   "outputs": [
    {
     "data": {
      "text/plain": [
       "0             NaN\n",
       "1       -7.175521\n",
       "2        6.539626\n",
       "3       -3.138259\n",
       "4       -1.601849\n",
       "          ...    \n",
       "673      0.935246\n",
       "674    178.963401\n",
       "675   -205.533093\n",
       "676     49.768565\n",
       "677     47.909159\n",
       "Length: 676, dtype: float64"
      ]
     },
     "execution_count": 444,
     "metadata": {},
     "output_type": "execute_result"
    }
   ],
   "source": [
    "errorlag1 = error.shift(1)\n",
    "errorlag1"
   ]
  },
  {
   "cell_type": "code",
   "execution_count": 445,
   "id": "d950d670",
   "metadata": {},
   "outputs": [
    {
     "data": {
      "text/plain": [
       "0        0.000000\n",
       "1       -7.175521\n",
       "2        6.539626\n",
       "3       -3.138259\n",
       "4       -1.601849\n",
       "          ...    \n",
       "673      0.935246\n",
       "674    178.963401\n",
       "675   -205.533093\n",
       "676     49.768565\n",
       "677     47.909159\n",
       "Length: 676, dtype: float64"
      ]
     },
     "execution_count": 445,
     "metadata": {},
     "output_type": "execute_result"
    }
   ],
   "source": [
    "errorlag1[0] = 0\n",
    "errorlag1"
   ]
  },
  {
   "cell_type": "code",
   "execution_count": 237,
   "id": "86ba5468",
   "metadata": {},
   "outputs": [],
   "source": [
    "#x3_2.loc[:,'error'] = error\n",
    "#x3_2.loc[:,'errorlag1'] = errorlag1\n",
    "#loc function slices the data"
   ]
  },
  {
   "cell_type": "code",
   "execution_count": 446,
   "id": "8ad2cbe2",
   "metadata": {},
   "outputs": [
    {
     "data": {
      "text/html": [
       "<div>\n",
       "<style scoped>\n",
       "    .dataframe tbody tr th:only-of-type {\n",
       "        vertical-align: middle;\n",
       "    }\n",
       "\n",
       "    .dataframe tbody tr th {\n",
       "        vertical-align: top;\n",
       "    }\n",
       "\n",
       "    .dataframe thead th {\n",
       "        text-align: right;\n",
       "    }\n",
       "</style>\n",
       "<table border=\"1\" class=\"dataframe\">\n",
       "  <thead>\n",
       "    <tr style=\"text-align: right;\">\n",
       "      <th></th>\n",
       "      <th>Industrial_Production_Index</th>\n",
       "      <th>three_Month_Tbill</th>\n",
       "      <th>three_month_CD_rate</th>\n",
       "      <th>Unemployment_rate</th>\n",
       "    </tr>\n",
       "  </thead>\n",
       "  <tbody>\n",
       "    <tr>\n",
       "      <th>0</th>\n",
       "      <td>0.216</td>\n",
       "      <td>-0.12</td>\n",
       "      <td>0.02</td>\n",
       "      <td>-0.6</td>\n",
       "    </tr>\n",
       "    <tr>\n",
       "      <th>1</th>\n",
       "      <td>-0.270</td>\n",
       "      <td>0.00</td>\n",
       "      <td>-0.07</td>\n",
       "      <td>0.5</td>\n",
       "    </tr>\n",
       "    <tr>\n",
       "      <th>2</th>\n",
       "      <td>0.108</td>\n",
       "      <td>-0.04</td>\n",
       "      <td>0.03</td>\n",
       "      <td>-0.3</td>\n",
       "    </tr>\n",
       "    <tr>\n",
       "      <th>3</th>\n",
       "      <td>0.001</td>\n",
       "      <td>-0.05</td>\n",
       "      <td>-0.05</td>\n",
       "      <td>0.2</td>\n",
       "    </tr>\n",
       "    <tr>\n",
       "      <th>4</th>\n",
       "      <td>0.053</td>\n",
       "      <td>0.13</td>\n",
       "      <td>-0.01</td>\n",
       "      <td>-0.2</td>\n",
       "    </tr>\n",
       "  </tbody>\n",
       "</table>\n",
       "</div>"
      ],
      "text/plain": [
       "   Industrial_Production_Index  three_Month_Tbill  three_month_CD_rate  \\\n",
       "0                        0.216              -0.12                 0.02   \n",
       "1                       -0.270               0.00                -0.07   \n",
       "2                        0.108              -0.04                 0.03   \n",
       "3                        0.001              -0.05                -0.05   \n",
       "4                        0.053               0.13                -0.01   \n",
       "\n",
       "   Unemployment_rate  \n",
       "0               -0.6  \n",
       "1                0.5  \n",
       "2               -0.3  \n",
       "3                0.2  \n",
       "4               -0.2  "
      ]
     },
     "execution_count": 446,
     "metadata": {},
     "output_type": "execute_result"
    }
   ],
   "source": [
    "x3_2.head()"
   ]
  },
  {
   "cell_type": "code",
   "execution_count": 447,
   "id": "a6df3c3b",
   "metadata": {},
   "outputs": [],
   "source": [
    "df9_3 = pd.concat([y3_2,x3_2],axis = 1)"
   ]
  },
  {
   "cell_type": "code",
   "execution_count": 448,
   "id": "01b27ced",
   "metadata": {},
   "outputs": [
    {
     "data": {
      "text/html": [
       "<div>\n",
       "<style scoped>\n",
       "    .dataframe tbody tr th:only-of-type {\n",
       "        vertical-align: middle;\n",
       "    }\n",
       "\n",
       "    .dataframe tbody tr th {\n",
       "        vertical-align: top;\n",
       "    }\n",
       "\n",
       "    .dataframe thead th {\n",
       "        text-align: right;\n",
       "    }\n",
       "</style>\n",
       "<table border=\"1\" class=\"dataframe\">\n",
       "  <thead>\n",
       "    <tr style=\"text-align: right;\">\n",
       "      <th></th>\n",
       "      <th>SandP</th>\n",
       "      <th>Industrial_Production_Index</th>\n",
       "      <th>three_Month_Tbill</th>\n",
       "      <th>three_month_CD_rate</th>\n",
       "      <th>Unemployment_rate</th>\n",
       "    </tr>\n",
       "  </thead>\n",
       "  <tbody>\n",
       "    <tr>\n",
       "      <th>0</th>\n",
       "      <td>-0.55</td>\n",
       "      <td>0.216</td>\n",
       "      <td>-0.12</td>\n",
       "      <td>0.02</td>\n",
       "      <td>-0.6</td>\n",
       "    </tr>\n",
       "    <tr>\n",
       "      <th>1</th>\n",
       "      <td>1.06</td>\n",
       "      <td>-0.270</td>\n",
       "      <td>0.00</td>\n",
       "      <td>-0.07</td>\n",
       "      <td>0.5</td>\n",
       "    </tr>\n",
       "    <tr>\n",
       "      <th>2</th>\n",
       "      <td>0.17</td>\n",
       "      <td>0.108</td>\n",
       "      <td>-0.04</td>\n",
       "      <td>0.03</td>\n",
       "      <td>-0.3</td>\n",
       "    </tr>\n",
       "    <tr>\n",
       "      <th>3</th>\n",
       "      <td>-5.55</td>\n",
       "      <td>0.001</td>\n",
       "      <td>-0.05</td>\n",
       "      <td>-0.05</td>\n",
       "      <td>0.2</td>\n",
       "    </tr>\n",
       "    <tr>\n",
       "      <th>4</th>\n",
       "      <td>4.11</td>\n",
       "      <td>0.053</td>\n",
       "      <td>0.13</td>\n",
       "      <td>-0.01</td>\n",
       "      <td>-0.2</td>\n",
       "    </tr>\n",
       "  </tbody>\n",
       "</table>\n",
       "</div>"
      ],
      "text/plain": [
       "   SandP  Industrial_Production_Index  three_Month_Tbill  three_month_CD_rate  \\\n",
       "0  -0.55                        0.216              -0.12                 0.02   \n",
       "1   1.06                       -0.270               0.00                -0.07   \n",
       "2   0.17                        0.108              -0.04                 0.03   \n",
       "3  -5.55                        0.001              -0.05                -0.05   \n",
       "4   4.11                        0.053               0.13                -0.01   \n",
       "\n",
       "   Unemployment_rate  \n",
       "0               -0.6  \n",
       "1                0.5  \n",
       "2               -0.3  \n",
       "3                0.2  \n",
       "4               -0.2  "
      ]
     },
     "execution_count": 448,
     "metadata": {},
     "output_type": "execute_result"
    }
   ],
   "source": [
    "df9_3.head()"
   ]
  },
  {
   "cell_type": "markdown",
   "id": "3c4bab5e",
   "metadata": {},
   "source": [
    "### Cochrane-Orcutt Procedure for treating Autocorrelation"
   ]
  },
  {
   "cell_type": "code",
   "execution_count": 449,
   "id": "a5dcc1a6",
   "metadata": {},
   "outputs": [],
   "source": [
    "model5 = ols('error ~ errorlag1',df9_3).fit()"
   ]
  },
  {
   "cell_type": "code",
   "execution_count": 450,
   "id": "5909d0d6",
   "metadata": {},
   "outputs": [
    {
     "data": {
      "text/html": [
       "<table class=\"simpletable\">\n",
       "<caption>OLS Regression Results</caption>\n",
       "<tr>\n",
       "  <th>Dep. Variable:</th>          <td>error</td>      <th>  R-squared:         </th> <td>   0.166</td>\n",
       "</tr>\n",
       "<tr>\n",
       "  <th>Model:</th>                   <td>OLS</td>       <th>  Adj. R-squared:    </th> <td>   0.164</td>\n",
       "</tr>\n",
       "<tr>\n",
       "  <th>Method:</th>             <td>Least Squares</td>  <th>  F-statistic:       </th> <td>   133.9</td>\n",
       "</tr>\n",
       "<tr>\n",
       "  <th>Date:</th>             <td>Sun, 31 Oct 2021</td> <th>  Prob (F-statistic):</th> <td>2.28e-28</td>\n",
       "</tr>\n",
       "<tr>\n",
       "  <th>Time:</th>                 <td>18:48:37</td>     <th>  Log-Likelihood:    </th> <td> -3453.6</td>\n",
       "</tr>\n",
       "<tr>\n",
       "  <th>No. Observations:</th>      <td>   676</td>      <th>  AIC:               </th> <td>   6911.</td>\n",
       "</tr>\n",
       "<tr>\n",
       "  <th>Df Residuals:</th>          <td>   674</td>      <th>  BIC:               </th> <td>   6920.</td>\n",
       "</tr>\n",
       "<tr>\n",
       "  <th>Df Model:</th>              <td>     1</td>      <th>                     </th>     <td> </td>   \n",
       "</tr>\n",
       "<tr>\n",
       "  <th>Covariance Type:</th>      <td>nonrobust</td>    <th>                     </th>     <td> </td>   \n",
       "</tr>\n",
       "</table>\n",
       "<table class=\"simpletable\">\n",
       "<tr>\n",
       "      <td></td>         <th>coef</th>     <th>std err</th>      <th>t</th>      <th>P>|t|</th>  <th>[0.025</th>    <th>0.975]</th>  \n",
       "</tr>\n",
       "<tr>\n",
       "  <th>Intercept</th> <td>    0.0205</td> <td>    1.542</td> <td>    0.013</td> <td> 0.989</td> <td>   -3.008</td> <td>    3.049</td>\n",
       "</tr>\n",
       "<tr>\n",
       "  <th>errorlag1</th> <td>   -0.4073</td> <td>    0.035</td> <td>  -11.570</td> <td> 0.000</td> <td>   -0.476</td> <td>   -0.338</td>\n",
       "</tr>\n",
       "</table>\n",
       "<table class=\"simpletable\">\n",
       "<tr>\n",
       "  <th>Omnibus:</th>       <td>90.715</td> <th>  Durbin-Watson:     </th> <td>   2.243</td> \n",
       "</tr>\n",
       "<tr>\n",
       "  <th>Prob(Omnibus):</th> <td> 0.000</td> <th>  Jarque-Bera (JB):  </th> <td> 902.812</td> \n",
       "</tr>\n",
       "<tr>\n",
       "  <th>Skew:</th>          <td> 0.079</td> <th>  Prob(JB):          </th> <td>9.06e-197</td>\n",
       "</tr>\n",
       "<tr>\n",
       "  <th>Kurtosis:</th>      <td> 8.659</td> <th>  Cond. No.          </th> <td>    43.8</td> \n",
       "</tr>\n",
       "</table><br/><br/>Notes:<br/>[1] Standard Errors assume that the covariance matrix of the errors is correctly specified."
      ],
      "text/plain": [
       "<class 'statsmodels.iolib.summary.Summary'>\n",
       "\"\"\"\n",
       "                            OLS Regression Results                            \n",
       "==============================================================================\n",
       "Dep. Variable:                  error   R-squared:                       0.166\n",
       "Model:                            OLS   Adj. R-squared:                  0.164\n",
       "Method:                 Least Squares   F-statistic:                     133.9\n",
       "Date:                Sun, 31 Oct 2021   Prob (F-statistic):           2.28e-28\n",
       "Time:                        18:48:37   Log-Likelihood:                -3453.6\n",
       "No. Observations:                 676   AIC:                             6911.\n",
       "Df Residuals:                     674   BIC:                             6920.\n",
       "Df Model:                           1                                         \n",
       "Covariance Type:            nonrobust                                         \n",
       "==============================================================================\n",
       "                 coef    std err          t      P>|t|      [0.025      0.975]\n",
       "------------------------------------------------------------------------------\n",
       "Intercept      0.0205      1.542      0.013      0.989      -3.008       3.049\n",
       "errorlag1     -0.4073      0.035    -11.570      0.000      -0.476      -0.338\n",
       "==============================================================================\n",
       "Omnibus:                       90.715   Durbin-Watson:                   2.243\n",
       "Prob(Omnibus):                  0.000   Jarque-Bera (JB):              902.812\n",
       "Skew:                           0.079   Prob(JB):                    9.06e-197\n",
       "Kurtosis:                       8.659   Cond. No.                         43.8\n",
       "==============================================================================\n",
       "\n",
       "Notes:\n",
       "[1] Standard Errors assume that the covariance matrix of the errors is correctly specified.\n",
       "\"\"\""
      ]
     },
     "execution_count": 450,
     "metadata": {},
     "output_type": "execute_result"
    }
   ],
   "source": [
    "model5.summary()"
   ]
  },
  {
   "cell_type": "code",
   "execution_count": null,
   "id": "65ed7629",
   "metadata": {},
   "outputs": [],
   "source": [
    "# we get r = -0.4073"
   ]
  },
  {
   "cell_type": "code",
   "execution_count": 451,
   "id": "b3fbec4e",
   "metadata": {},
   "outputs": [],
   "source": [
    "ytminus = y3_2.shift(1)\n",
    "ytminus1 = ytminus.bfill()\n",
    "\n",
    "xtminus = x3_2.shift(1)\n",
    "xtminus1 = xtminus.bfill()"
   ]
  },
  {
   "cell_type": "code",
   "execution_count": 452,
   "id": "2ae4dbbc",
   "metadata": {},
   "outputs": [],
   "source": [
    "df10_1 = df9_3.drop(columns=['SandP','Industrial_Production_Index','three_Month_Tbill','three_month_CD_rate','Unemployment_rate'])"
   ]
  },
  {
   "cell_type": "code",
   "execution_count": 453,
   "id": "20f397f5",
   "metadata": {},
   "outputs": [
    {
     "data": {
      "text/html": [
       "<div>\n",
       "<style scoped>\n",
       "    .dataframe tbody tr th:only-of-type {\n",
       "        vertical-align: middle;\n",
       "    }\n",
       "\n",
       "    .dataframe tbody tr th {\n",
       "        vertical-align: top;\n",
       "    }\n",
       "\n",
       "    .dataframe thead th {\n",
       "        text-align: right;\n",
       "    }\n",
       "</style>\n",
       "<table border=\"1\" class=\"dataframe\">\n",
       "  <thead>\n",
       "    <tr style=\"text-align: right;\">\n",
       "      <th></th>\n",
       "      <th>SandP</th>\n",
       "      <th>Industrial_Production_Index</th>\n",
       "      <th>three_Month_Tbill</th>\n",
       "      <th>three_month_CD_rate</th>\n",
       "      <th>Unemployment_rate</th>\n",
       "    </tr>\n",
       "  </thead>\n",
       "  <tbody>\n",
       "    <tr>\n",
       "      <th>0</th>\n",
       "      <td>-0.55</td>\n",
       "      <td>0.216</td>\n",
       "      <td>-1.200000e-01</td>\n",
       "      <td>2.000000e-02</td>\n",
       "      <td>-0.6</td>\n",
       "    </tr>\n",
       "    <tr>\n",
       "      <th>1</th>\n",
       "      <td>-0.55</td>\n",
       "      <td>0.216</td>\n",
       "      <td>-1.200000e-01</td>\n",
       "      <td>2.000000e-02</td>\n",
       "      <td>-0.6</td>\n",
       "    </tr>\n",
       "    <tr>\n",
       "      <th>2</th>\n",
       "      <td>1.06</td>\n",
       "      <td>-0.270</td>\n",
       "      <td>0.000000e+00</td>\n",
       "      <td>-7.000000e-02</td>\n",
       "      <td>0.5</td>\n",
       "    </tr>\n",
       "    <tr>\n",
       "      <th>3</th>\n",
       "      <td>0.17</td>\n",
       "      <td>0.108</td>\n",
       "      <td>-4.000000e-02</td>\n",
       "      <td>3.000000e-02</td>\n",
       "      <td>-0.3</td>\n",
       "    </tr>\n",
       "    <tr>\n",
       "      <th>4</th>\n",
       "      <td>-5.55</td>\n",
       "      <td>0.001</td>\n",
       "      <td>-5.000000e-02</td>\n",
       "      <td>-5.000000e-02</td>\n",
       "      <td>0.2</td>\n",
       "    </tr>\n",
       "    <tr>\n",
       "      <th>...</th>\n",
       "      <td>...</td>\n",
       "      <td>...</td>\n",
       "      <td>...</td>\n",
       "      <td>...</td>\n",
       "      <td>...</td>\n",
       "    </tr>\n",
       "    <tr>\n",
       "      <th>673</th>\n",
       "      <td>-62.60</td>\n",
       "      <td>5.776</td>\n",
       "      <td>3.000000e-02</td>\n",
       "      <td>2.000000e-02</td>\n",
       "      <td>-0.1</td>\n",
       "    </tr>\n",
       "    <tr>\n",
       "      <th>674</th>\n",
       "      <td>203.59</td>\n",
       "      <td>-2.697</td>\n",
       "      <td>3.469447e-18</td>\n",
       "      <td>2.000000e-02</td>\n",
       "      <td>0.3</td>\n",
       "    </tr>\n",
       "    <tr>\n",
       "      <th>675</th>\n",
       "      <td>-204.00</td>\n",
       "      <td>0.552</td>\n",
       "      <td>1.000000e-02</td>\n",
       "      <td>-2.000000e-02</td>\n",
       "      <td>-0.4</td>\n",
       "    </tr>\n",
       "    <tr>\n",
       "      <th>676</th>\n",
       "      <td>43.97</td>\n",
       "      <td>-0.130</td>\n",
       "      <td>2.000000e-02</td>\n",
       "      <td>-1.387779e-17</td>\n",
       "      <td>0.4</td>\n",
       "    </tr>\n",
       "    <tr>\n",
       "      <th>677</th>\n",
       "      <td>54.58</td>\n",
       "      <td>0.357</td>\n",
       "      <td>-1.000000e-02</td>\n",
       "      <td>2.000000e-02</td>\n",
       "      <td>-0.6</td>\n",
       "    </tr>\n",
       "  </tbody>\n",
       "</table>\n",
       "<p>676 rows × 5 columns</p>\n",
       "</div>"
      ],
      "text/plain": [
       "      SandP  Industrial_Production_Index  three_Month_Tbill  \\\n",
       "0     -0.55                        0.216      -1.200000e-01   \n",
       "1     -0.55                        0.216      -1.200000e-01   \n",
       "2      1.06                       -0.270       0.000000e+00   \n",
       "3      0.17                        0.108      -4.000000e-02   \n",
       "4     -5.55                        0.001      -5.000000e-02   \n",
       "..      ...                          ...                ...   \n",
       "673  -62.60                        5.776       3.000000e-02   \n",
       "674  203.59                       -2.697       3.469447e-18   \n",
       "675 -204.00                        0.552       1.000000e-02   \n",
       "676   43.97                       -0.130       2.000000e-02   \n",
       "677   54.58                        0.357      -1.000000e-02   \n",
       "\n",
       "     three_month_CD_rate  Unemployment_rate  \n",
       "0           2.000000e-02               -0.6  \n",
       "1           2.000000e-02               -0.6  \n",
       "2          -7.000000e-02                0.5  \n",
       "3           3.000000e-02               -0.3  \n",
       "4          -5.000000e-02                0.2  \n",
       "..                   ...                ...  \n",
       "673         2.000000e-02               -0.1  \n",
       "674         2.000000e-02                0.3  \n",
       "675        -2.000000e-02               -0.4  \n",
       "676        -1.387779e-17                0.4  \n",
       "677         2.000000e-02               -0.6  \n",
       "\n",
       "[676 rows x 5 columns]"
      ]
     },
     "execution_count": 453,
     "metadata": {},
     "output_type": "execute_result"
    }
   ],
   "source": [
    "df10_1 = pd.concat([ytminus1,xtminus1],axis = 1)\n",
    "df10_1"
   ]
  },
  {
   "cell_type": "code",
   "execution_count": 259,
   "id": "a7077bb2",
   "metadata": {},
   "outputs": [],
   "source": [
    "#cols5 = df10.columns\n",
    "\n",
    "#x5 = cols5[1:5]\n",
    "#y5 = cols5[0:1]\n",
    "#y5 = df10[y5]\n",
    "#x5 = df10[x5]"
   ]
  },
  {
   "cell_type": "code",
   "execution_count": 260,
   "id": "54626507",
   "metadata": {},
   "outputs": [],
   "source": [
    "#x5.loc[:,'ytminus1'] = ytminus1\n",
    "#df10 = pd.concat([y5,x5],axis = 1)\n",
    "#ytminus1"
   ]
  },
  {
   "cell_type": "code",
   "execution_count": 454,
   "id": "1de80800",
   "metadata": {},
   "outputs": [],
   "source": [
    "r_ytminus1 = (-0.4073)*df10_1['SandP']\n",
    "r_IPI = (-0.4073)*df10_1['Industrial_Production_Index']\n",
    "r_tbill = (-0.4073)*df10_1['three_Month_Tbill']\n",
    "r_cd = (-0.4073)*df10_1['three_month_CD_rate']\n",
    "r_unemp = (-0.4073)*df10_1['Unemployment_rate']"
   ]
  },
  {
   "cell_type": "code",
   "execution_count": 455,
   "id": "574d2c52",
   "metadata": {},
   "outputs": [],
   "source": [
    "transformed_y3_2 = df9_3['SandP'] - r_ytminus1\n",
    "transformed_IPI = df9_3['Industrial_Production_Index'] - r_IPI\n",
    "transformed_tbill = df9_3['three_Month_Tbill'] - r_tbill\n",
    "transformed_cd = df9_3['three_month_CD_rate'] - r_cd\n",
    "transformed_un = df9_3['Unemployment_rate'] - r_unemp"
   ]
  },
  {
   "cell_type": "code",
   "execution_count": 456,
   "id": "1cea3ab9",
   "metadata": {},
   "outputs": [],
   "source": [
    "df10_2 = pd.concat([transformed_y3_2,transformed_IPI, transformed_tbill, transformed_cd,transformed_un],axis = 1)"
   ]
  },
  {
   "cell_type": "code",
   "execution_count": 457,
   "id": "f2659557",
   "metadata": {},
   "outputs": [
    {
     "data": {
      "text/html": [
       "<div>\n",
       "<style scoped>\n",
       "    .dataframe tbody tr th:only-of-type {\n",
       "        vertical-align: middle;\n",
       "    }\n",
       "\n",
       "    .dataframe tbody tr th {\n",
       "        vertical-align: top;\n",
       "    }\n",
       "\n",
       "    .dataframe thead th {\n",
       "        text-align: right;\n",
       "    }\n",
       "</style>\n",
       "<table border=\"1\" class=\"dataframe\">\n",
       "  <thead>\n",
       "    <tr style=\"text-align: right;\">\n",
       "      <th></th>\n",
       "      <th>SandP</th>\n",
       "      <th>Industrial_Production_Index</th>\n",
       "      <th>three_Month_Tbill</th>\n",
       "      <th>three_month_CD_rate</th>\n",
       "      <th>Unemployment_rate</th>\n",
       "    </tr>\n",
       "  </thead>\n",
       "  <tbody>\n",
       "    <tr>\n",
       "      <th>0</th>\n",
       "      <td>-0.774015</td>\n",
       "      <td>0.303977</td>\n",
       "      <td>-0.168876</td>\n",
       "      <td>0.028146</td>\n",
       "      <td>-0.84438</td>\n",
       "    </tr>\n",
       "    <tr>\n",
       "      <th>1</th>\n",
       "      <td>0.835985</td>\n",
       "      <td>-0.182023</td>\n",
       "      <td>-0.048876</td>\n",
       "      <td>-0.061854</td>\n",
       "      <td>0.25562</td>\n",
       "    </tr>\n",
       "    <tr>\n",
       "      <th>2</th>\n",
       "      <td>0.601738</td>\n",
       "      <td>-0.001971</td>\n",
       "      <td>-0.040000</td>\n",
       "      <td>0.001489</td>\n",
       "      <td>-0.09635</td>\n",
       "    </tr>\n",
       "    <tr>\n",
       "      <th>3</th>\n",
       "      <td>-5.480759</td>\n",
       "      <td>0.044988</td>\n",
       "      <td>-0.066292</td>\n",
       "      <td>-0.037781</td>\n",
       "      <td>0.07781</td>\n",
       "    </tr>\n",
       "    <tr>\n",
       "      <th>4</th>\n",
       "      <td>1.849485</td>\n",
       "      <td>0.053407</td>\n",
       "      <td>0.109635</td>\n",
       "      <td>-0.030365</td>\n",
       "      <td>-0.11854</td>\n",
       "    </tr>\n",
       "  </tbody>\n",
       "</table>\n",
       "</div>"
      ],
      "text/plain": [
       "      SandP  Industrial_Production_Index  three_Month_Tbill  \\\n",
       "0 -0.774015                     0.303977          -0.168876   \n",
       "1  0.835985                    -0.182023          -0.048876   \n",
       "2  0.601738                    -0.001971          -0.040000   \n",
       "3 -5.480759                     0.044988          -0.066292   \n",
       "4  1.849485                     0.053407           0.109635   \n",
       "\n",
       "   three_month_CD_rate  Unemployment_rate  \n",
       "0             0.028146           -0.84438  \n",
       "1            -0.061854            0.25562  \n",
       "2             0.001489           -0.09635  \n",
       "3            -0.037781            0.07781  \n",
       "4            -0.030365           -0.11854  "
      ]
     },
     "execution_count": 457,
     "metadata": {},
     "output_type": "execute_result"
    }
   ],
   "source": [
    "df10_2.head()"
   ]
  },
  {
   "cell_type": "code",
   "execution_count": 458,
   "id": "aac711c3",
   "metadata": {},
   "outputs": [
    {
     "data": {
      "text/html": [
       "<table class=\"simpletable\">\n",
       "<caption>OLS Regression Results</caption>\n",
       "<tr>\n",
       "  <th>Dep. Variable:</th>    <td>transformed_y3_2</td> <th>  R-squared:         </th> <td>   0.041</td>\n",
       "</tr>\n",
       "<tr>\n",
       "  <th>Model:</th>                   <td>OLS</td>       <th>  Adj. R-squared:    </th> <td>   0.036</td>\n",
       "</tr>\n",
       "<tr>\n",
       "  <th>Method:</th>             <td>Least Squares</td>  <th>  F-statistic:       </th> <td>   7.262</td>\n",
       "</tr>\n",
       "<tr>\n",
       "  <th>Date:</th>             <td>Sun, 31 Oct 2021</td> <th>  Prob (F-statistic):</th> <td>9.97e-06</td>\n",
       "</tr>\n",
       "<tr>\n",
       "  <th>Time:</th>                 <td>18:54:21</td>     <th>  Log-Likelihood:    </th> <td> -3453.0</td>\n",
       "</tr>\n",
       "<tr>\n",
       "  <th>No. Observations:</th>      <td>   676</td>      <th>  AIC:               </th> <td>   6916.</td>\n",
       "</tr>\n",
       "<tr>\n",
       "  <th>Df Residuals:</th>          <td>   671</td>      <th>  BIC:               </th> <td>   6939.</td>\n",
       "</tr>\n",
       "<tr>\n",
       "  <th>Df Model:</th>              <td>     4</td>      <th>                     </th>     <td> </td>   \n",
       "</tr>\n",
       "<tr>\n",
       "  <th>Covariance Type:</th>      <td>nonrobust</td>    <th>                     </th>     <td> </td>   \n",
       "</tr>\n",
       "</table>\n",
       "<table class=\"simpletable\">\n",
       "<tr>\n",
       "          <td></td>             <th>coef</th>     <th>std err</th>      <th>t</th>      <th>P>|t|</th>  <th>[0.025</th>    <th>0.975]</th>  \n",
       "</tr>\n",
       "<tr>\n",
       "  <th>Intercept</th>         <td>   -0.0676</td> <td>    1.546</td> <td>   -0.044</td> <td> 0.965</td> <td>   -3.103</td> <td>    2.968</td>\n",
       "</tr>\n",
       "<tr>\n",
       "  <th>transformed_IPI</th>   <td>   -9.6982</td> <td>    2.536</td> <td>   -3.824</td> <td> 0.000</td> <td>  -14.678</td> <td>   -4.718</td>\n",
       "</tr>\n",
       "<tr>\n",
       "  <th>transformed_tbill</th> <td>   17.7724</td> <td>    5.845</td> <td>    3.041</td> <td> 0.002</td> <td>    6.296</td> <td>   29.249</td>\n",
       "</tr>\n",
       "<tr>\n",
       "  <th>transformed_cd</th>    <td>  -15.6956</td> <td>    4.738</td> <td>   -3.313</td> <td> 0.001</td> <td>  -24.999</td> <td>   -6.393</td>\n",
       "</tr>\n",
       "<tr>\n",
       "  <th>transformed_un</th>    <td>  -14.7124</td> <td>    4.217</td> <td>   -3.489</td> <td> 0.001</td> <td>  -22.992</td> <td>   -6.433</td>\n",
       "</tr>\n",
       "</table>\n",
       "<table class=\"simpletable\">\n",
       "<tr>\n",
       "  <th>Omnibus:</th>       <td>91.732</td> <th>  Durbin-Watson:     </th> <td>   2.251</td> \n",
       "</tr>\n",
       "<tr>\n",
       "  <th>Prob(Omnibus):</th> <td> 0.000</td> <th>  Jarque-Bera (JB):  </th> <td> 939.206</td> \n",
       "</tr>\n",
       "<tr>\n",
       "  <th>Skew:</th>          <td> 0.060</td> <th>  Prob(JB):          </th> <td>1.13e-204</td>\n",
       "</tr>\n",
       "<tr>\n",
       "  <th>Kurtosis:</th>      <td> 8.773</td> <th>  Cond. No.          </th> <td>    4.79</td> \n",
       "</tr>\n",
       "</table><br/><br/>Notes:<br/>[1] Standard Errors assume that the covariance matrix of the errors is correctly specified."
      ],
      "text/plain": [
       "<class 'statsmodels.iolib.summary.Summary'>\n",
       "\"\"\"\n",
       "                            OLS Regression Results                            \n",
       "==============================================================================\n",
       "Dep. Variable:       transformed_y3_2   R-squared:                       0.041\n",
       "Model:                            OLS   Adj. R-squared:                  0.036\n",
       "Method:                 Least Squares   F-statistic:                     7.262\n",
       "Date:                Sun, 31 Oct 2021   Prob (F-statistic):           9.97e-06\n",
       "Time:                        18:54:21   Log-Likelihood:                -3453.0\n",
       "No. Observations:                 676   AIC:                             6916.\n",
       "Df Residuals:                     671   BIC:                             6939.\n",
       "Df Model:                           4                                         \n",
       "Covariance Type:            nonrobust                                         \n",
       "=====================================================================================\n",
       "                        coef    std err          t      P>|t|      [0.025      0.975]\n",
       "-------------------------------------------------------------------------------------\n",
       "Intercept            -0.0676      1.546     -0.044      0.965      -3.103       2.968\n",
       "transformed_IPI      -9.6982      2.536     -3.824      0.000     -14.678      -4.718\n",
       "transformed_tbill    17.7724      5.845      3.041      0.002       6.296      29.249\n",
       "transformed_cd      -15.6956      4.738     -3.313      0.001     -24.999      -6.393\n",
       "transformed_un      -14.7124      4.217     -3.489      0.001     -22.992      -6.433\n",
       "==============================================================================\n",
       "Omnibus:                       91.732   Durbin-Watson:                   2.251\n",
       "Prob(Omnibus):                  0.000   Jarque-Bera (JB):              939.206\n",
       "Skew:                           0.060   Prob(JB):                    1.13e-204\n",
       "Kurtosis:                       8.773   Cond. No.                         4.79\n",
       "==============================================================================\n",
       "\n",
       "Notes:\n",
       "[1] Standard Errors assume that the covariance matrix of the errors is correctly specified.\n",
       "\"\"\""
      ]
     },
     "execution_count": 458,
     "metadata": {},
     "output_type": "execute_result"
    }
   ],
   "source": [
    "model5_1 = ols('transformed_y3_2 ~ transformed_IPI + transformed_tbill + transformed_cd + transformed_un',df10_2).fit()\n",
    "model5_1.summary()"
   ]
  },
  {
   "cell_type": "code",
   "execution_count": 276,
   "id": "08fcf8d8",
   "metadata": {},
   "outputs": [],
   "source": [
    "#Since Durbin watson statistic is now close to 2, we can say that autocorrelation problem has been removed by some extent"
   ]
  },
  {
   "cell_type": "markdown",
   "id": "4c17fccf",
   "metadata": {},
   "source": [
    "### Autoregressive model for correcting autocorrelation"
   ]
  },
  {
   "cell_type": "code",
   "execution_count": 277,
   "id": "5df46b4d",
   "metadata": {},
   "outputs": [],
   "source": [
    "#model6 = ols('SandP ~ Industrial_Production_Index + three_Month_Tbill + three_month_CD_rate + Unemployment_rate + ytminus1',df10).fit()"
   ]
  },
  {
   "cell_type": "code",
   "execution_count": null,
   "id": "9ccb8029",
   "metadata": {},
   "outputs": [],
   "source": [
    "#model6.pvalues"
   ]
  },
  {
   "cell_type": "code",
   "execution_count": 278,
   "id": "b15c4fbc",
   "metadata": {},
   "outputs": [],
   "source": [
    "#durbin_watson(model6.resid)"
   ]
  },
  {
   "cell_type": "code",
   "execution_count": 279,
   "id": "badad627",
   "metadata": {},
   "outputs": [],
   "source": [
    "#since p value of ytminus1 is less than 5 percent, it means that is a significant indpendent variable"
   ]
  },
  {
   "cell_type": "markdown",
   "id": "c654760d",
   "metadata": {},
   "source": [
    "### Linearity Test"
   ]
  },
  {
   "cell_type": "code",
   "execution_count": null,
   "id": "60c67c57",
   "metadata": {},
   "outputs": [],
   "source": [
    "#error1 = model6.resid\n",
    "#error1lag1 = error1.shift(1)\n",
    "#error1lag1[0] = 0"
   ]
  },
  {
   "cell_type": "code",
   "execution_count": null,
   "id": "c9b26453",
   "metadata": {},
   "outputs": [],
   "source": [
    "#introduce x6 and y6 and then add error variables in it"
   ]
  },
  {
   "cell_type": "code",
   "execution_count": 514,
   "id": "bcddae61",
   "metadata": {},
   "outputs": [],
   "source": [
    "df12 = df10_2 + 0"
   ]
  },
  {
   "cell_type": "code",
   "execution_count": 515,
   "id": "6ed62966",
   "metadata": {},
   "outputs": [],
   "source": [
    "cols6 = df12.columns\n",
    "\n",
    "x6 = cols6[1:]\n",
    "y6 = cols6[0:1]\n",
    "y6 = df12[y6]\n",
    "x6 = df12[x6]"
   ]
  },
  {
   "cell_type": "code",
   "execution_count": 510,
   "id": "1aca01a4",
   "metadata": {},
   "outputs": [],
   "source": [
    "#ytminus_y6 = y6.shift(1)\n",
    "#ytminus1_y6 = ytminus_y6.bfill()\n",
    "#ytminus1_y6"
   ]
  },
  {
   "cell_type": "code",
   "execution_count": 516,
   "id": "2f7536c6",
   "metadata": {},
   "outputs": [],
   "source": [
    "df12 = pd.concat([y6,x6],axis = 1)\n",
    "#add ytminus1 column also to df12\n",
    "#df12.head()"
   ]
  },
  {
   "cell_type": "code",
   "execution_count": 283,
   "id": "f2e5a47c",
   "metadata": {},
   "outputs": [],
   "source": [
    "#model7 = ols('error1 ~ Industrial_Production_Index + three_Month_Tbill + three_month_CD_rate + Unemployment_rate + ytminus1_y6 + error1lag1',df12).fit()\n",
    "#model7.pvalues"
   ]
  },
  {
   "cell_type": "code",
   "execution_count": 324,
   "id": "62b9add7",
   "metadata": {},
   "outputs": [],
   "source": [
    "#the p value of error1lag1 is less than 5 percent, it means the problem of autocorrelation is still there. "
   ]
  },
  {
   "cell_type": "code",
   "execution_count": 517,
   "id": "01280bbc",
   "metadata": {},
   "outputs": [
    {
     "data": {
      "text/html": [
       "<div>\n",
       "<style scoped>\n",
       "    .dataframe tbody tr th:only-of-type {\n",
       "        vertical-align: middle;\n",
       "    }\n",
       "\n",
       "    .dataframe tbody tr th {\n",
       "        vertical-align: top;\n",
       "    }\n",
       "\n",
       "    .dataframe thead th {\n",
       "        text-align: right;\n",
       "    }\n",
       "</style>\n",
       "<table border=\"1\" class=\"dataframe\">\n",
       "  <thead>\n",
       "    <tr style=\"text-align: right;\">\n",
       "      <th></th>\n",
       "      <th>SandP</th>\n",
       "      <th>Industrial_Production_Index</th>\n",
       "      <th>three_Month_Tbill</th>\n",
       "      <th>three_month_CD_rate</th>\n",
       "      <th>Unemployment_rate</th>\n",
       "    </tr>\n",
       "  </thead>\n",
       "  <tbody>\n",
       "    <tr>\n",
       "      <th>0</th>\n",
       "      <td>-0.774015</td>\n",
       "      <td>0.303977</td>\n",
       "      <td>-0.168876</td>\n",
       "      <td>0.028146</td>\n",
       "      <td>-0.84438</td>\n",
       "    </tr>\n",
       "    <tr>\n",
       "      <th>1</th>\n",
       "      <td>0.835985</td>\n",
       "      <td>-0.182023</td>\n",
       "      <td>-0.048876</td>\n",
       "      <td>-0.061854</td>\n",
       "      <td>0.25562</td>\n",
       "    </tr>\n",
       "    <tr>\n",
       "      <th>2</th>\n",
       "      <td>0.601738</td>\n",
       "      <td>-0.001971</td>\n",
       "      <td>-0.040000</td>\n",
       "      <td>0.001489</td>\n",
       "      <td>-0.09635</td>\n",
       "    </tr>\n",
       "    <tr>\n",
       "      <th>3</th>\n",
       "      <td>-5.480759</td>\n",
       "      <td>0.044988</td>\n",
       "      <td>-0.066292</td>\n",
       "      <td>-0.037781</td>\n",
       "      <td>0.07781</td>\n",
       "    </tr>\n",
       "    <tr>\n",
       "      <th>4</th>\n",
       "      <td>1.849485</td>\n",
       "      <td>0.053407</td>\n",
       "      <td>0.109635</td>\n",
       "      <td>-0.030365</td>\n",
       "      <td>-0.11854</td>\n",
       "    </tr>\n",
       "    <tr>\n",
       "      <th>...</th>\n",
       "      <td>...</td>\n",
       "      <td>...</td>\n",
       "      <td>...</td>\n",
       "      <td>...</td>\n",
       "      <td>...</td>\n",
       "    </tr>\n",
       "    <tr>\n",
       "      <th>673</th>\n",
       "      <td>178.093020</td>\n",
       "      <td>-0.344435</td>\n",
       "      <td>0.012219</td>\n",
       "      <td>0.028146</td>\n",
       "      <td>0.25927</td>\n",
       "    </tr>\n",
       "    <tr>\n",
       "      <th>674</th>\n",
       "      <td>-121.077793</td>\n",
       "      <td>-0.546488</td>\n",
       "      <td>0.010000</td>\n",
       "      <td>-0.011854</td>\n",
       "      <td>-0.27781</td>\n",
       "    </tr>\n",
       "    <tr>\n",
       "      <th>675</th>\n",
       "      <td>-39.119200</td>\n",
       "      <td>0.094830</td>\n",
       "      <td>0.024073</td>\n",
       "      <td>-0.008146</td>\n",
       "      <td>0.23708</td>\n",
       "    </tr>\n",
       "    <tr>\n",
       "      <th>676</th>\n",
       "      <td>72.488981</td>\n",
       "      <td>0.304051</td>\n",
       "      <td>-0.001854</td>\n",
       "      <td>0.020000</td>\n",
       "      <td>-0.43708</td>\n",
       "    </tr>\n",
       "    <tr>\n",
       "      <th>677</th>\n",
       "      <td>-12.489566</td>\n",
       "      <td>-0.293594</td>\n",
       "      <td>-0.014073</td>\n",
       "      <td>-0.001854</td>\n",
       "      <td>0.05562</td>\n",
       "    </tr>\n",
       "  </tbody>\n",
       "</table>\n",
       "<p>676 rows × 5 columns</p>\n",
       "</div>"
      ],
      "text/plain": [
       "          SandP  Industrial_Production_Index  three_Month_Tbill  \\\n",
       "0     -0.774015                     0.303977          -0.168876   \n",
       "1      0.835985                    -0.182023          -0.048876   \n",
       "2      0.601738                    -0.001971          -0.040000   \n",
       "3     -5.480759                     0.044988          -0.066292   \n",
       "4      1.849485                     0.053407           0.109635   \n",
       "..          ...                          ...                ...   \n",
       "673  178.093020                    -0.344435           0.012219   \n",
       "674 -121.077793                    -0.546488           0.010000   \n",
       "675  -39.119200                     0.094830           0.024073   \n",
       "676   72.488981                     0.304051          -0.001854   \n",
       "677  -12.489566                    -0.293594          -0.014073   \n",
       "\n",
       "     three_month_CD_rate  Unemployment_rate  \n",
       "0               0.028146           -0.84438  \n",
       "1              -0.061854            0.25562  \n",
       "2               0.001489           -0.09635  \n",
       "3              -0.037781            0.07781  \n",
       "4              -0.030365           -0.11854  \n",
       "..                   ...                ...  \n",
       "673             0.028146            0.25927  \n",
       "674            -0.011854           -0.27781  \n",
       "675            -0.008146            0.23708  \n",
       "676             0.020000           -0.43708  \n",
       "677            -0.001854            0.05562  \n",
       "\n",
       "[676 rows x 5 columns]"
      ]
     },
     "execution_count": 517,
     "metadata": {},
     "output_type": "execute_result"
    }
   ],
   "source": [
    "df12"
   ]
  },
  {
   "cell_type": "code",
   "execution_count": 284,
   "id": "c464250e",
   "metadata": {},
   "outputs": [],
   "source": [
    "# the dependent and independent variable should be linearly related\n",
    "#Now I'll go back to regression equation only with ytminus1 as x variable and take out its fitted values\n",
    "#take their square and add that variable as x and regress again with additional x variables - ytminus1 and fittedsquare"
   ]
  },
  {
   "cell_type": "code",
   "execution_count": 472,
   "id": "f309faa4",
   "metadata": {},
   "outputs": [],
   "source": [
    "forecasted_y_5_1 = model5_1.fittedvalues"
   ]
  },
  {
   "cell_type": "code",
   "execution_count": 551,
   "id": "ed5ae0bc",
   "metadata": {},
   "outputs": [
    {
     "data": {
      "text/plain": [
       "Text(0.5, 1.0, 'Actual vs Predicted S&P')"
      ]
     },
     "execution_count": 551,
     "metadata": {},
     "output_type": "execute_result"
    },
    {
     "data": {
      "image/png": "[encoded data removed]",
      "text/plain": [
       "<Figure size 432x288 with 1 Axes>"
      ]
     },
     "metadata": {
      "needs_background": "light"
     },
     "output_type": "display_data"
    }
   ],
   "source": [
    "plt.scatter(transformed_y3_2,forecasted_y_5_1)\n",
    "plt.xlabel('Actual')\n",
    "plt.ylabel('Predicted')\n",
    "plt.title('Actual vs Predicted S&P')"
   ]
  },
  {
   "cell_type": "code",
   "execution_count": 552,
   "id": "3e9e3386",
   "metadata": {},
   "outputs": [
    {
     "data": {
      "text/plain": [
       "Intercept            0.965131\n",
       "transformed_IPI      0.000144\n",
       "transformed_tbill    0.002452\n",
       "transformed_cd       0.000973\n",
       "transformed_un       0.000516\n",
       "dtype: float64"
      ]
     },
     "execution_count": 552,
     "metadata": {},
     "output_type": "execute_result"
    }
   ],
   "source": [
    "model5_1.pvalues"
   ]
  },
  {
   "cell_type": "code",
   "execution_count": null,
   "id": "c3800d81",
   "metadata": {},
   "outputs": [],
   "source": [
    "#Since the plots are not scattered around a 45 degree line, there is a problem of linear relationship in our data"
   ]
  },
  {
   "cell_type": "code",
   "execution_count": null,
   "id": "921f2e6c",
   "metadata": {},
   "outputs": [],
   "source": [
    "#df10_2 is the final dataframe to be worked on"
   ]
  },
  {
   "cell_type": "markdown",
   "id": "ea3e9dc1",
   "metadata": {},
   "source": [
    "### Polynomial regression for correcting Non Linear relationship"
   ]
  },
  {
   "cell_type": "code",
   "execution_count": 518,
   "id": "c477c283",
   "metadata": {},
   "outputs": [],
   "source": [
    "Industrial_Production_Index2 = df12['Industrial_Production_Index'] ** 2\n",
    "three_Month_Tbill2 = df12['three_Month_Tbill'] ** 2\n",
    "three_month_CD_rate2 = df12['three_month_CD_rate'] ** 2\n",
    "Unemployment_rate2 = df12['Unemployment_rate'] ** 2"
   ]
  },
  {
   "cell_type": "code",
   "execution_count": 519,
   "id": "36a5c12e",
   "metadata": {},
   "outputs": [
    {
     "data": {
      "text/html": [
       "<div>\n",
       "<style scoped>\n",
       "    .dataframe tbody tr th:only-of-type {\n",
       "        vertical-align: middle;\n",
       "    }\n",
       "\n",
       "    .dataframe tbody tr th {\n",
       "        vertical-align: top;\n",
       "    }\n",
       "\n",
       "    .dataframe thead th {\n",
       "        text-align: right;\n",
       "    }\n",
       "</style>\n",
       "<table border=\"1\" class=\"dataframe\">\n",
       "  <thead>\n",
       "    <tr style=\"text-align: right;\">\n",
       "      <th></th>\n",
       "      <th>SandP</th>\n",
       "      <th>Industrial_Production_Index</th>\n",
       "      <th>three_Month_Tbill</th>\n",
       "      <th>three_month_CD_rate</th>\n",
       "      <th>Unemployment_rate</th>\n",
       "    </tr>\n",
       "  </thead>\n",
       "  <tbody>\n",
       "    <tr>\n",
       "      <th>0</th>\n",
       "      <td>-0.774015</td>\n",
       "      <td>0.303977</td>\n",
       "      <td>-0.168876</td>\n",
       "      <td>0.028146</td>\n",
       "      <td>-0.84438</td>\n",
       "    </tr>\n",
       "    <tr>\n",
       "      <th>1</th>\n",
       "      <td>0.835985</td>\n",
       "      <td>-0.182023</td>\n",
       "      <td>-0.048876</td>\n",
       "      <td>-0.061854</td>\n",
       "      <td>0.25562</td>\n",
       "    </tr>\n",
       "    <tr>\n",
       "      <th>2</th>\n",
       "      <td>0.601738</td>\n",
       "      <td>-0.001971</td>\n",
       "      <td>-0.040000</td>\n",
       "      <td>0.001489</td>\n",
       "      <td>-0.09635</td>\n",
       "    </tr>\n",
       "    <tr>\n",
       "      <th>3</th>\n",
       "      <td>-5.480759</td>\n",
       "      <td>0.044988</td>\n",
       "      <td>-0.066292</td>\n",
       "      <td>-0.037781</td>\n",
       "      <td>0.07781</td>\n",
       "    </tr>\n",
       "    <tr>\n",
       "      <th>4</th>\n",
       "      <td>1.849485</td>\n",
       "      <td>0.053407</td>\n",
       "      <td>0.109635</td>\n",
       "      <td>-0.030365</td>\n",
       "      <td>-0.11854</td>\n",
       "    </tr>\n",
       "    <tr>\n",
       "      <th>...</th>\n",
       "      <td>...</td>\n",
       "      <td>...</td>\n",
       "      <td>...</td>\n",
       "      <td>...</td>\n",
       "      <td>...</td>\n",
       "    </tr>\n",
       "    <tr>\n",
       "      <th>673</th>\n",
       "      <td>178.093020</td>\n",
       "      <td>-0.344435</td>\n",
       "      <td>0.012219</td>\n",
       "      <td>0.028146</td>\n",
       "      <td>0.25927</td>\n",
       "    </tr>\n",
       "    <tr>\n",
       "      <th>674</th>\n",
       "      <td>-121.077793</td>\n",
       "      <td>-0.546488</td>\n",
       "      <td>0.010000</td>\n",
       "      <td>-0.011854</td>\n",
       "      <td>-0.27781</td>\n",
       "    </tr>\n",
       "    <tr>\n",
       "      <th>675</th>\n",
       "      <td>-39.119200</td>\n",
       "      <td>0.094830</td>\n",
       "      <td>0.024073</td>\n",
       "      <td>-0.008146</td>\n",
       "      <td>0.23708</td>\n",
       "    </tr>\n",
       "    <tr>\n",
       "      <th>676</th>\n",
       "      <td>72.488981</td>\n",
       "      <td>0.304051</td>\n",
       "      <td>-0.001854</td>\n",
       "      <td>0.020000</td>\n",
       "      <td>-0.43708</td>\n",
       "    </tr>\n",
       "    <tr>\n",
       "      <th>677</th>\n",
       "      <td>-12.489566</td>\n",
       "      <td>-0.293594</td>\n",
       "      <td>-0.014073</td>\n",
       "      <td>-0.001854</td>\n",
       "      <td>0.05562</td>\n",
       "    </tr>\n",
       "  </tbody>\n",
       "</table>\n",
       "<p>676 rows × 5 columns</p>\n",
       "</div>"
      ],
      "text/plain": [
       "          SandP  Industrial_Production_Index  three_Month_Tbill  \\\n",
       "0     -0.774015                     0.303977          -0.168876   \n",
       "1      0.835985                    -0.182023          -0.048876   \n",
       "2      0.601738                    -0.001971          -0.040000   \n",
       "3     -5.480759                     0.044988          -0.066292   \n",
       "4      1.849485                     0.053407           0.109635   \n",
       "..          ...                          ...                ...   \n",
       "673  178.093020                    -0.344435           0.012219   \n",
       "674 -121.077793                    -0.546488           0.010000   \n",
       "675  -39.119200                     0.094830           0.024073   \n",
       "676   72.488981                     0.304051          -0.001854   \n",
       "677  -12.489566                    -0.293594          -0.014073   \n",
       "\n",
       "     three_month_CD_rate  Unemployment_rate  \n",
       "0               0.028146           -0.84438  \n",
       "1              -0.061854            0.25562  \n",
       "2               0.001489           -0.09635  \n",
       "3              -0.037781            0.07781  \n",
       "4              -0.030365           -0.11854  \n",
       "..                   ...                ...  \n",
       "673             0.028146            0.25927  \n",
       "674            -0.011854           -0.27781  \n",
       "675            -0.008146            0.23708  \n",
       "676             0.020000           -0.43708  \n",
       "677            -0.001854            0.05562  \n",
       "\n",
       "[676 rows x 5 columns]"
      ]
     },
     "execution_count": 519,
     "metadata": {},
     "output_type": "execute_result"
    }
   ],
   "source": [
    "df13 = df12 + 0\n",
    "\n",
    "cols8 = df13.columns\n",
    "df13"
   ]
  },
  {
   "cell_type": "code",
   "execution_count": 520,
   "id": "077bc503",
   "metadata": {},
   "outputs": [],
   "source": [
    "\n",
    "\n",
    "x8 = cols8[1:]\n",
    "y8 = cols8[0:1]\n",
    "y8 = df13[y8]\n",
    "x8 = df13[x8]\n",
    "\n",
    "x8.loc[:,'Industrial_Production_Index2'] = Industrial_Production_Index2\n",
    "x8.loc[:,'three_Month_Tbill2'] = three_Month_Tbill2\n",
    "x8.loc[:,'three_month_CD_rate2'] = three_month_CD_rate2\n",
    "x8.loc[:,'Unemployment_rate2'] = Unemployment_rate2\n",
    "\n",
    "\n",
    "df13 = pd.concat([y8,x8],axis = 1)"
   ]
  },
  {
   "cell_type": "code",
   "execution_count": 521,
   "id": "60316a37",
   "metadata": {},
   "outputs": [
    {
     "data": {
      "text/html": [
       "<div>\n",
       "<style scoped>\n",
       "    .dataframe tbody tr th:only-of-type {\n",
       "        vertical-align: middle;\n",
       "    }\n",
       "\n",
       "    .dataframe tbody tr th {\n",
       "        vertical-align: top;\n",
       "    }\n",
       "\n",
       "    .dataframe thead th {\n",
       "        text-align: right;\n",
       "    }\n",
       "</style>\n",
       "<table border=\"1\" class=\"dataframe\">\n",
       "  <thead>\n",
       "    <tr style=\"text-align: right;\">\n",
       "      <th></th>\n",
       "      <th>SandP</th>\n",
       "      <th>Industrial_Production_Index</th>\n",
       "      <th>three_Month_Tbill</th>\n",
       "      <th>three_month_CD_rate</th>\n",
       "      <th>Unemployment_rate</th>\n",
       "      <th>Industrial_Production_Index2</th>\n",
       "      <th>three_Month_Tbill2</th>\n",
       "      <th>three_month_CD_rate2</th>\n",
       "      <th>Unemployment_rate2</th>\n",
       "    </tr>\n",
       "  </thead>\n",
       "  <tbody>\n",
       "    <tr>\n",
       "      <th>0</th>\n",
       "      <td>-0.774015</td>\n",
       "      <td>0.303977</td>\n",
       "      <td>-0.168876</td>\n",
       "      <td>0.028146</td>\n",
       "      <td>-0.84438</td>\n",
       "      <td>0.092402</td>\n",
       "      <td>0.028519</td>\n",
       "      <td>0.000792</td>\n",
       "      <td>0.712978</td>\n",
       "    </tr>\n",
       "    <tr>\n",
       "      <th>1</th>\n",
       "      <td>0.835985</td>\n",
       "      <td>-0.182023</td>\n",
       "      <td>-0.048876</td>\n",
       "      <td>-0.061854</td>\n",
       "      <td>0.25562</td>\n",
       "      <td>0.033132</td>\n",
       "      <td>0.002389</td>\n",
       "      <td>0.003826</td>\n",
       "      <td>0.065342</td>\n",
       "    </tr>\n",
       "    <tr>\n",
       "      <th>2</th>\n",
       "      <td>0.601738</td>\n",
       "      <td>-0.001971</td>\n",
       "      <td>-0.040000</td>\n",
       "      <td>0.001489</td>\n",
       "      <td>-0.09635</td>\n",
       "      <td>0.000004</td>\n",
       "      <td>0.001600</td>\n",
       "      <td>0.000002</td>\n",
       "      <td>0.009283</td>\n",
       "    </tr>\n",
       "    <tr>\n",
       "      <th>3</th>\n",
       "      <td>-5.480759</td>\n",
       "      <td>0.044988</td>\n",
       "      <td>-0.066292</td>\n",
       "      <td>-0.037781</td>\n",
       "      <td>0.07781</td>\n",
       "      <td>0.002024</td>\n",
       "      <td>0.004395</td>\n",
       "      <td>0.001427</td>\n",
       "      <td>0.006054</td>\n",
       "    </tr>\n",
       "    <tr>\n",
       "      <th>4</th>\n",
       "      <td>1.849485</td>\n",
       "      <td>0.053407</td>\n",
       "      <td>0.109635</td>\n",
       "      <td>-0.030365</td>\n",
       "      <td>-0.11854</td>\n",
       "      <td>0.002852</td>\n",
       "      <td>0.012020</td>\n",
       "      <td>0.000922</td>\n",
       "      <td>0.014052</td>\n",
       "    </tr>\n",
       "  </tbody>\n",
       "</table>\n",
       "</div>"
      ],
      "text/plain": [
       "      SandP  Industrial_Production_Index  three_Month_Tbill  \\\n",
       "0 -0.774015                     0.303977          -0.168876   \n",
       "1  0.835985                    -0.182023          -0.048876   \n",
       "2  0.601738                    -0.001971          -0.040000   \n",
       "3 -5.480759                     0.044988          -0.066292   \n",
       "4  1.849485                     0.053407           0.109635   \n",
       "\n",
       "   three_month_CD_rate  Unemployment_rate  Industrial_Production_Index2  \\\n",
       "0             0.028146           -0.84438                      0.092402   \n",
       "1            -0.061854            0.25562                      0.033132   \n",
       "2             0.001489           -0.09635                      0.000004   \n",
       "3            -0.037781            0.07781                      0.002024   \n",
       "4            -0.030365           -0.11854                      0.002852   \n",
       "\n",
       "   three_Month_Tbill2  three_month_CD_rate2  Unemployment_rate2  \n",
       "0            0.028519              0.000792            0.712978  \n",
       "1            0.002389              0.003826            0.065342  \n",
       "2            0.001600              0.000002            0.009283  \n",
       "3            0.004395              0.001427            0.006054  \n",
       "4            0.012020              0.000922            0.014052  "
      ]
     },
     "execution_count": 521,
     "metadata": {},
     "output_type": "execute_result"
    }
   ],
   "source": [
    "df13.head()"
   ]
  },
  {
   "cell_type": "code",
   "execution_count": 522,
   "id": "bf23ff98",
   "metadata": {},
   "outputs": [],
   "source": [
    "model9 = ols('SandP ~ Industrial_Production_Index + three_Month_Tbill + three_month_CD_rate + Unemployment_rate + Industrial_Production_Index2 + three_Month_Tbill2 + three_month_CD_rate2 + Unemployment_rate2',df13).fit()"
   ]
  },
  {
   "cell_type": "code",
   "execution_count": 523,
   "id": "b1b532c4",
   "metadata": {},
   "outputs": [
    {
     "data": {
      "text/plain": [
       "Intercept                       0.776631\n",
       "Industrial_Production_Index     0.001453\n",
       "three_Month_Tbill               0.002839\n",
       "three_month_CD_rate             0.001360\n",
       "Unemployment_rate               0.003718\n",
       "Industrial_Production_Index2    0.176981\n",
       "three_Month_Tbill2              0.931680\n",
       "three_month_CD_rate2            0.904446\n",
       "Unemployment_rate2              0.429704\n",
       "dtype: float64"
      ]
     },
     "execution_count": 523,
     "metadata": {},
     "output_type": "execute_result"
    }
   ],
   "source": [
    "model9.pvalues"
   ]
  },
  {
   "cell_type": "code",
   "execution_count": 524,
   "id": "68a9f67b",
   "metadata": {
    "scrolled": true
   },
   "outputs": [],
   "source": [
    "p_value5 = list(model9.pvalues)\n",
    "df14 = df13 + 0\n",
    "cols9 = df14.columns"
   ]
  },
  {
   "cell_type": "code",
   "execution_count": 525,
   "id": "0dd8cbd3",
   "metadata": {},
   "outputs": [],
   "source": [
    "max_value5 = cols9[p_value5.index(max(p_value5[1:]))]"
   ]
  },
  {
   "cell_type": "code",
   "execution_count": 526,
   "id": "87cda74f",
   "metadata": {},
   "outputs": [
    {
     "name": "stdout",
     "output_type": "stream",
     "text": [
      "Drop the variable three_Month_Tbill2\n"
     ]
    }
   ],
   "source": [
    "if max(p_value5[1:]) > 0.05:\n",
    "    max_value5 = cols9[p_value5.index(max(p_value5[1:]))]\n",
    "    print('Drop the variable ' + str(max_value5))"
   ]
  },
  {
   "cell_type": "code",
   "execution_count": 527,
   "id": "b7e018e2",
   "metadata": {},
   "outputs": [],
   "source": [
    "df15 = df14.drop(columns=['three_Month_Tbill2'])"
   ]
  },
  {
   "cell_type": "code",
   "execution_count": 531,
   "id": "4d09a211",
   "metadata": {},
   "outputs": [],
   "source": [
    "model10 = ols('SandP ~ Industrial_Production_Index + three_Month_Tbill + three_month_CD_rate + Unemployment_rate + Industrial_Production_Index2 + three_month_CD_rate2 + Unemployment_rate2',df15).fit()"
   ]
  },
  {
   "cell_type": "code",
   "execution_count": 532,
   "id": "b505fe89",
   "metadata": {},
   "outputs": [
    {
     "data": {
      "text/plain": [
       "Intercept                       0.781205\n",
       "Industrial_Production_Index     0.001445\n",
       "three_Month_Tbill               0.002799\n",
       "three_month_CD_rate             0.001175\n",
       "Unemployment_rate               0.003652\n",
       "Industrial_Production_Index2    0.177107\n",
       "three_month_CD_rate2            0.677065\n",
       "Unemployment_rate2              0.430871\n",
       "dtype: float64"
      ]
     },
     "execution_count": 532,
     "metadata": {},
     "output_type": "execute_result"
    }
   ],
   "source": [
    "model10.pvalues"
   ]
  },
  {
   "cell_type": "code",
   "execution_count": 533,
   "id": "4778e8d1",
   "metadata": {},
   "outputs": [
    {
     "name": "stdout",
     "output_type": "stream",
     "text": [
      "Drop the variable three_month_CD_rate2\n"
     ]
    }
   ],
   "source": [
    "p_value6 = list(model10.pvalues)\n",
    "df16 = df15 + 0\n",
    "cols10 = df16.columns\n",
    "\n",
    "if max(p_value6[1:]) > 0.05:\n",
    "    max_value6 = cols10[p_value6.index(max(p_value6[1:]))]\n",
    "    print('Drop the variable ' + str(max_value6))"
   ]
  },
  {
   "cell_type": "code",
   "execution_count": 535,
   "id": "8410e400",
   "metadata": {},
   "outputs": [],
   "source": [
    "df16_1 = df16.drop(columns=['three_month_CD_rate2'])\n",
    "\n",
    "model11 = ols('SandP ~ Industrial_Production_Index + three_Month_Tbill + three_month_CD_rate + Unemployment_rate + Industrial_Production_Index2 + Unemployment_rate2',df16_1).fit()"
   ]
  },
  {
   "cell_type": "code",
   "execution_count": 536,
   "id": "47ca45a0",
   "metadata": {},
   "outputs": [
    {
     "name": "stdout",
     "output_type": "stream",
     "text": [
      "Drop the variable Unemployment_rate2\n"
     ]
    }
   ],
   "source": [
    "p_value7 = list(model11.pvalues)\n",
    "df17 = df16_1 + 0\n",
    "cols11 = df17.columns\n",
    "\n",
    "if max(p_value7[1:]) > 0.05:\n",
    "    max_value7 = cols11[p_value7.index(max(p_value7[1:]))]\n",
    "    print('Drop the variable ' + str(max_value7))"
   ]
  },
  {
   "cell_type": "code",
   "execution_count": 538,
   "id": "93c340cd",
   "metadata": {},
   "outputs": [],
   "source": [
    "df17_1 = df17.drop(columns=['Unemployment_rate2'])\n",
    "\n",
    "model12 = ols('SandP ~ Industrial_Production_Index + three_Month_Tbill + three_month_CD_rate + Unemployment_rate + Industrial_Production_Index2',df17_1).fit()"
   ]
  },
  {
   "cell_type": "code",
   "execution_count": 540,
   "id": "ca101233",
   "metadata": {},
   "outputs": [
    {
     "data": {
      "text/plain": [
       "Intercept                       0.911604\n",
       "Industrial_Production_Index     0.001060\n",
       "three_Month_Tbill               0.002359\n",
       "three_month_CD_rate             0.000772\n",
       "Unemployment_rate               0.002148\n",
       "Industrial_Production_Index2    0.189630\n",
       "dtype: float64"
      ]
     },
     "execution_count": 540,
     "metadata": {},
     "output_type": "execute_result"
    }
   ],
   "source": [
    "model12.pvalues"
   ]
  },
  {
   "cell_type": "code",
   "execution_count": null,
   "id": "a39cdb4d",
   "metadata": {},
   "outputs": [],
   "source": []
  },
  {
   "cell_type": "code",
   "execution_count": 542,
   "id": "d8ecc9a6",
   "metadata": {},
   "outputs": [
    {
     "name": "stdout",
     "output_type": "stream",
     "text": [
      "Drop the variable Industrial_Production_Index2\n"
     ]
    }
   ],
   "source": [
    "p_value8 = list(model12.pvalues)\n",
    "df18 = df17_1 + 0\n",
    "cols12 = df18.columns\n",
    "\n",
    "if max(p_value8[1:]) > 0.05:\n",
    "    max_value8 = cols12[p_value8.index(max(p_value8[1:]))]\n",
    "    print('Drop the variable ' + str(max_value8))\n",
    "else:\n",
    "    print('No valriable to be dropped')"
   ]
  },
  {
   "cell_type": "code",
   "execution_count": 544,
   "id": "834adf37",
   "metadata": {},
   "outputs": [],
   "source": [
    "df19 = df18.drop(columns=['Industrial_Production_Index2'])\n",
    "\n",
    "model12_1 = ols('SandP ~ Industrial_Production_Index + three_Month_Tbill + three_month_CD_rate + Unemployment_rate',df19).fit()"
   ]
  },
  {
   "cell_type": "code",
   "execution_count": 545,
   "id": "840ea454",
   "metadata": {},
   "outputs": [
    {
     "data": {
      "text/plain": [
       "Intercept                      0.965131\n",
       "Industrial_Production_Index    0.000144\n",
       "three_Month_Tbill              0.002452\n",
       "three_month_CD_rate            0.000973\n",
       "Unemployment_rate              0.000516\n",
       "dtype: float64"
      ]
     },
     "execution_count": 545,
     "metadata": {},
     "output_type": "execute_result"
    }
   ],
   "source": [
    "model12_1.pvalues"
   ]
  },
  {
   "cell_type": "code",
   "execution_count": null,
   "id": "cff5dbb4",
   "metadata": {},
   "outputs": [],
   "source": []
  },
  {
   "cell_type": "code",
   "execution_count": 546,
   "id": "432f61fe",
   "metadata": {},
   "outputs": [
    {
     "data": {
      "text/html": [
       "<div>\n",
       "<style scoped>\n",
       "    .dataframe tbody tr th:only-of-type {\n",
       "        vertical-align: middle;\n",
       "    }\n",
       "\n",
       "    .dataframe tbody tr th {\n",
       "        vertical-align: top;\n",
       "    }\n",
       "\n",
       "    .dataframe thead th {\n",
       "        text-align: right;\n",
       "    }\n",
       "</style>\n",
       "<table border=\"1\" class=\"dataframe\">\n",
       "  <thead>\n",
       "    <tr style=\"text-align: right;\">\n",
       "      <th></th>\n",
       "      <th>SandP</th>\n",
       "      <th>Industrial_Production_Index</th>\n",
       "      <th>three_Month_Tbill</th>\n",
       "      <th>three_month_CD_rate</th>\n",
       "      <th>Unemployment_rate</th>\n",
       "    </tr>\n",
       "  </thead>\n",
       "  <tbody>\n",
       "    <tr>\n",
       "      <th>0</th>\n",
       "      <td>-0.774015</td>\n",
       "      <td>0.303977</td>\n",
       "      <td>-0.168876</td>\n",
       "      <td>0.028146</td>\n",
       "      <td>-0.84438</td>\n",
       "    </tr>\n",
       "    <tr>\n",
       "      <th>1</th>\n",
       "      <td>0.835985</td>\n",
       "      <td>-0.182023</td>\n",
       "      <td>-0.048876</td>\n",
       "      <td>-0.061854</td>\n",
       "      <td>0.25562</td>\n",
       "    </tr>\n",
       "    <tr>\n",
       "      <th>2</th>\n",
       "      <td>0.601738</td>\n",
       "      <td>-0.001971</td>\n",
       "      <td>-0.040000</td>\n",
       "      <td>0.001489</td>\n",
       "      <td>-0.09635</td>\n",
       "    </tr>\n",
       "    <tr>\n",
       "      <th>3</th>\n",
       "      <td>-5.480759</td>\n",
       "      <td>0.044988</td>\n",
       "      <td>-0.066292</td>\n",
       "      <td>-0.037781</td>\n",
       "      <td>0.07781</td>\n",
       "    </tr>\n",
       "    <tr>\n",
       "      <th>4</th>\n",
       "      <td>1.849485</td>\n",
       "      <td>0.053407</td>\n",
       "      <td>0.109635</td>\n",
       "      <td>-0.030365</td>\n",
       "      <td>-0.11854</td>\n",
       "    </tr>\n",
       "    <tr>\n",
       "      <th>...</th>\n",
       "      <td>...</td>\n",
       "      <td>...</td>\n",
       "      <td>...</td>\n",
       "      <td>...</td>\n",
       "      <td>...</td>\n",
       "    </tr>\n",
       "    <tr>\n",
       "      <th>673</th>\n",
       "      <td>178.093020</td>\n",
       "      <td>-0.344435</td>\n",
       "      <td>0.012219</td>\n",
       "      <td>0.028146</td>\n",
       "      <td>0.25927</td>\n",
       "    </tr>\n",
       "    <tr>\n",
       "      <th>674</th>\n",
       "      <td>-121.077793</td>\n",
       "      <td>-0.546488</td>\n",
       "      <td>0.010000</td>\n",
       "      <td>-0.011854</td>\n",
       "      <td>-0.27781</td>\n",
       "    </tr>\n",
       "    <tr>\n",
       "      <th>675</th>\n",
       "      <td>-39.119200</td>\n",
       "      <td>0.094830</td>\n",
       "      <td>0.024073</td>\n",
       "      <td>-0.008146</td>\n",
       "      <td>0.23708</td>\n",
       "    </tr>\n",
       "    <tr>\n",
       "      <th>676</th>\n",
       "      <td>72.488981</td>\n",
       "      <td>0.304051</td>\n",
       "      <td>-0.001854</td>\n",
       "      <td>0.020000</td>\n",
       "      <td>-0.43708</td>\n",
       "    </tr>\n",
       "    <tr>\n",
       "      <th>677</th>\n",
       "      <td>-12.489566</td>\n",
       "      <td>-0.293594</td>\n",
       "      <td>-0.014073</td>\n",
       "      <td>-0.001854</td>\n",
       "      <td>0.05562</td>\n",
       "    </tr>\n",
       "  </tbody>\n",
       "</table>\n",
       "<p>676 rows × 5 columns</p>\n",
       "</div>"
      ],
      "text/plain": [
       "          SandP  Industrial_Production_Index  three_Month_Tbill  \\\n",
       "0     -0.774015                     0.303977          -0.168876   \n",
       "1      0.835985                    -0.182023          -0.048876   \n",
       "2      0.601738                    -0.001971          -0.040000   \n",
       "3     -5.480759                     0.044988          -0.066292   \n",
       "4      1.849485                     0.053407           0.109635   \n",
       "..          ...                          ...                ...   \n",
       "673  178.093020                    -0.344435           0.012219   \n",
       "674 -121.077793                    -0.546488           0.010000   \n",
       "675  -39.119200                     0.094830           0.024073   \n",
       "676   72.488981                     0.304051          -0.001854   \n",
       "677  -12.489566                    -0.293594          -0.014073   \n",
       "\n",
       "     three_month_CD_rate  Unemployment_rate  \n",
       "0               0.028146           -0.84438  \n",
       "1              -0.061854            0.25562  \n",
       "2               0.001489           -0.09635  \n",
       "3              -0.037781            0.07781  \n",
       "4              -0.030365           -0.11854  \n",
       "..                   ...                ...  \n",
       "673             0.028146            0.25927  \n",
       "674            -0.011854           -0.27781  \n",
       "675            -0.008146            0.23708  \n",
       "676             0.020000           -0.43708  \n",
       "677            -0.001854            0.05562  \n",
       "\n",
       "[676 rows x 5 columns]"
      ]
     },
     "execution_count": 546,
     "metadata": {},
     "output_type": "execute_result"
    }
   ],
   "source": [
    "df19"
   ]
  },
  {
   "cell_type": "code",
   "execution_count": null,
   "id": "39c228c0",
   "metadata": {},
   "outputs": [],
   "source": [
    "#now we can see that there is no variable to drop anymore"
   ]
  },
  {
   "cell_type": "code",
   "execution_count": 547,
   "id": "42809fa0",
   "metadata": {},
   "outputs": [],
   "source": [
    "fitted_model12_1 = model12_1.fittedvalues"
   ]
  },
  {
   "cell_type": "code",
   "execution_count": 548,
   "id": "0a38fcb7",
   "metadata": {},
   "outputs": [],
   "source": [
    "df19.loc[:,'fitted model12_1'] = fitted_model12_1"
   ]
  },
  {
   "cell_type": "code",
   "execution_count": 550,
   "id": "45e9757f",
   "metadata": {},
   "outputs": [
    {
     "data": {
      "text/plain": [
       "Text(0.5, 1.0, 'Actual vs Predicted S&P')"
      ]
     },
     "execution_count": 550,
     "metadata": {},
     "output_type": "execute_result"
    },
    {
     "data": {
      "image/png": "[encoded data removed]",
      "text/plain": [
       "<Figure size 432x288 with 1 Axes>"
      ]
     },
     "metadata": {
      "needs_background": "light"
     },
     "output_type": "display_data"
    }
   ],
   "source": [
    "plt.scatter(df19.SandP,fitted_model12_1)\n",
    "\n",
    "plt.xlabel('Actual')\n",
    "plt.ylabel('Predicted')\n",
    "plt.title('Actual vs Predicted S&P')"
   ]
  },
  {
   "cell_type": "markdown",
   "id": "c80818f0",
   "metadata": {},
   "source": [
    "### Hateroskedasticity check - Breusch pagan test"
   ]
  },
  {
   "cell_type": "code",
   "execution_count": 563,
   "id": "c591d43c",
   "metadata": {},
   "outputs": [],
   "source": [
    "#Error terms should have a constant variance\n",
    "#If chi sq statistic is less than chi sq critical, then there is no problem of hateroskedasticity\n"
   ]
  },
  {
   "cell_type": "code",
   "execution_count": 571,
   "id": "6a93587d",
   "metadata": {},
   "outputs": [
    {
     "data": {
      "text/plain": [
       "[('Lagrange multiplier statistic', 2.750923557231835),\n",
       " ('p-value', 0.6003335107599259),\n",
       " ('f-value', 0.6854334344784908),\n",
       " ('f p-value', 0.6021950567555951)]"
      ]
     },
     "execution_count": 571,
     "metadata": {},
     "output_type": "execute_result"
    }
   ],
   "source": [
    "names = ['Lagrange multiplier statistic', 'p-value','f-value', 'f p-value']\n",
    "test = sms.het_breuschpagan(model12_1.resid, model12_1.model.exog)\n",
    "lzip(names, test)\n",
    "\n",
    "#https://www.statology.org/breusch-pagan-test-python/"
   ]
  },
  {
   "cell_type": "code",
   "execution_count": 559,
   "id": "f70c2444",
   "metadata": {},
   "outputs": [
    {
     "data": {
      "text/html": [
       "<div>\n",
       "<style scoped>\n",
       "    .dataframe tbody tr th:only-of-type {\n",
       "        vertical-align: middle;\n",
       "    }\n",
       "\n",
       "    .dataframe tbody tr th {\n",
       "        vertical-align: top;\n",
       "    }\n",
       "\n",
       "    .dataframe thead th {\n",
       "        text-align: right;\n",
       "    }\n",
       "</style>\n",
       "<table border=\"1\" class=\"dataframe\">\n",
       "  <thead>\n",
       "    <tr style=\"text-align: right;\">\n",
       "      <th></th>\n",
       "      <th>SandP</th>\n",
       "      <th>Industrial_Production_Index</th>\n",
       "      <th>three_Month_Tbill</th>\n",
       "      <th>three_month_CD_rate</th>\n",
       "      <th>Unemployment_rate</th>\n",
       "      <th>fitted model12_1</th>\n",
       "      <th>error2sq</th>\n",
       "    </tr>\n",
       "  </thead>\n",
       "  <tbody>\n",
       "    <tr>\n",
       "      <th>0</th>\n",
       "      <td>-0.774015</td>\n",
       "      <td>0.303977</td>\n",
       "      <td>-0.168876</td>\n",
       "      <td>0.028146</td>\n",
       "      <td>-0.84438</td>\n",
       "      <td>5.964109</td>\n",
       "      <td>45.402314</td>\n",
       "    </tr>\n",
       "    <tr>\n",
       "      <th>1</th>\n",
       "      <td>0.835985</td>\n",
       "      <td>-0.182023</td>\n",
       "      <td>-0.048876</td>\n",
       "      <td>-0.061854</td>\n",
       "      <td>0.25562</td>\n",
       "      <td>-1.960894</td>\n",
       "      <td>7.822532</td>\n",
       "    </tr>\n",
       "    <tr>\n",
       "      <th>2</th>\n",
       "      <td>0.601738</td>\n",
       "      <td>-0.001971</td>\n",
       "      <td>-0.040000</td>\n",
       "      <td>0.001489</td>\n",
       "      <td>-0.09635</td>\n",
       "      <td>0.634784</td>\n",
       "      <td>0.001092</td>\n",
       "    </tr>\n",
       "    <tr>\n",
       "      <th>3</th>\n",
       "      <td>-5.480759</td>\n",
       "      <td>0.044988</td>\n",
       "      <td>-0.066292</td>\n",
       "      <td>-0.037781</td>\n",
       "      <td>0.07781</td>\n",
       "      <td>-2.233847</td>\n",
       "      <td>10.542439</td>\n",
       "    </tr>\n",
       "    <tr>\n",
       "      <th>4</th>\n",
       "      <td>1.849485</td>\n",
       "      <td>0.053407</td>\n",
       "      <td>0.109635</td>\n",
       "      <td>-0.030365</td>\n",
       "      <td>-0.11854</td>\n",
       "      <td>3.583520</td>\n",
       "      <td>3.006876</td>\n",
       "    </tr>\n",
       "  </tbody>\n",
       "</table>\n",
       "</div>"
      ],
      "text/plain": [
       "      SandP  Industrial_Production_Index  three_Month_Tbill  \\\n",
       "0 -0.774015                     0.303977          -0.168876   \n",
       "1  0.835985                    -0.182023          -0.048876   \n",
       "2  0.601738                    -0.001971          -0.040000   \n",
       "3 -5.480759                     0.044988          -0.066292   \n",
       "4  1.849485                     0.053407           0.109635   \n",
       "\n",
       "   three_month_CD_rate  Unemployment_rate  fitted model12_1   error2sq  \n",
       "0             0.028146           -0.84438          5.964109  45.402314  \n",
       "1            -0.061854            0.25562         -1.960894   7.822532  \n",
       "2             0.001489           -0.09635          0.634784   0.001092  \n",
       "3            -0.037781            0.07781         -2.233847  10.542439  \n",
       "4            -0.030365           -0.11854          3.583520   3.006876  "
      ]
     },
     "execution_count": 559,
     "metadata": {},
     "output_type": "execute_result"
    }
   ],
   "source": [
    "error2 = model12_1.resid\n",
    "error2sq = model12_1.resid ** 2\n",
    "\n",
    "df20 = df19 + 0\n",
    "df20.loc[:,'error2sq'] = error2sq\n",
    "df20.head()"
   ]
  },
  {
   "cell_type": "code",
   "execution_count": 554,
   "id": "5c407709",
   "metadata": {},
   "outputs": [],
   "source": [
    "model13 = ols('error2sq ~ Industrial_Production_Index + three_Month_Tbill + three_month_CD_rate + Unemployment_rate',df20).fit()"
   ]
  },
  {
   "cell_type": "code",
   "execution_count": 555,
   "id": "23f28f87",
   "metadata": {},
   "outputs": [
    {
     "data": {
      "text/plain": [
       "676"
      ]
     },
     "execution_count": 555,
     "metadata": {},
     "output_type": "execute_result"
    }
   ],
   "source": [
    "df20.SandP.count()"
   ]
  },
  {
   "cell_type": "code",
   "execution_count": 556,
   "id": "6deb2cb2",
   "metadata": {},
   "outputs": [
    {
     "data": {
      "text/plain": [
       "2.750923557231835"
      ]
     },
     "execution_count": 556,
     "metadata": {},
     "output_type": "execute_result"
    }
   ],
   "source": [
    "chi_sq_stats = df20.SandP.count()*model13.rsquared\n",
    "chi_sq_stats"
   ]
  },
  {
   "cell_type": "code",
   "execution_count": 560,
   "id": "ad745f38",
   "metadata": {},
   "outputs": [
    {
     "data": {
      "text/plain": [
       "3.8414588206941285"
      ]
     },
     "execution_count": 560,
     "metadata": {},
     "output_type": "execute_result"
    }
   ],
   "source": [
    "chi_critical = chi2.isf(q=0.05, df = 1)\n",
    "chi_critical"
   ]
  },
  {
   "cell_type": "code",
   "execution_count": null,
   "id": "07abea51",
   "metadata": {},
   "outputs": [],
   "source": [
    "#since chi_sq_stats is less than chi_critical, out model is not hateroskedastic, our model is fine"
   ]
  },
  {
   "cell_type": "markdown",
   "id": "d3fa4bbd",
   "metadata": {},
   "source": [
    "### Error terms should be normally distributed"
   ]
  },
  {
   "cell_type": "code",
   "execution_count": 572,
   "id": "457b8b39",
   "metadata": {},
   "outputs": [
    {
     "data": {
      "image/png": "[encoded data removed]",
      "text/plain": [
       "<Figure size 432x288 with 1 Axes>"
      ]
     },
     "metadata": {
      "needs_background": "light"
     },
     "output_type": "display_data"
    }
   ],
   "source": [
    "plt.hist(error2)\n",
    "plt.show()"
   ]
  },
  {
   "cell_type": "markdown",
   "id": "8d5bc9cd",
   "metadata": {},
   "source": [
    "### Principal Component Analysis"
   ]
  },
  {
   "cell_type": "code",
   "execution_count": null,
   "id": "8755bb7c",
   "metadata": {},
   "outputs": [],
   "source": [
    "cols_1 = df.columns\n",
    "\n",
    "y_1 = cols[1]\n",
    "y_1 = df[y_1]\n",
    "x_1 = cols[2:11]\n",
    "x_1 = df[x_1]"
   ]
  },
  {
   "cell_type": "code",
   "execution_count": null,
   "id": "30eab09a",
   "metadata": {},
   "outputs": [],
   "source": [
    "X_std = StandardScaler().fit_transform(x_1)\n",
    "pca = PCA().fit(X_std)"
   ]
  },
  {
   "cell_type": "code",
   "execution_count": null,
   "id": "52b1dbec",
   "metadata": {},
   "outputs": [],
   "source": [
    "np.cumsum(pca.explained_variance_ratio_)\n",
    "#cumulative contributions - obviously this will add up to 1 in the end"
   ]
  },
  {
   "cell_type": "code",
   "execution_count": null,
   "id": "5f870022",
   "metadata": {},
   "outputs": [],
   "source": [
    "pca.explained_variance_ratio_\n",
    "#individual contributions"
   ]
  },
  {
   "cell_type": "code",
   "execution_count": null,
   "id": "89aedfc9",
   "metadata": {},
   "outputs": [],
   "source": [
    "pca = PCA(n_components=5)\n",
    "X_pca = pca.fit_transform(X_std)"
   ]
  },
  {
   "cell_type": "code",
   "execution_count": null,
   "id": "734f73b9",
   "metadata": {},
   "outputs": [],
   "source": [
    "X_pca_with_constant = sm.add_constant(X_pca)\n",
    "model14 = sm.OLS(y_1,X_pca_with_constant)"
   ]
  },
  {
   "cell_type": "code",
   "execution_count": null,
   "id": "4b85655a",
   "metadata": {},
   "outputs": [],
   "source": [
    "results14 = model14.fit()\n",
    "print(results14.summary())"
   ]
  },
  {
   "cell_type": "code",
   "execution_count": null,
   "id": "5208be54",
   "metadata": {},
   "outputs": [],
   "source": [
    "#https://www.youtube.com/watch?v=7A6vukBvooE\n",
    "#https://github.com/bhattbhavesh91/pca-multicollinearity/blob/master/multi-collinearity-pca-notebook.ipynb"
   ]
  },
  {
   "cell_type": "code",
   "execution_count": null,
   "id": "16255b94",
   "metadata": {},
   "outputs": [],
   "source": []
  },
  {
   "cell_type": "code",
   "execution_count": null,
   "id": "8d73ac5c",
   "metadata": {},
   "outputs": [],
   "source": []
  }
 ],
 "metadata": {
  "kernelspec": {
   "display_name": "Python 3",
   "language": "python",
   "name": "python3"
  },
  "language_info": {
   "codemirror_mode": {
    "name": "ipython",
    "version": 3
   },
   "file_extension": ".py",
   "mimetype": "text/x-python",
   "name": "python",
   "nbconvert_exporter": "python",
   "pygments_lexer": "ipython3",
   "version": "3.8.8"
  }
 },
 "nbformat": 4,
 "nbformat_minor": 5
}
